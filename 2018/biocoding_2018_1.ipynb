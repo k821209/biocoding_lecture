{
 "cells": [
  {
   "cell_type": "markdown",
   "metadata": {},
   "source": [
    "# 1. 코딩 가능한 생물학적 현상의 예 <p>\n",
    "\n",
    "<U>제한효소 (restriction enzyme)**</U>\n",
    "\n",
    " \"..이중 가닥 DNA 분자의 특정한 염기서열을 인식하여 그 부분이나 그 주변을 절단하는 것을 촉매하는 효소를 지칭한다..\" [위키피디아](https://ko.wikipedia.org/wiki/%EC%A0%9C%ED%95%9C_%ED%9A%A8%EC%86%8C)\n",
    " \n",
    " <img src=\"./pic_170830/re1.jpg\" width=\"400\" height=\"400\" align=\"left\"></img>"
   ]
  },
  {
   "cell_type": "markdown",
   "metadata": {},
   "source": [
    "특징 : **매우 정확하고 다양하다** "
   ]
  },
  {
   "cell_type": "markdown",
   "metadata": {},
   "source": [
    "REBASE version 403 http://rebase.neb.com\n",
    "```coffee\n",
    "AatII,gacgt/c\n",
    "AbsI,cc/tcgagg\n",
    "Acc65I,g/gtacc\n",
    "AclI,aa/cgtt\n",
    "AfeI,agc/gct\n",
    "AflII,c/ttaag\n",
    "AgeI,a/ccggt\n",
    "AluI,ag/ct\n",
    "AoxI,/ggcc\n",
    "ApaI,gggcc/c\n",
    "ApaLI,g/tgcac\n",
    "AscI,gg/cgcgcc\n",
    "AseI,at/taat\n",
    "Asi256I,g/atc\n",
    "AsiSI,gcgat/cgc\n",
    "AvrII,c/ctagg\n",
    "BamHI,g/gatcc\n",
    "BclI,t/gatca\n",
    "BfaI,c/tag\n",
    "BglII,a/gatct\n",
    "BmtI,gctag/c\n",
    "BsiWI,c/gtacg\n",
    "BspEI,t/ccgga\n",
    "BspHI,t/catga\n",
    "BsrGI,t/gtaca\n",
    "BssHII,g/cgcgc\n",
    "BstBI,tt/cgaa\n",
    "```"
   ]
  },
  {
   "cell_type": "markdown",
   "metadata": {},
   "source": [
    "**Mission** 주어진 염기서열에서 주어진 제한효소가 자르는 site 를 python coding을 통해 예측해보자. \n",
    "\n",
    "---"
   ]
  },
  {
   "cell_type": "markdown",
   "metadata": {},
   "source": [
    "1. python 을 쉽게 운용할 수 있는 환경 [Jupyter notebook](http://jupyter.org/)<p>\n",
    "대화창 형식으로 code 와 실행결과를 코딩 중에 지속적으로 확인 가능. 변수값을 중간중간 확인 할 수 있다는 것은 큰 이점. Jupyter notebook에는 파이선 이후 다양한 언어가 추가되고 있다. 통계를 위한 언어인 R 역시 Jupyter notebook 에 추가 할 수 있다. 관심있는 사람은 참고.<p>\n",
    "\n",
    "2. 아나콘다 설치 \n",
    "\n",
    "  1. \"내 PC\" 를 우클릭 -> 속성\n",
    "  ![](./pic_170830/system_info.PNG)\n",
    "\n",
    "  2. [anaconda](https://repo.continuum.io/pkgs/) 다운로드\n",
    "  ![](./pic_170830/anaconda_dn.PNG)\n",
    "\n",
    "  3. \"window key\" + \"r\"\n",
    "  ![](./pic_170830/cmd.PNG)\n",
    "\n",
    "  4. working folder를 만들고 \"jupyter notebook\" 을 실행한다. \n",
    "  ![](./pic_170830/jupyter_run.PNG)\n",
    "  \n",
    "  5. 끝\n",
    "  ![](./pic_170830/jupyter_running.PNG)"
   ]
  },
  {
   "cell_type": "markdown",
   "metadata": {},
   "source": [
    "## google colab 을 사용해보자 \n",
    " 1. 구글 드라이브로 이동 <br>\n",
    "  ![](./pic_170830/googlecolab.PNG)\n",
    " 2. 앱추가 <br>\n",
    "  ![](./pic_170830/googlecolab2.PNG)\n",
    " 3. colaboratory 검색 & 설치 <br>\n",
    "  ![](./pic_170830/googlecolab3.PNG)\n",
    " 4. colaboratory 새문서 열기 <br>\n",
    "  ![](./pic_170830/googlecolab4.PNG)\n",
    " 5. 이렇게 뜨면 성공 <br>\n",
    "  ![](./pic_170830/googlecolab5.PNG)\n"
   ]
  },
  {
   "cell_type": "markdown",
   "metadata": {},
   "source": [
    "# 2. python 의 기본\n",
    "\n",
    "** 변수** <p>\n",
    "변수명을 지정하고, 변수에 값을 할당해보자. 이번엔 name 이라는 변수명에 Yang Jae Kang이라는 값을 할당한다. 이후, name이라는 변수명은 Yang Jae Kang 이라는 값을 품고 있게된다. "
   ]
  },
  {
   "cell_type": "code",
   "execution_count": 1,
   "metadata": {
    "collapsed": true
   },
   "outputs": [],
   "source": [
    "name = \"Yang Jae Kang\" # 여러분들은 여러분 이름을 쓰십시오 "
   ]
  },
  {
   "cell_type": "code",
   "execution_count": 2,
   "metadata": {},
   "outputs": [
    {
     "data": {
      "text/plain": [
       "'Yang Jae Kang'"
      ]
     },
     "execution_count": 2,
     "metadata": {},
     "output_type": "execute_result"
    }
   ],
   "source": [
    "name"
   ]
  },
  {
   "cell_type": "code",
   "execution_count": 3,
   "metadata": {
    "collapsed": true
   },
   "outputs": [],
   "source": [
    "nm = \"Yang Jae Kang\" # 변수명은 뭐든 상관없다. 본인이 원하는 변수명을 정하면된다. "
   ]
  },
  {
   "cell_type": "code",
   "execution_count": 4,
   "metadata": {},
   "outputs": [
    {
     "data": {
      "text/plain": [
       "'Yang Jae Kang'"
      ]
     },
     "execution_count": 4,
     "metadata": {},
     "output_type": "execute_result"
    }
   ],
   "source": [
    "nm"
   ]
  },
  {
   "cell_type": "code",
   "execution_count": 5,
   "metadata": {
    "collapsed": true
   },
   "outputs": [],
   "source": [
    "nm2 = \"Hong Gil Dong\""
   ]
  },
  {
   "cell_type": "code",
   "execution_count": 6,
   "metadata": {},
   "outputs": [
    {
     "data": {
      "text/plain": [
       "'Hong Gil Dong'"
      ]
     },
     "execution_count": 6,
     "metadata": {},
     "output_type": "execute_result"
    }
   ],
   "source": [
    "nm2"
   ]
  },
  {
   "cell_type": "code",
   "execution_count": 10,
   "metadata": {
    "collapsed": true
   },
   "outputs": [],
   "source": [
    "age = 24"
   ]
  },
  {
   "cell_type": "code",
   "execution_count": 11,
   "metadata": {},
   "outputs": [
    {
     "data": {
      "text/plain": [
       "24"
      ]
     },
     "execution_count": 11,
     "metadata": {},
     "output_type": "execute_result"
    }
   ],
   "source": [
    "age"
   ]
  },
  {
   "cell_type": "markdown",
   "metadata": {},
   "source": [
    "*따옴표로 씌어져 있는것들은 문자형, 그렇지 않은것은 숫자형이다. *"
   ]
  },
  {
   "cell_type": "code",
   "execution_count": 13,
   "metadata": {
    "collapsed": true
   },
   "outputs": [],
   "source": [
    "age2 = 36"
   ]
  },
  {
   "cell_type": "code",
   "execution_count": 14,
   "metadata": {},
   "outputs": [
    {
     "data": {
      "text/plain": [
       "36"
      ]
     },
     "execution_count": 14,
     "metadata": {},
     "output_type": "execute_result"
    }
   ],
   "source": [
    "age2"
   ]
  },
  {
   "cell_type": "markdown",
   "metadata": {},
   "source": [
    "*문자형과 숫자형은 무엇이 다른가? *"
   ]
  },
  {
   "cell_type": "code",
   "execution_count": 16,
   "metadata": {},
   "outputs": [
    {
     "data": {
      "text/plain": [
       "'Yang Jae KangHong Gil Dong'"
      ]
     },
     "execution_count": 16,
     "metadata": {},
     "output_type": "execute_result"
    }
   ],
   "source": [
    "nm+nm2 # 문자의 경우는 더하면 두 문자가 연속으로 붙고, "
   ]
  },
  {
   "cell_type": "code",
   "execution_count": 18,
   "metadata": {},
   "outputs": [
    {
     "data": {
      "text/plain": [
       "60"
      ]
     },
     "execution_count": 18,
     "metadata": {},
     "output_type": "execute_result"
    }
   ],
   "source": [
    "age+age2 #숫자이 경우는 더하면 두 숫자가 더해진다. "
   ]
  },
  {
   "cell_type": "markdown",
   "metadata": {},
   "source": [
    "*실수를 할당하는 것도 가능*"
   ]
  },
  {
   "cell_type": "code",
   "execution_count": 19,
   "metadata": {
    "collapsed": true
   },
   "outputs": [],
   "source": [
    "height = 176.1"
   ]
  },
  {
   "cell_type": "code",
   "execution_count": 20,
   "metadata": {},
   "outputs": [
    {
     "data": {
      "text/plain": [
       "176.1"
      ]
     },
     "execution_count": 20,
     "metadata": {},
     "output_type": "execute_result"
    }
   ],
   "source": [
    "height"
   ]
  },
  {
   "cell_type": "markdown",
   "metadata": {},
   "source": [
    "*당연히 염기서열을 할당하는 것도 가능*\n",
    "\n",
    "염기서열을 하나 찾아와보자 [Araport](https://www.araport.org/) 애기장대 (Arabidopsis thaliana) 데이터베이스 \n",
    "\n",
    "1. Araport search <p>\n",
    "![](./pic_170830/araport_query.PNG)<p>\n",
    "2. select gene<p>\n",
    "![](./pic_170830/gai_arath.PNG)<p>\n",
    "3. fasta click <p>\n",
    "![](./pic_170830/gai_fasta.PNG)<p>\n",
    "4. sequence 확인 <p>\n",
    "![](./pic_170830/gai_sequence.PNG)<p>"
   ]
  },
  {
   "cell_type": "code",
   "execution_count": 10,
   "metadata": {
    "collapsed": true
   },
   "outputs": [],
   "source": [
    "dna_sequence_gai =  '''ctaaactctaaagtaatactaactttagaaaatattaatctgtaaaaagctatatattcc\n",
    "ctaatatattagtttattaatttcaatatattccctaattacaaattttggtgtgtgtgt\n",
    "gattttcagccttatctctttgagctgtagatgttgctgttagccctctgatccatgatt\n",
    "catcggacatcgagccccatcacgagcctttttattctcaacaataataatcattttttt\n",
    "tcttataaccttcctctctatttttacaatttattttgttattagaagtggtagtggagt\n",
    "gaaaaaacaaatcctaagcagtcctaaccgatccccgaagctaaagattcttcaccttcc\n",
    "caaataaagcaaaacctagatccgacattgaaggaaaaaccttttagatccatctctgaa\n",
    "aaaaaaccaaccatgaagagagatcatcatcatcatcatcatcaagataagaagactatg\n",
    "atgatgaatgaagaagacgacggtaacggcatggatgagcttctagctgttcttggttac\n",
    "aaggttaggtcatccgaaatggctgatgttgctcagaaactcgagcagcttgaagttatg\n",
    "atgtctaatgttcaagaagacgatctttctcaactcgctactgagactgttcactataat\n",
    "ccggcggagctttacacgtggcttgattctatgctcaccgaccttaatcctccgtcgtct\n",
    "aacgccgagtacgatcttaaagctattcccggtgacgcgattctcaatcagttcgctatc\n",
    "gattcggcttcttcgtctaaccaaggcggcggaggagatacgtatactacaaacaagcgg\n",
    "ttgaaatgctcaaacggcgtcgtggaaaccactacagcgacggctgagtcaactcggcat\n",
    "gttgtcctggttgactcgcaggagaacggtgtgcgtctcgttcacgcgcttttggcttgc\n",
    "gctgaagctgttcagaaagagaatctgactgtagcggaagctctggtgaagcaaatcgga\n",
    "ttcttagccgtttctcaaatcggagcgatgagaaaagtcgctacttacttcgccgaagct\n",
    "ctcgcgcggcggatttaccgtctctctccgtcgcagagtccaatcgaccactctctctcc\n",
    "gatactcttcagatgcacttctacgagacttgtccttatctcaagttcgctcacttcacg\n",
    "gcgaatcaagcgattctcgaagcttttcaagggaagaaaagagttcatgtcattgatttc\n",
    "tctatgagtcaaggtcttcaatggccggcgcttatgcaggctcttgcgcttcgacctggt\n",
    "ggtcctcctgttttccggttaaccggaattggtccaccggcaccggataatttcgattat\n",
    "cttcatgaagttgggtgtaagctggctcatttagctgaggcgattcacgttgagtttgag\n",
    "tacagaggatttgtggctaacactttagctgatcttgatgcttcgatgcttgagcttaga\n",
    "ccaagtgagattgaatctgttgcggttaactctgttttcgagcttcacaagctcttggga\n",
    "cgacctggtgcgatcgataaggttcttggtgtggtgaatcagattaaaccggagattttc\n",
    "actgtggttgagcaggaatcgaaccataatagtccgattttcttagatcggtttactgag\n",
    "tcgttgcattattactcgacgttgtttgactcgttggaaggtgtaccgagtggtcaagac\n",
    "aaggtcatgtcggaggtttacttgggtaaacagatctgcaacgttgtggcttgtgatgga\n",
    "cctgaccgagttgagcgtcatgaaacgttgagtcagtggaggaaccggttcgggtctgct\n",
    "gggtttgcggctgcacatattggttcgaatgcgtttaagcaagcgagtatgcttttggct\n",
    "ctgttcaacggcggtgagggttatcgggtggaggagagtgacggctgtctcatgttgggt\n",
    "tggcacacacgaccgctcatagccacctcggcttggaaactctccaccaattagatggtg\n",
    "gctcaatgaattgatctgttgaaccggttatgatgatagatttccgaccgaagccaaact\n",
    "aaatcctactgtttttccctttgtcacttgttaagatcttatctttcattatattaggta\n",
    "attgaaaaattttaatctcgctttggagagttttttttttttgcatgtgacattggaggg\n",
    "taaattggataggcagaaatagaagtatgtgttaccaagtatgtgcaattggttgaaata\n",
    "aaatcatcttgagtgtcaccatctataaaattcattgtaatgactaatgagcctgattaa\n",
    "actgtctcttatgataatgtgctgattctcatgaatatgctcttttaatgtgcatggtat\n",
    "tataggtggaccagattattttaacaatgctaag'''"
   ]
  },
  {
   "cell_type": "code",
   "execution_count": 11,
   "metadata": {},
   "outputs": [
    {
     "name": "stdout",
     "output_type": "stream",
     "text": [
      "ctaaactctaaagtaatactaactttagaaaatattaatctgtaaaaagctatatattcc\n",
      "ctaatatattagtttattaatttcaatatattccctaattacaaattttggtgtgtgtgt\n",
      "gattttcagccttatctctttgagctgtagatgttgctgttagccctctgatccatgatt\n",
      "catcggacatcgagccccatcacgagcctttttattctcaacaataataatcattttttt\n",
      "tcttataaccttcctctctatttttacaatttattttgttattagaagtggtagtggagt\n",
      "gaaaaaacaaatcctaagcagtcctaaccgatccccgaagctaaagattcttcaccttcc\n",
      "caaataaagcaaaacctagatccgacattgaaggaaaaaccttttagatccatctctgaa\n",
      "aaaaaaccaaccatgaagagagatcatcatcatcatcatcatcaagataagaagactatg\n",
      "atgatgaatgaagaagacgacggtaacggcatggatgagcttctagctgttcttggttac\n",
      "aaggttaggtcatccgaaatggctgatgttgctcagaaactcgagcagcttgaagttatg\n",
      "atgtctaatgttcaagaagacgatctttctcaactcgctactgagactgttcactataat\n",
      "ccggcggagctttacacgtggcttgattctatgctcaccgaccttaatcctccgtcgtct\n",
      "aacgccgagtacgatcttaaagctattcccggtgacgcgattctcaatcagttcgctatc\n",
      "gattcggcttcttcgtctaaccaaggcggcggaggagatacgtatactacaaacaagcgg\n",
      "ttgaaatgctcaaacggcgtcgtggaaaccactacagcgacggctgagtcaactcggcat\n",
      "gttgtcctggttgactcgcaggagaacggtgtgcgtctcgttcacgcgcttttggcttgc\n",
      "gctgaagctgttcagaaagagaatctgactgtagcggaagctctggtgaagcaaatcgga\n",
      "ttcttagccgtttctcaaatcggagcgatgagaaaagtcgctacttacttcgccgaagct\n",
      "ctcgcgcggcggatttaccgtctctctccgtcgcagagtccaatcgaccactctctctcc\n",
      "gatactcttcagatgcacttctacgagacttgtccttatctcaagttcgctcacttcacg\n",
      "gcgaatcaagcgattctcgaagcttttcaagggaagaaaagagttcatgtcattgatttc\n",
      "tctatgagtcaaggtcttcaatggccggcgcttatgcaggctcttgcgcttcgacctggt\n",
      "ggtcctcctgttttccggttaaccggaattggtccaccggcaccggataatttcgattat\n",
      "cttcatgaagttgggtgtaagctggctcatttagctgaggcgattcacgttgagtttgag\n",
      "tacagaggatttgtggctaacactttagctgatcttgatgcttcgatgcttgagcttaga\n",
      "ccaagtgagattgaatctgttgcggttaactctgttttcgagcttcacaagctcttggga\n",
      "cgacctggtgcgatcgataaggttcttggtgtggtgaatcagattaaaccggagattttc\n",
      "actgtggttgagcaggaatcgaaccataatagtccgattttcttagatcggtttactgag\n",
      "tcgttgcattattactcgacgttgtttgactcgttggaaggtgtaccgagtggtcaagac\n",
      "aaggtcatgtcggaggtttacttgggtaaacagatctgcaacgttgtggcttgtgatgga\n",
      "cctgaccgagttgagcgtcatgaaacgttgagtcagtggaggaaccggttcgggtctgct\n",
      "gggtttgcggctgcacatattggttcgaatgcgtttaagcaagcgagtatgcttttggct\n",
      "ctgttcaacggcggtgagggttatcgggtggaggagagtgacggctgtctcatgttgggt\n",
      "tggcacacacgaccgctcatagccacctcggcttggaaactctccaccaattagatggtg\n",
      "gctcaatgaattgatctgttgaaccggttatgatgatagatttccgaccgaagccaaact\n",
      "aaatcctactgtttttccctttgtcacttgttaagatcttatctttcattatattaggta\n",
      "attgaaaaattttaatctcgctttggagagttttttttttttgcatgtgacattggaggg\n",
      "taaattggataggcagaaatagaagtatgtgttaccaagtatgtgcaattggttgaaata\n",
      "aaatcatcttgagtgtcaccatctataaaattcattgtaatgactaatgagcctgattaa\n",
      "actgtctcttatgataatgtgctgattctcatgaatatgctcttttaatgtgcatggtat\n",
      "tataggtggaccagattattttaacaatgctaag\n"
     ]
    }
   ],
   "source": [
    "print dna_sequence_gai"
   ]
  },
  {
   "cell_type": "code",
   "execution_count": 12,
   "metadata": {},
   "outputs": [
    {
     "data": {
      "text/plain": [
       "'ctaaactctaaagtaatactaactttagaaaatattaatctgtaaaaagctatatattcc\\nctaatatattagtttattaatttcaatatattccctaattacaaattttggtgtgtgtgt\\ngattttcagccttatctctttgagctgtagatgttgctgttagccctctgatccatgatt\\ncatcggacatcgagccccatcacgagcctttttattctcaacaataataatcattttttt\\ntcttataaccttcctctctatttttacaatttattttgttattagaagtggtagtggagt\\ngaaaaaacaaatcctaagcagtcctaaccgatccccgaagctaaagattcttcaccttcc\\ncaaataaagcaaaacctagatccgacattgaaggaaaaaccttttagatccatctctgaa\\naaaaaaccaaccatgaagagagatcatcatcatcatcatcatcaagataagaagactatg\\natgatgaatgaagaagacgacggtaacggcatggatgagcttctagctgttcttggttac\\naaggttaggtcatccgaaatggctgatgttgctcagaaactcgagcagcttgaagttatg\\natgtctaatgttcaagaagacgatctttctcaactcgctactgagactgttcactataat\\nccggcggagctttacacgtggcttgattctatgctcaccgaccttaatcctccgtcgtct\\naacgccgagtacgatcttaaagctattcccggtgacgcgattctcaatcagttcgctatc\\ngattcggcttcttcgtctaaccaaggcggcggaggagatacgtatactacaaacaagcgg\\nttgaaatgctcaaacggcgtcgtggaaaccactacagcgacggctgagtcaactcggcat\\ngttgtcctggttgactcgcaggagaacggtgtgcgtctcgttcacgcgcttttggcttgc\\ngctgaagctgttcagaaagagaatctgactgtagcggaagctctggtgaagcaaatcgga\\nttcttagccgtttctcaaatcggagcgatgagaaaagtcgctacttacttcgccgaagct\\nctcgcgcggcggatttaccgtctctctccgtcgcagagtccaatcgaccactctctctcc\\ngatactcttcagatgcacttctacgagacttgtccttatctcaagttcgctcacttcacg\\ngcgaatcaagcgattctcgaagcttttcaagggaagaaaagagttcatgtcattgatttc\\ntctatgagtcaaggtcttcaatggccggcgcttatgcaggctcttgcgcttcgacctggt\\nggtcctcctgttttccggttaaccggaattggtccaccggcaccggataatttcgattat\\ncttcatgaagttgggtgtaagctggctcatttagctgaggcgattcacgttgagtttgag\\ntacagaggatttgtggctaacactttagctgatcttgatgcttcgatgcttgagcttaga\\nccaagtgagattgaatctgttgcggttaactctgttttcgagcttcacaagctcttggga\\ncgacctggtgcgatcgataaggttcttggtgtggtgaatcagattaaaccggagattttc\\nactgtggttgagcaggaatcgaaccataatagtccgattttcttagatcggtttactgag\\ntcgttgcattattactcgacgttgtttgactcgttggaaggtgtaccgagtggtcaagac\\naaggtcatgtcggaggtttacttgggtaaacagatctgcaacgttgtggcttgtgatgga\\ncctgaccgagttgagcgtcatgaaacgttgagtcagtggaggaaccggttcgggtctgct\\ngggtttgcggctgcacatattggttcgaatgcgtttaagcaagcgagtatgcttttggct\\nctgttcaacggcggtgagggttatcgggtggaggagagtgacggctgtctcatgttgggt\\ntggcacacacgaccgctcatagccacctcggcttggaaactctccaccaattagatggtg\\ngctcaatgaattgatctgttgaaccggttatgatgatagatttccgaccgaagccaaact\\naaatcctactgtttttccctttgtcacttgttaagatcttatctttcattatattaggta\\nattgaaaaattttaatctcgctttggagagttttttttttttgcatgtgacattggaggg\\ntaaattggataggcagaaatagaagtatgtgttaccaagtatgtgcaattggttgaaata\\naaatcatcttgagtgtcaccatctataaaattcattgtaatgactaatgagcctgattaa\\nactgtctcttatgataatgtgctgattctcatgaatatgctcttttaatgtgcatggtat\\ntataggtggaccagattattttaacaatgctaag'"
      ]
     },
     "execution_count": 12,
     "metadata": {},
     "output_type": "execute_result"
    }
   ],
   "source": [
    "dna_sequence_gai"
   ]
  },
  {
   "cell_type": "markdown",
   "metadata": {},
   "source": [
    "*개행문자의 존재* \n",
    "\n",
    "**\\n**"
   ]
  },
  {
   "cell_type": "code",
   "execution_count": 4,
   "metadata": {},
   "outputs": [
    {
     "data": {
      "text/plain": [
       "'ctaaactctaaagtaatactaactttagaaaatattaatctgtaaaaagctatatattccctaatatattagtttattaatttcaatatattccctaattacaaattttggtgtgtgtgtgattttcagccttatctctttgagctgtagatgttgctgttagccctctgatccatgattcatcggacatcgagccccatcacgagcctttttattctcaacaataataatcattttttttcttataaccttcctctctatttttacaatttattttgttattagaagtggtagtggagtgaaaaaacaaatcctaagcagtcctaaccgatccccgaagctaaagattcttcaccttcccaaataaagcaaaacctagatccgacattgaaggaaaaaccttttagatccatctctgaaaaaaaaccaaccatgaagagagatcatcatcatcatcatcatcaagataagaagactatgatgatgaatgaagaagacgacggtaacggcatggatgagcttctagctgttcttggttacaaggttaggtcatccgaaatggctgatgttgctcagaaactcgagcagcttgaagttatgatgtctaatgttcaagaagacgatctttctcaactcgctactgagactgttcactataatccggcggagctttacacgtggcttgattctatgctcaccgaccttaatcctccgtcgtctaacgccgagtacgatcttaaagctattcccggtgacgcgattctcaatcagttcgctatcgattcggcttcttcgtctaaccaaggcggcggaggagatacgtatactacaaacaagcggttgaaatgctcaaacggcgtcgtggaaaccactacagcgacggctgagtcaactcggcatgttgtcctggttgactcgcaggagaacggtgtgcgtctcgttcacgcgcttttggcttgcgctgaagctgttcagaaagagaatctgactgtagcggaagctctggtgaagcaaatcggattcttagccgtttctcaaatcggagcgatgagaaaagtcgctacttacttcgccgaagctctcgcgcggcggatttaccgtctctctccgtcgcagagtccaatcgaccactctctctccgatactcttcagatgcacttctacgagacttgtccttatctcaagttcgctcacttcacggcgaatcaagcgattctcgaagcttttcaagggaagaaaagagttcatgtcattgatttctctatgagtcaaggtcttcaatggccggcgcttatgcaggctcttgcgcttcgacctggtggtcctcctgttttccggttaaccggaattggtccaccggcaccggataatttcgattatcttcatgaagttgggtgtaagctggctcatttagctgaggcgattcacgttgagtttgagtacagaggatttgtggctaacactttagctgatcttgatgcttcgatgcttgagcttagaccaagtgagattgaatctgttgcggttaactctgttttcgagcttcacaagctcttgggacgacctggtgcgatcgataaggttcttggtgtggtgaatcagattaaaccggagattttcactgtggttgagcaggaatcgaaccataatagtccgattttcttagatcggtttactgagtcgttgcattattactcgacgttgtttgactcgttggaaggtgtaccgagtggtcaagacaaggtcatgtcggaggtttacttgggtaaacagatctgcaacgttgtggcttgtgatggacctgaccgagttgagcgtcatgaaacgttgagtcagtggaggaaccggttcgggtctgctgggtttgcggctgcacatattggttcgaatgcgtttaagcaagcgagtatgcttttggctctgttcaacggcggtgagggttatcgggtggaggagagtgacggctgtctcatgttgggttggcacacacgaccgctcatagccacctcggcttggaaactctccaccaattagatggtggctcaatgaattgatctgttgaaccggttatgatgatagatttccgaccgaagccaaactaaatcctactgtttttccctttgtcacttgttaagatcttatctttcattatattaggtaattgaaaaattttaatctcgctttggagagttttttttttttgcatgtgacattggagggtaaattggataggcagaaatagaagtatgtgttaccaagtatgtgcaattggttgaaataaaatcatcttgagtgtcaccatctataaaattcattgtaatgactaatgagcctgattaaactgtctcttatgataatgtgctgattctcatgaatatgctcttttaatgtgcatggtattataggtggaccagattattttaacaatgctaag'"
      ]
     },
     "execution_count": 4,
     "metadata": {},
     "output_type": "execute_result"
    }
   ],
   "source": [
    "dna_sequence_gai.replace('\\n','')"
   ]
  },
  {
   "cell_type": "code",
   "execution_count": 37,
   "metadata": {
    "collapsed": true
   },
   "outputs": [],
   "source": [
    "dna_sequence_gai = dna_sequence_gai.replace('\\n','')"
   ]
  },
  {
   "cell_type": "code",
   "execution_count": 43,
   "metadata": {},
   "outputs": [
    {
     "name": "stdout",
     "output_type": "stream",
     "text": [
      "ctaaactctaaagtaatactaactttagaaaata\n",
      "tctgtaaaaagctatatattccctaatatattagttta\n",
      "tttcaatatattccctaattacaaattttggtgtgtgtgtgattttcagccttatctctttgagctgtagatgttgctgttagccctctgatccatgattcatcggacatcgagccccatcacgagcctttttattctcaacaataataatcattttttttcttataaccttcctctctatttttacaatttattttgttattagaagtggtagtggagtgaaaaaacaaatcctaagcagtcctaaccgatccccgaagctaaagattcttcaccttcccaaataaagcaaaacctagatccgacattgaaggaaaaaccttttagatccatctctgaaaaaaaaccaaccatgaagagagatcatcatcatcatcatcatcaagataagaagactatgatgatgaatgaagaagacgacggtaacggcatggatgagcttctagctgttcttggttacaaggttaggtcatccgaaatggctgatgttgctcagaaactcgagcagcttgaagttatgatgtctaatgttcaagaagacgatctttctcaactcgctactgagactgttcactataatccggcggagctttacacgtggcttgattctatgctcaccgacc\n",
      "tcctccgtcgtctaacgccgagtacgatc\n",
      "agctattcccggtgacgcgattctcaatcagttcgctatcgattcggcttcttcgtctaaccaaggcggcggaggagatacgtatactacaaacaagcggttgaaatgctcaaacggcgtcgtggaaaccactacagcgacggctgagtcaactcggcatgttgtcctggttgactcgcaggagaacggtgtgcgtctcgttcacgcgcttttggcttgcgctgaagctgttcagaaagagaatctgactgtagcggaagctctggtgaagcaaatcggattcttagccgtttctcaaatcggagcgatgagaaaagtcgctacttacttcgccgaagctctcgcgcggcggatttaccgtctctctccgtcgcagagtccaatcgaccactctctctccgatactcttcagatgcacttctacgagacttgtccttatctcaagttcgctcacttcacggcgaatcaagcgattctcgaagcttttcaagggaagaaaagagttcatgtcattgatttctctatgagtcaaggtcttcaatggccggcgcttatgcaggctcttgcgcttcgacctggtggtcctcctgttttccgg\n",
      "ccggaattggtccaccggcaccggataatttcgattatcttcatgaagttgggtgtaagctggctcatttagctgaggcgattcacgttgagtttgagtacagaggatttgtggctaacactttagctgatcttgatgcttcgatgcttgagcttagaccaagtgagattgaatctgttgcgg\n",
      "ctctgttttcgagcttcacaagctcttgggacgacctggtgcgatcgataaggttcttggtgtggtgaatcaga\n",
      "accggagattttcactgtggttgagcaggaatcgaaccataatagtccgattttcttagatcggtttactgagtcgttgcattattactcgacgttgtttgactcgttggaaggtgtaccgagtggtcaagacaaggtcatgtcggaggtttacttgggtaaacagatctgcaacgttgtggcttgtgatggacctgaccgagttgagcgtcatgaaacgttgagtcagtggaggaaccggttcgggtctgctgggtttgcggctgcacatattggttcgaatgcgt\n",
      "gcaagcgagtatgcttttggctctgttcaacggcggtgagggttatcgggtggaggagagtgacggctgtctcatgttgggttggcacacacgaccgctcatagccacctcggcttggaaactctccaccaattagatggtggctcaatgaattgatctgttgaaccggttatgatgatagatttccgaccgaagccaaactaaatcctactgtttttccctttgtcacttg\n",
      "gatcttatctttcattatattaggtaattgaaaaatt\n",
      "tctcgctttggagagttttttttttttgcatgtgacattggagggtaaattggataggcagaaatagaagtatgtgttaccaagtatgtgcaattggttgaaataaaatcatcttgagtgtcaccatctataaaattcattgtaatgactaatgagcctga\n",
      "actgtctcttatgataatgtgctgattctcatgaatatgctctt\n",
      "tgtgcatggtattataggtggaccagattatt\n",
      "caatgctaag\n"
     ]
    }
   ],
   "source": [
    "# 특정 문자를 개행문자로 변경도 가능 \n",
    "print dna_sequence_gai.replace('ttaa','\\n')"
   ]
  },
  {
   "cell_type": "code",
   "execution_count": 42,
   "metadata": {},
   "outputs": [
    {
     "name": "stdout",
     "output_type": "stream",
     "text": [
      "ctaaactctaaagtaatactaactttagaaaata\ttctgtaaaaagctatatattccctaatatattagttta\ttttcaatatattccctaattacaaattttggtgtgtgtgtgattttcagccttatctctttgagctgtagatgttgctgttagccctctgatccatgattcatcggacatcgagccccatcacgagcctttttattctcaacaataataatcattttttttcttataaccttcctctctatttttacaatttattttgttattagaagtggtagtggagtgaaaaaacaaatcctaagcagtcctaaccgatccccgaagctaaagattcttcaccttcccaaataaagcaaaacctagatccgacattgaaggaaaaaccttttagatccatctctgaaaaaaaaccaaccatgaagagagatcatcatcatcatcatcatcaagataagaagactatgatgatgaatgaagaagacgacggtaacggcatggatgagcttctagctgttcttggttacaaggttaggtcatccgaaatggctgatgttgctcagaaactcgagcagcttgaagttatgatgtctaatgttcaagaagacgatctttctcaactcgctactgagactgttcactataatccggcggagctttacacgtggcttgattctatgctcaccgacc\ttcctccgtcgtctaacgccgagtacgatc\tagctattcccggtgacgcgattctcaatcagttcgctatcgattcggcttcttcgtctaaccaaggcggcggaggagatacgtatactacaaacaagcggttgaaatgctcaaacggcgtcgtggaaaccactacagcgacggctgagtcaactcggcatgttgtcctggttgactcgcaggagaacggtgtgcgtctcgttcacgcgcttttggcttgcgctgaagctgttcagaaagagaatctgactgtagcggaagctctggtgaagcaaatcggattcttagccgtttctcaaatcggagcgatgagaaaagtcgctacttacttcgccgaagctctcgcgcggcggatttaccgtctctctccgtcgcagagtccaatcgaccactctctctccgatactcttcagatgcacttctacgagacttgtccttatctcaagttcgctcacttcacggcgaatcaagcgattctcgaagcttttcaagggaagaaaagagttcatgtcattgatttctctatgagtcaaggtcttcaatggccggcgcttatgcaggctcttgcgcttcgacctggtggtcctcctgttttccgg\tccggaattggtccaccggcaccggataatttcgattatcttcatgaagttgggtgtaagctggctcatttagctgaggcgattcacgttgagtttgagtacagaggatttgtggctaacactttagctgatcttgatgcttcgatgcttgagcttagaccaagtgagattgaatctgttgcgg\tctctgttttcgagcttcacaagctcttgggacgacctggtgcgatcgataaggttcttggtgtggtgaatcaga\taccggagattttcactgtggttgagcaggaatcgaaccataatagtccgattttcttagatcggtttactgagtcgttgcattattactcgacgttgtttgactcgttggaaggtgtaccgagtggtcaagacaaggtcatgtcggaggtttacttgggtaaacagatctgcaacgttgtggcttgtgatggacctgaccgagttgagcgtcatgaaacgttgagtcagtggaggaaccggttcgggtctgctgggtttgcggctgcacatattggttcgaatgcgt\tgcaagcgagtatgcttttggctctgttcaacggcggtgagggttatcgggtggaggagagtgacggctgtctcatgttgggttggcacacacgaccgctcatagccacctcggcttggaaactctccaccaattagatggtggctcaatgaattgatctgttgaaccggttatgatgatagatttccgaccgaagccaaactaaatcctactgtttttccctttgtcacttg\tgatcttatctttcattatattaggtaattgaaaaatt\ttctcgctttggagagttttttttttttgcatgtgacattggagggtaaattggataggcagaaatagaagtatgtgttaccaagtatgtgcaattggttgaaataaaatcatcttgagtgtcaccatctataaaattcattgtaatgactaatgagcctga\tactgtctcttatgataatgtgctgattctcatgaatatgctctt\ttgtgcatggtattataggtggaccagattatt\tcaatgctaag\n"
     ]
    }
   ],
   "source": [
    "#개행문자 대신 탭 문자를 넣을 수도 있다. \n",
    "print dna_sequence_gai.replace('ttaa','\\t')"
   ]
  },
  {
   "cell_type": "code",
   "execution_count": 41,
   "metadata": {},
   "outputs": [
    {
     "data": {
      "text/plain": [
       "['ctaaactctaaagtaatactaactttagaaaata',\n",
       " 'tctgtaaaaagctatatattccctaatatattagttta',\n",
       " 'tttcaatatattccctaattacaaattttggtgtgtgtgtgattttcagccttatctctttgagctgtagatgttgctgttagccctctgatccatgattcatcggacatcgagccccatcacgagcctttttattctcaacaataataatcattttttttcttataaccttcctctctatttttacaatttattttgttattagaagtggtagtggagtgaaaaaacaaatcctaagcagtcctaaccgatccccgaagctaaagattcttcaccttcccaaataaagcaaaacctagatccgacattgaaggaaaaaccttttagatccatctctgaaaaaaaaccaaccatgaagagagatcatcatcatcatcatcatcaagataagaagactatgatgatgaatgaagaagacgacggtaacggcatggatgagcttctagctgttcttggttacaaggttaggtcatccgaaatggctgatgttgctcagaaactcgagcagcttgaagttatgatgtctaatgttcaagaagacgatctttctcaactcgctactgagactgttcactataatccggcggagctttacacgtggcttgattctatgctcaccgacc',\n",
       " 'tcctccgtcgtctaacgccgagtacgatc',\n",
       " 'agctattcccggtgacgcgattctcaatcagttcgctatcgattcggcttcttcgtctaaccaaggcggcggaggagatacgtatactacaaacaagcggttgaaatgctcaaacggcgtcgtggaaaccactacagcgacggctgagtcaactcggcatgttgtcctggttgactcgcaggagaacggtgtgcgtctcgttcacgcgcttttggcttgcgctgaagctgttcagaaagagaatctgactgtagcggaagctctggtgaagcaaatcggattcttagccgtttctcaaatcggagcgatgagaaaagtcgctacttacttcgccgaagctctcgcgcggcggatttaccgtctctctccgtcgcagagtccaatcgaccactctctctccgatactcttcagatgcacttctacgagacttgtccttatctcaagttcgctcacttcacggcgaatcaagcgattctcgaagcttttcaagggaagaaaagagttcatgtcattgatttctctatgagtcaaggtcttcaatggccggcgcttatgcaggctcttgcgcttcgacctggtggtcctcctgttttccgg',\n",
       " 'ccggaattggtccaccggcaccggataatttcgattatcttcatgaagttgggtgtaagctggctcatttagctgaggcgattcacgttgagtttgagtacagaggatttgtggctaacactttagctgatcttgatgcttcgatgcttgagcttagaccaagtgagattgaatctgttgcgg',\n",
       " 'ctctgttttcgagcttcacaagctcttgggacgacctggtgcgatcgataaggttcttggtgtggtgaatcaga',\n",
       " 'accggagattttcactgtggttgagcaggaatcgaaccataatagtccgattttcttagatcggtttactgagtcgttgcattattactcgacgttgtttgactcgttggaaggtgtaccgagtggtcaagacaaggtcatgtcggaggtttacttgggtaaacagatctgcaacgttgtggcttgtgatggacctgaccgagttgagcgtcatgaaacgttgagtcagtggaggaaccggttcgggtctgctgggtttgcggctgcacatattggttcgaatgcgt',\n",
       " 'gcaagcgagtatgcttttggctctgttcaacggcggtgagggttatcgggtggaggagagtgacggctgtctcatgttgggttggcacacacgaccgctcatagccacctcggcttggaaactctccaccaattagatggtggctcaatgaattgatctgttgaaccggttatgatgatagatttccgaccgaagccaaactaaatcctactgtttttccctttgtcacttg',\n",
       " 'gatcttatctttcattatattaggtaattgaaaaatt',\n",
       " 'tctcgctttggagagttttttttttttgcatgtgacattggagggtaaattggataggcagaaatagaagtatgtgttaccaagtatgtgcaattggttgaaataaaatcatcttgagtgtcaccatctataaaattcattgtaatgactaatgagcctga',\n",
       " 'actgtctcttatgataatgtgctgattctcatgaatatgctctt',\n",
       " 'tgtgcatggtattataggtggaccagattatt',\n",
       " 'caatgctaag']"
      ]
     },
     "execution_count": 41,
     "metadata": {},
     "output_type": "execute_result"
    }
   ],
   "source": [
    "# 문자를 잘라서 여러개의 문자들이 엮여 있는 자료형을 만들수가 있다. (list 자료형)\n",
    "dna_sequence_gai.split('ttaa')"
   ]
  },
  {
   "cell_type": "markdown",
   "metadata": {},
   "source": [
    "**note : 이미 제한효소가 하는 일을 python function이 하고 있다.**\n",
    "\n",
    "실습 : Araport에서 YAB2 유전자의 서열을 가져와서 \"ttaa\" recognition site로 잘리는 조각을 list로 나타내보자 \n",
    "\n",
    "---"
   ]
  },
  {
   "cell_type": "code",
   "execution_count": 25,
   "metadata": {},
   "outputs": [
    {
     "data": {
      "text/plain": [
       "['kang', 'yang', 'jae']"
      ]
     },
     "execution_count": 25,
     "metadata": {},
     "output_type": "execute_result"
    }
   ],
   "source": [
    "simple_str = 'kang,yang,jae'\n",
    "simple_str.split(',')"
   ]
  },
  {
   "cell_type": "code",
   "execution_count": 26,
   "metadata": {},
   "outputs": [
    {
     "data": {
      "text/plain": [
       "['kang', 'yang', 'jae']"
      ]
     },
     "execution_count": 26,
     "metadata": {},
     "output_type": "execute_result"
    }
   ],
   "source": [
    "simple_list = simple_str.split(',')\n",
    "simple_list"
   ]
  },
  {
   "cell_type": "code",
   "execution_count": 27,
   "metadata": {},
   "outputs": [
    {
     "data": {
      "text/plain": [
       "'kang'"
      ]
     },
     "execution_count": 27,
     "metadata": {},
     "output_type": "execute_result"
    }
   ],
   "source": [
    "#list는 각 항목을 따로 불러낼수 있다. indexing! \n",
    "simple_list[0]"
   ]
  },
  {
   "cell_type": "code",
   "execution_count": 28,
   "metadata": {},
   "outputs": [
    {
     "data": {
      "text/plain": [
       "'yang'"
      ]
     },
     "execution_count": 28,
     "metadata": {},
     "output_type": "execute_result"
    }
   ],
   "source": [
    "simple_list[1]"
   ]
  },
  {
   "cell_type": "code",
   "execution_count": 45,
   "metadata": {},
   "outputs": [
    {
     "data": {
      "text/plain": [
       "['ha', 'yang']"
      ]
     },
     "execution_count": 45,
     "metadata": {},
     "output_type": "execute_result"
    }
   ],
   "source": [
    "simple_list[0:2]"
   ]
  },
  {
   "cell_type": "code",
   "execution_count": 29,
   "metadata": {},
   "outputs": [
    {
     "data": {
      "text/plain": [
       "'c'"
      ]
     },
     "execution_count": 29,
     "metadata": {},
     "output_type": "execute_result"
    }
   ],
   "source": [
    "#사실 일반 문자열도 가능 \n",
    "dna_sequence_gai[0]"
   ]
  },
  {
   "cell_type": "code",
   "execution_count": 46,
   "metadata": {},
   "outputs": [
    {
     "data": {
      "text/plain": [
       "'ctaaactcta'"
      ]
     },
     "execution_count": 46,
     "metadata": {},
     "output_type": "execute_result"
    }
   ],
   "source": [
    "dna_sequence_gai[0:10]"
   ]
  },
  {
   "cell_type": "code",
   "execution_count": 30,
   "metadata": {
    "collapsed": true
   },
   "outputs": [],
   "source": [
    "# 하지만 list는 치환이가능하다 \n",
    "simple_list[0] = 'ha'"
   ]
  },
  {
   "cell_type": "code",
   "execution_count": 31,
   "metadata": {},
   "outputs": [
    {
     "data": {
      "text/plain": [
       "['ha', 'yang', 'jae']"
      ]
     },
     "execution_count": 31,
     "metadata": {},
     "output_type": "execute_result"
    }
   ],
   "source": [
    "simple_list"
   ]
  },
  {
   "cell_type": "code",
   "execution_count": 58,
   "metadata": {
    "collapsed": true
   },
   "outputs": [],
   "source": [
    "# list에 항목을 추가하는 것도 가능 \n",
    "simple_list.append('dna')"
   ]
  },
  {
   "cell_type": "code",
   "execution_count": 59,
   "metadata": {},
   "outputs": [
    {
     "data": {
      "text/plain": [
       "['ha', 'yang', 'jae', 'dna']"
      ]
     },
     "execution_count": 59,
     "metadata": {},
     "output_type": "execute_result"
    }
   ],
   "source": [
    "simple_list"
   ]
  },
  {
   "cell_type": "code",
   "execution_count": 33,
   "metadata": {},
   "outputs": [
    {
     "data": {
      "text/plain": [
       "['c', 't', 'a', 'a', 'a', 'c', 't', 'c', 't', 'a']"
      ]
     },
     "execution_count": 33,
     "metadata": {},
     "output_type": "execute_result"
    }
   ],
   "source": [
    "# 문자열을 리스트로 바꾸는 것이 가능\n",
    "list(dna_sequence_gai[0:10]) "
   ]
  },
  {
   "cell_type": "code",
   "execution_count": 34,
   "metadata": {
    "collapsed": true
   },
   "outputs": [],
   "source": [
    "seq_list = list(dna_sequence_gai[0:10])"
   ]
  },
  {
   "cell_type": "code",
   "execution_count": 35,
   "metadata": {},
   "outputs": [
    {
     "data": {
      "text/plain": [
       "['c', 't', 'a', 'a', 'a', 'c', 't', 'c', 't', 'a']"
      ]
     },
     "execution_count": 35,
     "metadata": {},
     "output_type": "execute_result"
    }
   ],
   "source": [
    "seq_list"
   ]
  },
  {
   "cell_type": "markdown",
   "metadata": {},
   "source": [
    "각 염기서열을 하나하나 관찰 하고 싶다. 반복문을 써야한다."
   ]
  },
  {
   "cell_type": "markdown",
   "metadata": {},
   "source": [
    "![](./pic_170830/loop.PNG)"
   ]
  },
  {
   "cell_type": "code",
   "execution_count": 36,
   "metadata": {},
   "outputs": [
    {
     "name": "stdout",
     "output_type": "stream",
     "text": [
      "c\n",
      "t\n",
      "a\n",
      "a\n",
      "a\n",
      "c\n",
      "t\n",
      "c\n",
      "t\n",
      "a\n"
     ]
    }
   ],
   "source": [
    "for base in seq_list: # 반복문 \n",
    "    print base"
   ]
  },
  {
   "cell_type": "code",
   "execution_count": 50,
   "metadata": {},
   "outputs": [
    {
     "name": "stdout",
     "output_type": "stream",
     "text": [
      "ctaaactctaaagtaatactaactttagaaaata\n",
      "tctgtaaaaagctatatattccctaatatattagttta\n",
      "tttcaatatattccctaattacaaattttggtgtgtgtgtgattttcagccttatctctttgagctgtagatgttgctgttagccctctgatccatgattcatcggacatcgagccccatcacgagcctttttattctcaacaataataatcattttttttcttataaccttcctctctatttttacaatttattttgttattagaagtggtagtggagtgaaaaaacaaatcctaagcagtcctaaccgatccccgaagctaaagattcttcaccttcccaaataaagcaaaacctagatccgacattgaaggaaaaaccttttagatccatctctgaaaaaaaaccaaccatgaagagagatcatcatcatcatcatcatcaagataagaagactatgatgatgaatgaagaagacgacggtaacggcatggatgagcttctagctgttcttggttacaaggttaggtcatccgaaatggctgatgttgctcagaaactcgagcagcttgaagttatgatgtctaatgttcaagaagacgatctttctcaactcgctactgagactgttcactataatccggcggagctttacacgtggcttgattctatgctcaccgacc\n",
      "tcctccgtcgtctaacgccgagtacgatc\n",
      "agctattcccggtgacgcgattctcaatcagttcgctatcgattcggcttcttcgtctaaccaaggcggcggaggagatacgtatactacaaacaagcggttgaaatgctcaaacggcgtcgtggaaaccactacagcgacggctgagtcaactcggcatgttgtcctggttgactcgcaggagaacggtgtgcgtctcgttcacgcgcttttggcttgcgctgaagctgttcagaaagagaatctgactgtagcggaagctctggtgaagcaaatcggattcttagccgtttctcaaatcggagcgatgagaaaagtcgctacttacttcgccgaagctctcgcgcggcggatttaccgtctctctccgtcgcagagtccaatcgaccactctctctccgatactcttcagatgcacttctacgagacttgtccttatctcaagttcgctcacttcacggcgaatcaagcgattctcgaagcttttcaagggaagaaaagagttcatgtcattgatttctctatgagtcaaggtcttcaatggccggcgcttatgcaggctcttgcgcttcgacctggtggtcctcctgttttccgg\n",
      "ccggaattggtccaccggcaccggataatttcgattatcttcatgaagttgggtgtaagctggctcatttagctgaggcgattcacgttgagtttgagtacagaggatttgtggctaacactttagctgatcttgatgcttcgatgcttgagcttagaccaagtgagattgaatctgttgcgg\n",
      "ctctgttttcgagcttcacaagctcttgggacgacctggtgcgatcgataaggttcttggtgtggtgaatcaga\n",
      "accggagattttcactgtggttgagcaggaatcgaaccataatagtccgattttcttagatcggtttactgagtcgttgcattattactcgacgttgtttgactcgttggaaggtgtaccgagtggtcaagacaaggtcatgtcggaggtttacttgggtaaacagatctgcaacgttgtggcttgtgatggacctgaccgagttgagcgtcatgaaacgttgagtcagtggaggaaccggttcgggtctgctgggtttgcggctgcacatattggttcgaatgcgt\n",
      "gcaagcgagtatgcttttggctctgttcaacggcggtgagggttatcgggtggaggagagtgacggctgtctcatgttgggttggcacacacgaccgctcatagccacctcggcttggaaactctccaccaattagatggtggctcaatgaattgatctgttgaaccggttatgatgatagatttccgaccgaagccaaactaaatcctactgtttttccctttgtcacttg\n",
      "gatcttatctttcattatattaggtaattgaaaaatt\n",
      "tctcgctttggagagttttttttttttgcatgtgacattggagggtaaattggataggcagaaatagaagtatgtgttaccaagtatgtgcaattggttgaaataaaatcatcttgagtgtcaccatctataaaattcattgtaatgactaatgagcctga\n",
      "actgtctcttatgataatgtgctgattctcatgaatatgctctt\n",
      "tgtgcatggtattataggtggaccagattatt\n",
      "caatgctaag\n"
     ]
    }
   ],
   "source": [
    "for fragment in dna_sequence_gai.split('ttaa'):\n",
    "    print fragment"
   ]
  },
  {
   "cell_type": "code",
   "execution_count": 49,
   "metadata": {},
   "outputs": [
    {
     "name": "stdout",
     "output_type": "stream",
     "text": [
      "ctaaactctaaagtaatactaactttagaaaata 34\n",
      "tctgtaaaaagctatatattccctaatatattagttta 38\n",
      "tttcaatatattccctaattacaaattttggtgtgtgtgtgattttcagccttatctctttgagctgtagatgttgctgttagccctctgatccatgattcatcggacatcgagccccatcacgagcctttttattctcaacaataataatcattttttttcttataaccttcctctctatttttacaatttattttgttattagaagtggtagtggagtgaaaaaacaaatcctaagcagtcctaaccgatccccgaagctaaagattcttcaccttcccaaataaagcaaaacctagatccgacattgaaggaaaaaccttttagatccatctctgaaaaaaaaccaaccatgaagagagatcatcatcatcatcatcatcaagataagaagactatgatgatgaatgaagaagacgacggtaacggcatggatgagcttctagctgttcttggttacaaggttaggtcatccgaaatggctgatgttgctcagaaactcgagcagcttgaagttatgatgtctaatgttcaagaagacgatctttctcaactcgctactgagactgttcactataatccggcggagctttacacgtggcttgattctatgctcaccgacc 623\n",
      "tcctccgtcgtctaacgccgagtacgatc 29\n",
      "agctattcccggtgacgcgattctcaatcagttcgctatcgattcggcttcttcgtctaaccaaggcggcggaggagatacgtatactacaaacaagcggttgaaatgctcaaacggcgtcgtggaaaccactacagcgacggctgagtcaactcggcatgttgtcctggttgactcgcaggagaacggtgtgcgtctcgttcacgcgcttttggcttgcgctgaagctgttcagaaagagaatctgactgtagcggaagctctggtgaagcaaatcggattcttagccgtttctcaaatcggagcgatgagaaaagtcgctacttacttcgccgaagctctcgcgcggcggatttaccgtctctctccgtcgcagagtccaatcgaccactctctctccgatactcttcagatgcacttctacgagacttgtccttatctcaagttcgctcacttcacggcgaatcaagcgattctcgaagcttttcaagggaagaaaagagttcatgtcattgatttctctatgagtcaaggtcttcaatggccggcgcttatgcaggctcttgcgcttcgacctggtggtcctcctgttttccgg 598\n",
      "ccggaattggtccaccggcaccggataatttcgattatcttcatgaagttgggtgtaagctggctcatttagctgaggcgattcacgttgagtttgagtacagaggatttgtggctaacactttagctgatcttgatgcttcgatgcttgagcttagaccaagtgagattgaatctgttgcgg 183\n",
      "ctctgttttcgagcttcacaagctcttgggacgacctggtgcgatcgataaggttcttggtgtggtgaatcaga 74\n",
      "accggagattttcactgtggttgagcaggaatcgaaccataatagtccgattttcttagatcggtttactgagtcgttgcattattactcgacgttgtttgactcgttggaaggtgtaccgagtggtcaagacaaggtcatgtcggaggtttacttgggtaaacagatctgcaacgttgtggcttgtgatggacctgaccgagttgagcgtcatgaaacgttgagtcagtggaggaaccggttcgggtctgctgggtttgcggctgcacatattggttcgaatgcgt 287\n",
      "gcaagcgagtatgcttttggctctgttcaacggcggtgagggttatcgggtggaggagagtgacggctgtctcatgttgggttggcacacacgaccgctcatagccacctcggcttggaaactctccaccaattagatggtggctcaatgaattgatctgttgaaccggttatgatgatagatttccgaccgaagccaaactaaatcctactgtttttccctttgtcacttg 232\n",
      "gatcttatctttcattatattaggtaattgaaaaatt 37\n",
      "tctcgctttggagagttttttttttttgcatgtgacattggagggtaaattggataggcagaaatagaagtatgtgttaccaagtatgtgcaattggttgaaataaaatcatcttgagtgtcaccatctataaaattcattgtaatgactaatgagcctga 161\n",
      "actgtctcttatgataatgtgctgattctcatgaatatgctctt 44\n",
      "tgtgcatggtattataggtggaccagattatt 32\n",
      "caatgctaag 10\n"
     ]
    }
   ],
   "source": [
    "for fragment in dna_sequence_gai.split('ttaa'):\n",
    "    print fragment,len(fragment)"
   ]
  },
  {
   "cell_type": "code",
   "execution_count": 55,
   "metadata": {},
   "outputs": [
    {
     "name": "stdout",
     "output_type": "stream",
     "text": [
      "ctaaactctaaagtaatactaactttagaaaata 34\n",
      "tctgtaaaaagctatatattccctaatatattagttta 38\n",
      "tttcaatatattccctaattacaaattttggtgtgtgtgtgattttcagccttatctctttgagctgtagatgttgctgttagccctctgatccatgattcatcggacatcgagccccatcacgagcctttttattctcaacaataataatcattttttttcttataaccttcctctctatttttacaatttattttgttattagaagtggtagtggagtgaaaaaacaaatcctaagcagtcctaaccgatccccgaagctaaagattcttcaccttcccaaataaagcaaaacctagatccgacattgaaggaaaaaccttttagatccatctctgaaaaaaaaccaaccatgaagagagatcatcatcatcatcatcatcaagataagaagactatgatgatgaatgaagaagacgacggtaacggcatggatgagcttctagctgttcttggttacaaggttaggtcatccgaaatggctgatgttgctcagaaactcgagcagcttgaagttatgatgtctaatgttcaagaagacgatctttctcaactcgctactgagactgttcactataatccggcggagctttacacgtggcttgattctatgctcaccgacc 623\n",
      "tcctccgtcgtctaacgccgagtacgatc 29\n",
      "agctattcccggtgacgcgattctcaatcagttcgctatcgattcggcttcttcgtctaaccaaggcggcggaggagatacgtatactacaaacaagcggttgaaatgctcaaacggcgtcgtggaaaccactacagcgacggctgagtcaactcggcatgttgtcctggttgactcgcaggagaacggtgtgcgtctcgttcacgcgcttttggcttgcgctgaagctgttcagaaagagaatctgactgtagcggaagctctggtgaagcaaatcggattcttagccgtttctcaaatcggagcgatgagaaaagtcgctacttacttcgccgaagctctcgcgcggcggatttaccgtctctctccgtcgcagagtccaatcgaccactctctctccgatactcttcagatgcacttctacgagacttgtccttatctcaagttcgctcacttcacggcgaatcaagcgattctcgaagcttttcaagggaagaaaagagttcatgtcattgatttctctatgagtcaaggtcttcaatggccggcgcttatgcaggctcttgcgcttcgacctggtggtcctcctgttttccgg 598\n",
      "ccggaattggtccaccggcaccggataatttcgattatcttcatgaagttgggtgtaagctggctcatttagctgaggcgattcacgttgagtttgagtacagaggatttgtggctaacactttagctgatcttgatgcttcgatgcttgagcttagaccaagtgagattgaatctgttgcgg 183\n",
      "ctctgttttcgagcttcacaagctcttgggacgacctggtgcgatcgataaggttcttggtgtggtgaatcaga 74\n",
      "accggagattttcactgtggttgagcaggaatcgaaccataatagtccgattttcttagatcggtttactgagtcgttgcattattactcgacgttgtttgactcgttggaaggtgtaccgagtggtcaagacaaggtcatgtcggaggtttacttgggtaaacagatctgcaacgttgtggcttgtgatggacctgaccgagttgagcgtcatgaaacgttgagtcagtggaggaaccggttcgggtctgctgggtttgcggctgcacatattggttcgaatgcgt 287\n",
      "gcaagcgagtatgcttttggctctgttcaacggcggtgagggttatcgggtggaggagagtgacggctgtctcatgttgggttggcacacacgaccgctcatagccacctcggcttggaaactctccaccaattagatggtggctcaatgaattgatctgttgaaccggttatgatgatagatttccgaccgaagccaaactaaatcctactgtttttccctttgtcacttg 232\n",
      "gatcttatctttcattatattaggtaattgaaaaatt 37\n",
      "tctcgctttggagagttttttttttttgcatgtgacattggagggtaaattggataggcagaaatagaagtatgtgttaccaagtatgtgcaattggttgaaataaaatcatcttgagtgtcaccatctataaaattcattgtaatgactaatgagcctga 161\n",
      "actgtctcttatgataatgtgctgattctcatgaatatgctctt 44\n",
      "tgtgcatggtattataggtggaccagattatt 32\n",
      "caatgctaag 10\n"
     ]
    }
   ],
   "source": [
    "fragment_size_list = []\n",
    "for fragment in dna_sequence_gai.split('ttaa'):\n",
    "    print fragment,len(fragment)\n",
    "    fragment_size_list.append(len(fragment))"
   ]
  },
  {
   "cell_type": "code",
   "execution_count": 57,
   "metadata": {},
   "outputs": [
    {
     "data": {
      "text/plain": [
       "[34, 38, 623, 29, 598, 183, 74, 287, 232, 37, 161, 44, 32, 10]"
      ]
     },
     "execution_count": 57,
     "metadata": {},
     "output_type": "execute_result"
    }
   ],
   "source": [
    "fragment_size_list"
   ]
  },
  {
   "cell_type": "code",
   "execution_count": 51,
   "metadata": {},
   "outputs": [
    {
     "name": "stdout",
     "output_type": "stream",
     "text": [
      "tttcaatatattccctaattacaaattttggtgtgtgtgtgattttcagccttatctctttgagctgtagatgttgctgttagccctctgatccatgattcatcggacatcgagccccatcacgagcctttttattctcaacaataataatcattttttttcttataaccttcctctctatttttacaatttattttgttattagaagtggtagtggagtgaaaaaacaaatcctaagcagtcctaaccgatccccgaagctaaagattcttcaccttcccaaataaagcaaaacctagatccgacattgaaggaaaaaccttttagatccatctctgaaaaaaaaccaaccatgaagagagatcatcatcatcatcatcatcaagataagaagactatgatgatgaatgaagaagacgacggtaacggcatggatgagcttctagctgttcttggttacaaggttaggtcatccgaaatggctgatgttgctcagaaactcgagcagcttgaagttatgatgtctaatgttcaagaagacgatctttctcaactcgctactgagactgttcactataatccggcggagctttacacgtggcttgattctatgctcaccgacc 623\n",
      "agctattcccggtgacgcgattctcaatcagttcgctatcgattcggcttcttcgtctaaccaaggcggcggaggagatacgtatactacaaacaagcggttgaaatgctcaaacggcgtcgtggaaaccactacagcgacggctgagtcaactcggcatgttgtcctggttgactcgcaggagaacggtgtgcgtctcgttcacgcgcttttggcttgcgctgaagctgttcagaaagagaatctgactgtagcggaagctctggtgaagcaaatcggattcttagccgtttctcaaatcggagcgatgagaaaagtcgctacttacttcgccgaagctctcgcgcggcggatttaccgtctctctccgtcgcagagtccaatcgaccactctctctccgatactcttcagatgcacttctacgagacttgtccttatctcaagttcgctcacttcacggcgaatcaagcgattctcgaagcttttcaagggaagaaaagagttcatgtcattgatttctctatgagtcaaggtcttcaatggccggcgcttatgcaggctcttgcgcttcgacctggtggtcctcctgttttccgg 598\n",
      "ccggaattggtccaccggcaccggataatttcgattatcttcatgaagttgggtgtaagctggctcatttagctgaggcgattcacgttgagtttgagtacagaggatttgtggctaacactttagctgatcttgatgcttcgatgcttgagcttagaccaagtgagattgaatctgttgcgg 183\n",
      "ctctgttttcgagcttcacaagctcttgggacgacctggtgcgatcgataaggttcttggtgtggtgaatcaga 74\n",
      "accggagattttcactgtggttgagcaggaatcgaaccataatagtccgattttcttagatcggtttactgagtcgttgcattattactcgacgttgtttgactcgttggaaggtgtaccgagtggtcaagacaaggtcatgtcggaggtttacttgggtaaacagatctgcaacgttgtggcttgtgatggacctgaccgagttgagcgtcatgaaacgttgagtcagtggaggaaccggttcgggtctgctgggtttgcggctgcacatattggttcgaatgcgt 287\n",
      "gcaagcgagtatgcttttggctctgttcaacggcggtgagggttatcgggtggaggagagtgacggctgtctcatgttgggttggcacacacgaccgctcatagccacctcggcttggaaactctccaccaattagatggtggctcaatgaattgatctgttgaaccggttatgatgatagatttccgaccgaagccaaactaaatcctactgtttttccctttgtcacttg 232\n",
      "tctcgctttggagagttttttttttttgcatgtgacattggagggtaaattggataggcagaaatagaagtatgtgttaccaagtatgtgcaattggttgaaataaaatcatcttgagtgtcaccatctataaaattcattgtaatgactaatgagcctga 161\n"
     ]
    }
   ],
   "source": [
    "for fragment in dna_sequence_gai.split('ttaa'):\n",
    "    if len(fragment) > 50:\n",
    "        print fragment,len(fragment)"
   ]
  },
  {
   "cell_type": "markdown",
   "metadata": {},
   "source": [
    "---\n",
    "*여러개의 염기서열을 저장하고 이름도 써놓고 싶다.* \n",
    "\n",
    "dictionary라는 자료형을 활용하자! \n",
    "\n",
    "{\"이름\" : \"내용\"} 의 형식으로 저장된다. \n",
    "\n",
    "{key   : value} 라고 부른다. \n",
    "\n"
   ]
  },
  {
   "cell_type": "code",
   "execution_count": 57,
   "metadata": {},
   "outputs": [
    {
     "data": {
      "text/plain": [
       "{'GAI': 'ctaaactctaaagtaatactaactttagaaaatattaatctgtaaaaagctatatattccctaatatattagtttattaatttcaatatattccctaattacaaattttggtgtgtgtgtgattttcagccttatctctttgagctgtagatgttgctgttagccctctgatccatgattcatcggacatcgagccccatcacgagcctttttattctcaacaataataatcattttttttcttataaccttcctctctatttttacaatttattttgttattagaagtggtagtggagtgaaaaaacaaatcctaagcagtcctaaccgatccccgaagctaaagattcttcaccttcccaaataaagcaaaacctagatccgacattgaaggaaaaaccttttagatccatctctgaaaaaaaaccaaccatgaagagagatcatcatcatcatcatcatcaagataagaagactatgatgatgaatgaagaagacgacggtaacggcatggatgagcttctagctgttcttggttacaaggttaggtcatccgaaatggctgatgttgctcagaaactcgagcagcttgaagttatgatgtctaatgttcaagaagacgatctttctcaactcgctactgagactgttcactataatccggcggagctttacacgtggcttgattctatgctcaccgaccttaatcctccgtcgtctaacgccgagtacgatcttaaagctattcccggtgacgcgattctcaatcagttcgctatcgattcggcttcttcgtctaaccaaggcggcggaggagatacgtatactacaaacaagcggttgaaatgctcaaacggcgtcgtggaaaccactacagcgacggctgagtcaactcggcatgttgtcctggttgactcgcaggagaacggtgtgcgtctcgttcacgcgcttttggcttgcgctgaagctgttcagaaagagaatctgactgtagcggaagctctggtgaagcaaatcggattcttagccgtttctcaaatcggagcgatgagaaaagtcgctacttacttcgccgaagctctcgcgcggcggatttaccgtctctctccgtcgcagagtccaatcgaccactctctctccgatactcttcagatgcacttctacgagacttgtccttatctcaagttcgctcacttcacggcgaatcaagcgattctcgaagcttttcaagggaagaaaagagttcatgtcattgatttctctatgagtcaaggtcttcaatggccggcgcttatgcaggctcttgcgcttcgacctggtggtcctcctgttttccggttaaccggaattggtccaccggcaccggataatttcgattatcttcatgaagttgggtgtaagctggctcatttagctgaggcgattcacgttgagtttgagtacagaggatttgtggctaacactttagctgatcttgatgcttcgatgcttgagcttagaccaagtgagattgaatctgttgcggttaactctgttttcgagcttcacaagctcttgggacgacctggtgcgatcgataaggttcttggtgtggtgaatcagattaaaccggagattttcactgtggttgagcaggaatcgaaccataatagtccgattttcttagatcggtttactgagtcgttgcattattactcgacgttgtttgactcgttggaaggtgtaccgagtggtcaagacaaggtcatgtcggaggtttacttgggtaaacagatctgcaacgttgtggcttgtgatggacctgaccgagttgagcgtcatgaaacgttgagtcagtggaggaaccggttcgggtctgctgggtttgcggctgcacatattggttcgaatgcgtttaagcaagcgagtatgcttttggctctgttcaacggcggtgagggttatcgggtggaggagagtgacggctgtctcatgttgggttggcacacacgaccgctcatagccacctcggcttggaaactctccaccaattagatggtggctcaatgaattgatctgttgaaccggttatgatgatagatttccgaccgaagccaaactaaatcctactgtttttccctttgtcacttgttaagatcttatctttcattatattaggtaattgaaaaattttaatctcgctttggagagttttttttttttgcatgtgacattggagggtaaattggataggcagaaatagaagtatgtgttaccaagtatgtgcaattggttgaaataaaatcatcttgagtgtcaccatctataaaattcattgtaatgactaatgagcctgattaaactgtctcttatgataatgtgctgattctcatgaatatgctcttttaatgtgcatggtattataggtggaccagattattttaacaatgctaag'}"
      ]
     },
     "execution_count": 57,
     "metadata": {},
     "output_type": "execute_result"
    }
   ],
   "source": [
    "{'GAI':dna_sequence_gai}"
   ]
  },
  {
   "cell_type": "code",
   "execution_count": 45,
   "metadata": {
    "collapsed": true
   },
   "outputs": [],
   "source": [
    "dicName2seq = {'GAI':dna_sequence}"
   ]
  },
  {
   "cell_type": "code",
   "execution_count": 46,
   "metadata": {},
   "outputs": [
    {
     "data": {
      "text/plain": [
       "{'GAI': 'ctaaactctaaagtaatactaactttagaaaatattaatctgtaaaaagctatatattccctaatatattagtttattaatttcaatatattccctaattacaaattttggtgtgtgtgtgattttcagccttatctctttgagctgtagatgttgctgttagccctctgatccatgattcatcggacatcgagccccatcacgagcctttttattctcaacaataataatcattttttttcttataaccttcctctctatttttacaatttattttgttattagaagtggtagtggagtgaaaaaacaaatcctaagcagtcctaaccgatccccgaagctaaagattcttcaccttcccaaataaagcaaaacctagatccgacattgaaggaaaaaccttttagatccatctctgaaaaaaaaccaaccatgaagagagatcatcatcatcatcatcatcaagataagaagactatgatgatgaatgaagaagacgacggtaacggcatggatgagcttctagctgttcttggttacaaggttaggtcatccgaaatggctgatgttgctcagaaactcgagcagcttgaagttatgatgtctaatgttcaagaagacgatctttctcaactcgctactgagactgttcactataatccggcggagctttacacgtggcttgattctatgctcaccgaccttaatcctccgtcgtctaacgccgagtacgatcttaaagctattcccggtgacgcgattctcaatcagttcgctatcgattcggcttcttcgtctaaccaaggcggcggaggagatacgtatactacaaacaagcggttgaaatgctcaaacggcgtcgtggaaaccactacagcgacggctgagtcaactcggcatgttgtcctggttgactcgcaggagaacggtgtgcgtctcgttcacgcgcttttggcttgcgctgaagctgttcagaaagagaatctgactgtagcggaagctctggtgaagcaaatcggattcttagccgtttctcaaatcggagcgatgagaaaagtcgctacttacttcgccgaagctctcgcgcggcggatttaccgtctctctccgtcgcagagtccaatcgaccactctctctccgatactcttcagatgcacttctacgagacttgtccttatctcaagttcgctcacttcacggcgaatcaagcgattctcgaagcttttcaagggaagaaaagagttcatgtcattgatttctctatgagtcaaggtcttcaatggccggcgcttatgcaggctcttgcgcttcgacctggtggtcctcctgttttccggttaaccggaattggtccaccggcaccggataatttcgattatcttcatgaagttgggtgtaagctggctcatttagctgaggcgattcacgttgagtttgagtacagaggatttgtggctaacactttagctgatcttgatgcttcgatgcttgagcttagaccaagtgagattgaatctgttgcggttaactctgttttcgagcttcacaagctcttgggacgacctggtgcgatcgataaggttcttggtgtggtgaatcagattaaaccggagattttcactgtggttgagcaggaatcgaaccataatagtccgattttcttagatcggtttactgagtcgttgcattattactcgacgttgtttgactcgttggaaggtgtaccgagtggtcaagacaaggtcatgtcggaggtttacttgggtaaacagatctgcaacgttgtggcttgtgatggacctgaccgagttgagcgtcatgaaacgttgagtcagtggaggaaccggttcgggtctgctgggtttgcggctgcacatattggttcgaatgcgtttaagcaagcgagtatgcttttggctctgttcaacggcggtgagggttatcgggtggaggagagtgacggctgtctcatgttgggttggcacacacgaccgctcatagccacctcggcttggaaactctccaccaattagatggtggctcaatgaattgatctgttgaaccggttatgatgatagatttccgaccgaagccaaactaaatcctactgtttttccctttgtcacttgttaagatcttatctttcattatattaggtaattgaaaaattttaatctcgctttggagagttttttttttttgcatgtgacattggagggtaaattggataggcagaaatagaagtatgtgttaccaagtatgtgcaattggttgaaataaaatcatcttgagtgtcaccatctataaaattcattgtaatgactaatgagcctgattaaactgtctcttatgataatgtgctgattctcatgaatatgctcttttaatgtgcatggtattataggtggaccagattattttaacaatgctaag'}"
      ]
     },
     "execution_count": 46,
     "metadata": {},
     "output_type": "execute_result"
    }
   ],
   "source": [
    "dicName2seq"
   ]
  },
  {
   "cell_type": "code",
   "execution_count": 47,
   "metadata": {},
   "outputs": [
    {
     "data": {
      "text/plain": [
       "'ctaaactctaaagtaatactaactttagaaaatattaatctgtaaaaagctatatattccctaatatattagtttattaatttcaatatattccctaattacaaattttggtgtgtgtgtgattttcagccttatctctttgagctgtagatgttgctgttagccctctgatccatgattcatcggacatcgagccccatcacgagcctttttattctcaacaataataatcattttttttcttataaccttcctctctatttttacaatttattttgttattagaagtggtagtggagtgaaaaaacaaatcctaagcagtcctaaccgatccccgaagctaaagattcttcaccttcccaaataaagcaaaacctagatccgacattgaaggaaaaaccttttagatccatctctgaaaaaaaaccaaccatgaagagagatcatcatcatcatcatcatcaagataagaagactatgatgatgaatgaagaagacgacggtaacggcatggatgagcttctagctgttcttggttacaaggttaggtcatccgaaatggctgatgttgctcagaaactcgagcagcttgaagttatgatgtctaatgttcaagaagacgatctttctcaactcgctactgagactgttcactataatccggcggagctttacacgtggcttgattctatgctcaccgaccttaatcctccgtcgtctaacgccgagtacgatcttaaagctattcccggtgacgcgattctcaatcagttcgctatcgattcggcttcttcgtctaaccaaggcggcggaggagatacgtatactacaaacaagcggttgaaatgctcaaacggcgtcgtggaaaccactacagcgacggctgagtcaactcggcatgttgtcctggttgactcgcaggagaacggtgtgcgtctcgttcacgcgcttttggcttgcgctgaagctgttcagaaagagaatctgactgtagcggaagctctggtgaagcaaatcggattcttagccgtttctcaaatcggagcgatgagaaaagtcgctacttacttcgccgaagctctcgcgcggcggatttaccgtctctctccgtcgcagagtccaatcgaccactctctctccgatactcttcagatgcacttctacgagacttgtccttatctcaagttcgctcacttcacggcgaatcaagcgattctcgaagcttttcaagggaagaaaagagttcatgtcattgatttctctatgagtcaaggtcttcaatggccggcgcttatgcaggctcttgcgcttcgacctggtggtcctcctgttttccggttaaccggaattggtccaccggcaccggataatttcgattatcttcatgaagttgggtgtaagctggctcatttagctgaggcgattcacgttgagtttgagtacagaggatttgtggctaacactttagctgatcttgatgcttcgatgcttgagcttagaccaagtgagattgaatctgttgcggttaactctgttttcgagcttcacaagctcttgggacgacctggtgcgatcgataaggttcttggtgtggtgaatcagattaaaccggagattttcactgtggttgagcaggaatcgaaccataatagtccgattttcttagatcggtttactgagtcgttgcattattactcgacgttgtttgactcgttggaaggtgtaccgagtggtcaagacaaggtcatgtcggaggtttacttgggtaaacagatctgcaacgttgtggcttgtgatggacctgaccgagttgagcgtcatgaaacgttgagtcagtggaggaaccggttcgggtctgctgggtttgcggctgcacatattggttcgaatgcgtttaagcaagcgagtatgcttttggctctgttcaacggcggtgagggttatcgggtggaggagagtgacggctgtctcatgttgggttggcacacacgaccgctcatagccacctcggcttggaaactctccaccaattagatggtggctcaatgaattgatctgttgaaccggttatgatgatagatttccgaccgaagccaaactaaatcctactgtttttccctttgtcacttgttaagatcttatctttcattatattaggtaattgaaaaattttaatctcgctttggagagttttttttttttgcatgtgacattggagggtaaattggataggcagaaatagaagtatgtgttaccaagtatgtgcaattggttgaaataaaatcatcttgagtgtcaccatctataaaattcattgtaatgactaatgagcctgattaaactgtctcttatgataatgtgctgattctcatgaatatgctcttttaatgtgcatggtattataggtggaccagattattttaacaatgctaag'"
      ]
     },
     "execution_count": 47,
     "metadata": {},
     "output_type": "execute_result"
    }
   ],
   "source": [
    "dicName2seq['GAI']"
   ]
  },
  {
   "cell_type": "code",
   "execution_count": 49,
   "metadata": {
    "collapsed": true
   },
   "outputs": [],
   "source": [
    "# araport 에서 RGA1의 서열을 찾아서 딕셔너리에 넣어보자 \n",
    "dna_sequence_RGA1 = '''attattattagttctggtatgaatgatgattgaagtggtagtagcagtgaaaaacaaaag\n",
    "caatccaatcccaaacccatttgctcttaagattcttcacatagagaagtcacatgttcc\n",
    "ttcttcttcttccttcatcatccccaaacacacacaaactaaaaaaaaggcaaaacccta\n",
    "gatccaagatcagacctaatctaatcgaaactcatagctgaaaaatgaagagagatcatc\n",
    "accaattccaaggtcgattgtccaaccacgggacttcttcttcatcatcatcaatctcta\n",
    "aagataagatgatgatggtgaaaaaagaagaagacggtggaggtaacatggacgacgagc\n",
    "ttctcgctgttttaggttacaaagttaggtcatcggagatggcggaggttgctttgaaac\n",
    "tcgaacaattagagacgatgatgagtaatgttcaagaagatggtttatctcatctcgcga\n",
    "cggatactgttcattataatccgtcggagctttattcttggcttgataatatgctctctg\n",
    "agcttaatcctcctcctcttccggcgagttctaacggtttagatccggttcttccttcgc\n",
    "cggagatttgtggttttccggcttcggattatgaccttaaagtcattcccggaaacgcga\n",
    "tttatcagtttccggcgattgattcttcgtcttcgtcgaataatcagaacaagcgtttga\n",
    "aatcatgctcgagtcctgattctatggttacatcgacttcgacgggtacgcagattggtg\n",
    "gagtcataggaacgacggtgacgacaaccaccacgacaacgacggcggcgggtgagtcaa\n",
    "ctcgttctgttatcctggttgactcgcaagagaacggtgttcgtttagtccacgcgctta\n",
    "tggcttgtgcagaagcaatccagcagaacaatttgactctagcggaagctcttgtgaagc\n",
    "aaatcggatgcttagctgtgtctcaagccggagctatgagaaaagtggctacttacttcg\n",
    "ccgaagctttagcgcggcggatctaccgtctctctccgccgcagaatcagatcgatcatt\n",
    "gtctctccgatactcttcagatgcacttttacgagacttgtccttatcttaaattcgctc\n",
    "acttcacggcgaaccaagcgattctcgaagcttttgaaggtaagaagagagtacacgtca\n",
    "ttgatttctcgatgaaccaaggtcttcaatggcctgcacttatgcaagctcttgcgcttc\n",
    "gagaaggaggtcctccaactttccggttaaccggaattggtccaccggcgccggataatt\n",
    "ctgatcatcttcatgaagttggttgtaaattagctcagcttgcggaggcgattcacgtag\n",
    "aattcgaataccgtggattcgttgctaacagcttagccgatctcgatgcttcgatgcttg\n",
    "agcttagaccgagcgatacggaagctgttgcggtgaactctgtttttgagctacataagc\n",
    "tcttaggtcgtcccggtgggatagagaaagttctcggcgttgtgaaacagattaaaccgg\n",
    "tgattttcacggtggttgagcaagaatcgaaccataacggaccggttttcttagaccggt\n",
    "ttactgaatcgttacattattattcgactctgtttgattcgttggaaggagttccgaata\n",
    "gtcaagacaaagtcatgtctgaagtttacttagggaaacagatttgtaatctggtggctt\n",
    "gtgaaggtcctgacagagtcgagagacacgaaacgttgagtcaatggggaaaccggtttg\n",
    "gttcgtccggtttagcgccggcacatcttgggtctaacgcgtttaagcaagcgagtatgc\n",
    "ttttgtctgtgtttaatagtggccaaggttatcgtgtggaggagagtaatggatgtttga\n",
    "tgttgggttggcacactcgtccactcattaccacctccgcttggaaactctcgacggcgg\n",
    "cgtactgagtttgactcgaagcatacgacggtggtggagtcgagtcgagtgaatttgaga\n",
    "ttgagatcagtggaccggtgatgacatatgttcggaccaagacctaaaccgaactgaatc\n",
    "gaaccgttttgccttttgtttattttatttattttcgttcacttgtttaaaattcttata\n",
    "tatatcgttttggtaggtcatttttaatttatgcctttttgggatcaatttttaataggc\n",
    "tgagtttgtatttattaataaattatctttatgaattttaaactaaaactatgttttaat\n",
    "ctcatttaaaaaaaaattaatatcaagttttattaatctcaa'''.replace('\\n','')"
   ]
  },
  {
   "cell_type": "code",
   "execution_count": 51,
   "metadata": {
    "collapsed": true
   },
   "outputs": [],
   "source": [
    "dicName2Seq['RGA1'] = dna_sequence_RGA1"
   ]
  },
  {
   "cell_type": "code",
   "execution_count": 52,
   "metadata": {},
   "outputs": [
    {
     "data": {
      "text/plain": [
       "{'GAI': 'ctaaactctaaagtaatactaactttagaaaatattaatctgtaaaaagctatatattccctaatatattagtttattaatttcaatatattccctaattacaaattttggtgtgtgtgtgattttcagccttatctctttgagctgtagatgttgctgttagccctctgatccatgattcatcggacatcgagccccatcacgagcctttttattctcaacaataataatcattttttttcttataaccttcctctctatttttacaatttattttgttattagaagtggtagtggagtgaaaaaacaaatcctaagcagtcctaaccgatccccgaagctaaagattcttcaccttcccaaataaagcaaaacctagatccgacattgaaggaaaaaccttttagatccatctctgaaaaaaaaccaaccatgaagagagatcatcatcatcatcatcatcaagataagaagactatgatgatgaatgaagaagacgacggtaacggcatggatgagcttctagctgttcttggttacaaggttaggtcatccgaaatggctgatgttgctcagaaactcgagcagcttgaagttatgatgtctaatgttcaagaagacgatctttctcaactcgctactgagactgttcactataatccggcggagctttacacgtggcttgattctatgctcaccgaccttaatcctccgtcgtctaacgccgagtacgatcttaaagctattcccggtgacgcgattctcaatcagttcgctatcgattcggcttcttcgtctaaccaaggcggcggaggagatacgtatactacaaacaagcggttgaaatgctcaaacggcgtcgtggaaaccactacagcgacggctgagtcaactcggcatgttgtcctggttgactcgcaggagaacggtgtgcgtctcgttcacgcgcttttggcttgcgctgaagctgttcagaaagagaatctgactgtagcggaagctctggtgaagcaaatcggattcttagccgtttctcaaatcggagcgatgagaaaagtcgctacttacttcgccgaagctctcgcgcggcggatttaccgtctctctccgtcgcagagtccaatcgaccactctctctccgatactcttcagatgcacttctacgagacttgtccttatctcaagttcgctcacttcacggcgaatcaagcgattctcgaagcttttcaagggaagaaaagagttcatgtcattgatttctctatgagtcaaggtcttcaatggccggcgcttatgcaggctcttgcgcttcgacctggtggtcctcctgttttccggttaaccggaattggtccaccggcaccggataatttcgattatcttcatgaagttgggtgtaagctggctcatttagctgaggcgattcacgttgagtttgagtacagaggatttgtggctaacactttagctgatcttgatgcttcgatgcttgagcttagaccaagtgagattgaatctgttgcggttaactctgttttcgagcttcacaagctcttgggacgacctggtgcgatcgataaggttcttggtgtggtgaatcagattaaaccggagattttcactgtggttgagcaggaatcgaaccataatagtccgattttcttagatcggtttactgagtcgttgcattattactcgacgttgtttgactcgttggaaggtgtaccgagtggtcaagacaaggtcatgtcggaggtttacttgggtaaacagatctgcaacgttgtggcttgtgatggacctgaccgagttgagcgtcatgaaacgttgagtcagtggaggaaccggttcgggtctgctgggtttgcggctgcacatattggttcgaatgcgtttaagcaagcgagtatgcttttggctctgttcaacggcggtgagggttatcgggtggaggagagtgacggctgtctcatgttgggttggcacacacgaccgctcatagccacctcggcttggaaactctccaccaattagatggtggctcaatgaattgatctgttgaaccggttatgatgatagatttccgaccgaagccaaactaaatcctactgtttttccctttgtcacttgttaagatcttatctttcattatattaggtaattgaaaaattttaatctcgctttggagagttttttttttttgcatgtgacattggagggtaaattggataggcagaaatagaagtatgtgttaccaagtatgtgcaattggttgaaataaaatcatcttgagtgtcaccatctataaaattcattgtaatgactaatgagcctgattaaactgtctcttatgataatgtgctgattctcatgaatatgctcttttaatgtgcatggtattataggtggaccagattattttaacaatgctaag',\n",
       " 'RGA1': 'attattattagttctggtatgaatgatgattgaagtggtagtagcagtgaaaaacaaaagcaatccaatcccaaacccatttgctcttaagattcttcacatagagaagtcacatgttccttcttcttcttccttcatcatccccaaacacacacaaactaaaaaaaaggcaaaaccctagatccaagatcagacctaatctaatcgaaactcatagctgaaaaatgaagagagatcatcaccaattccaaggtcgattgtccaaccacgggacttcttcttcatcatcatcaatctctaaagataagatgatgatggtgaaaaaagaagaagacggtggaggtaacatggacgacgagcttctcgctgttttaggttacaaagttaggtcatcggagatggcggaggttgctttgaaactcgaacaattagagacgatgatgagtaatgttcaagaagatggtttatctcatctcgcgacggatactgttcattataatccgtcggagctttattcttggcttgataatatgctctctgagcttaatcctcctcctcttccggcgagttctaacggtttagatccggttcttccttcgccggagatttgtggttttccggcttcggattatgaccttaaagtcattcccggaaacgcgatttatcagtttccggcgattgattcttcgtcttcgtcgaataatcagaacaagcgtttgaaatcatgctcgagtcctgattctatggttacatcgacttcgacgggtacgcagattggtggagtcataggaacgacggtgacgacaaccaccacgacaacgacggcggcgggtgagtcaactcgttctgttatcctggttgactcgcaagagaacggtgttcgtttagtccacgcgcttatggcttgtgcagaagcaatccagcagaacaatttgactctagcggaagctcttgtgaagcaaatcggatgcttagctgtgtctcaagccggagctatgagaaaagtggctacttacttcgccgaagctttagcgcggcggatctaccgtctctctccgccgcagaatcagatcgatcattgtctctccgatactcttcagatgcacttttacgagacttgtccttatcttaaattcgctcacttcacggcgaaccaagcgattctcgaagcttttgaaggtaagaagagagtacacgtcattgatttctcgatgaaccaaggtcttcaatggcctgcacttatgcaagctcttgcgcttcgagaaggaggtcctccaactttccggttaaccggaattggtccaccggcgccggataattctgatcatcttcatgaagttggttgtaaattagctcagcttgcggaggcgattcacgtagaattcgaataccgtggattcgttgctaacagcttagccgatctcgatgcttcgatgcttgagcttagaccgagcgatacggaagctgttgcggtgaactctgtttttgagctacataagctcttaggtcgtcccggtgggatagagaaagttctcggcgttgtgaaacagattaaaccggtgattttcacggtggttgagcaagaatcgaaccataacggaccggttttcttagaccggtttactgaatcgttacattattattcgactctgtttgattcgttggaaggagttccgaatagtcaagacaaagtcatgtctgaagtttacttagggaaacagatttgtaatctggtggcttgtgaaggtcctgacagagtcgagagacacgaaacgttgagtcaatggggaaaccggtttggttcgtccggtttagcgccggcacatcttgggtctaacgcgtttaagcaagcgagtatgcttttgtctgtgtttaatagtggccaaggttatcgtgtggaggagagtaatggatgtttgatgttgggttggcacactcgtccactcattaccacctccgcttggaaactctcgacggcggcgtactgagtttgactcgaagcatacgacggtggtggagtcgagtcgagtgaatttgagattgagatcagtggaccggtgatgacatatgttcggaccaagacctaaaccgaactgaatcgaaccgttttgccttttgtttattttatttattttcgttcacttgtttaaaattcttatatatatcgttttggtaggtcatttttaatttatgcctttttgggatcaatttttaataggctgagtttgtatttattaataaattatctttatgaattttaaactaaaactatgttttaatctcatttaaaaaaaaattaatatcaagttttattaatctcaa'}"
      ]
     },
     "execution_count": 52,
     "metadata": {},
     "output_type": "execute_result"
    }
   ],
   "source": [
    "dicName2Seq"
   ]
  },
  {
   "cell_type": "markdown",
   "metadata": {},
   "source": [
    "*염기서열의 길이는?*"
   ]
  },
  {
   "cell_type": "code",
   "execution_count": 58,
   "metadata": {},
   "outputs": [
    {
     "data": {
      "text/plain": [
       "2434"
      ]
     },
     "execution_count": 58,
     "metadata": {},
     "output_type": "execute_result"
    }
   ],
   "source": [
    "len(dna_sequence_gai)"
   ]
  },
  {
   "cell_type": "code",
   "execution_count": 59,
   "metadata": {},
   "outputs": [
    {
     "data": {
      "text/plain": [
       "2322"
      ]
     },
     "execution_count": 59,
     "metadata": {},
     "output_type": "execute_result"
    }
   ],
   "source": [
    "len(dna_sequence_RGA1)"
   ]
  },
  {
   "cell_type": "code",
   "execution_count": 60,
   "metadata": {
    "collapsed": true
   },
   "outputs": [],
   "source": [
    "dna_length_gai = len(dna_sequence_gai)\n",
    "dna_length_RGA1 = len(dna_sequence_RGA1)"
   ]
  },
  {
   "cell_type": "code",
   "execution_count": 61,
   "metadata": {},
   "outputs": [
    {
     "data": {
      "text/plain": [
       "(2434, 2322)"
      ]
     },
     "execution_count": 61,
     "metadata": {},
     "output_type": "execute_result"
    }
   ],
   "source": [
    "dna_length_gai,dna_length_RGA1"
   ]
  },
  {
   "cell_type": "markdown",
   "metadata": {},
   "source": [
    "---\n",
    "**쉬어가는 코너**\n",
    "\n",
    "* 실습 1: Araport 에서 유전자 AP2, MYB83, bZIP 유전자의 dna sequence 딕셔너리를 만들어보자.<p>\n",
    "*(key 는 유전자이름, value는 dna sequence로 한다. dna sequence 의 개행문자는 모두 제거한 뒤 딕셔너리에 담는다.) *\n",
    "\n",
    "\n",
    "* 실습 2: 같은 유전자들의 dna length 딕셔너리를 만들어보자. <p>\n",
    "*(key는 유전자 이름 value는 dna length로 둔다.) *\n",
    "\n",
    "---"
   ]
  },
  {
   "cell_type": "markdown",
   "metadata": {},
   "source": [
    "**대표적인 생물정보 파일 포멧, FASTA**"
   ]
  },
  {
   "cell_type": "markdown",
   "metadata": {},
   "source": [
    "[fasta format](https://en.wikipedia.org/wiki/FASTA_format)은 염기서열, 단백질 서열들을 컴퓨터에 저장하기 위해 작성된 포멧으로, 사람들이 읽기 편하게 만들어져 있다. 염기서열 및 단백질 서열(들)과, 각 서열의 구체적인 정보가 있다. (보통 이름만 들어있다. 가끔 설명도.) \n",
    "![](./pic_170830/fasta_format.PNG)"
   ]
  },
  {
   "cell_type": "markdown",
   "metadata": {},
   "source": [
    "**DELLA gene family**\n",
    "![](http://www.cell.com/cms/attachment/2012355374/2034391717/gr1.jpg)\n",
    "![](http://h7.alamy.com/comp/B78GM8/dogs-being-walked-by-a-professional-dog-walkertied-up-temporarily-B78GM8.jpg)"
   ]
  },
  {
   "cell_type": "markdown",
   "metadata": {},
   "source": [
    "1. [NCBI](https://www.ncbi.nlm.nih.gov)에서 fasta format으로 염기서열 가져오기<p>\n",
    "![](./pic_170830/ncbi_della.PNG)"
   ]
  },
  {
   "cell_type": "markdown",
   "metadata": {},
   "source": [
    "**sequences.fasta** 를 워킹 폴더에 저장한다.  \n",
    "\n",
    "![](./pic_170830/googlecolab6.PNG)"
   ]
  },
  {
   "cell_type": "code",
   "execution_count": 1,
   "metadata": {
    "collapsed": true
   },
   "outputs": [],
   "source": [
    "# 파일 읽기\n",
    "f         = open('./file_170830/sequence.fasta')\n",
    "della_est = f.read() # 통째로 메모리에 올린다. "
   ]
  },
  {
   "cell_type": "code",
   "execution_count": 2,
   "metadata": {
    "scrolled": false
   },
   "outputs": [
    {
     "name": "stdout",
     "output_type": "stream",
     "text": [
      ">JZ532466.1 SSH_60RA39 Triticum aestivum genotype Chirya 7 young leaf cDNA library Triticum aestivum cDNA similar to DELLA (Rht-B1), mRNA sequence\n",
      "ACTTGGAAATTTTCGATGGCATTAGGATGAAAGATTTTAAGAAGCAAAATATGCTTGATGTGCGGAAGAC\n",
      "GATTGCTTCGAAGCTGTTTTCCCATCCGCTGAACAAGATCTGCCCTGCTGATGTGCACAGGGAAATCACA\n",
      "GTGTGTTGAAGTAGGTGAATCGTAGTGCATTCAAGAAGGCGACCGCAGCAGCGTTTTGAAGATGCAACTT\n",
      "GATAATCCTAGGAATATAGCTTGCCAGTAGTGTGTTATGTTATCTTTTATGTCAAATGAAACTTCATGTA\n",
      "AAGCAAATCTTTTTGTTTCATGTGTGTTTTCTAGCATCTGCTGGCATCAAAATTTGTATGACAATCATAC\n",
      "GTTTGAGGAACTAAAAAAAAAAAAAAAAAAAAAAAAAAAGCTTGTA\n",
      "\n",
      ">JK707018.1 EMB0017 Cicer arietinum six day old embryo cDNA library Cicer arietinum cDNA clone 8 similar to della protein, mRNA sequence\n",
      "GGTCGAGGATGGGTGCGGCTGGGTTCGACCCGGTTCATTTAGGTTCGAACGCGTTTAAACAAGCGAGTAC\n",
      "GTTGTTGGCATTGTTTGCAGGTGGTGATGGGTATAGAGTGGAAGAGAATAATGGATGCCTTATGCTTGGG\n",
      "TGGCACACGAGGTCACTCATTGCTACCTCCGCGTGGAAGCTTCCACTCAGTGAGTCATAGTGATTTGACT\n",
      "CGGGGTACCTTGAGTTAGGAAAAGAACTGAGAACGAGTTTTGGTGAGGTGACATTCAATGTACGGGTCAA\n",
      "TGGGGGTGGTGGATTGGTTAAAACTTTGATCTTGATGAATGAAAAAGTGACTCAGTGAGCGAGTGAGTGA\n",
      "GGCGGGGGATAAATAAAGTAAAACAAAAAAGAATGTAAAAAATCCAAAGTCTTGTAATTTGTAATTGTAC\n",
      "TGTTAATTTCGTTATTACTAATGGTTTTCTGCCTCTAAATTATATAATAATTTGTTTAATTCT\n",
      "\n",
      ">JK707761.1 EMB0781 Cicer arietinum six day old embryo cDNA library Cicer arietinum cDNA clone 1145 similar to DELLA protein GAI, mRNA sequence\n",
      "CCAGGTGTTGTAACGGTTCTGGAGCAAGAAATTAATACCAATACCGCGCCGTTTGTTGCACGTGTGGCTG\n",
      "AGTCGTGTTCTTATTACGGCGCGCTGTTTGATTCAATTGAGTCCACGATGGCGCGTGACAACACGGAGCG\n",
      "AGTCAAGATTGAAGAGGGTTTGAGTCGGAAGCTGGGTAACGCGGTTGCTTGTGAAGGTAGAGATCGCGTC\n",
      "GAACGGTGTGAGGTGTTTGGGAAGTGGCGTGCACGCATGAGTATGGCTGGGTTTAAATTGAACCCAGTGA\n",
      "GTCAGAAAGTGGCTGAGTCGATCAAAGCTCGGCTGGCTCCAGGAAGCCGAGTCACTGTGAATGAAGAAAA\n",
      "CGGTGGAGTTAGCTTTGGGTGGATGGGAAGAACTCTCACCGTCGCATCTGCTTGGCGTTAACTTCACTCA\n",
      "CTTTTTTTTTTTATTTTTTTTTATTTTAAATTTTAAAACGTCTATGAATATTGTATGTCACATTGTTACT\n",
      "GGTATATTTTAATGTTATCTAGAGAAAATTGAAAGGAAAAAAAGAATAGTATTGGAAAAATGTATGGAAC\n",
      "AAAATTCCCCTTCTTCTCTTTAAAAAAAAAAAAAAAAAAAAAAAAAAAA\n",
      "\n",
      ">JZ481830.1 Mado-00-K1-G1-002_A09 K1-G1 Malus domestica cDNA similar to della protein (GAI, RGA2), mRNA sequence\n",
      "ACCCTTCAGCCGAGAAGAGAGTAAGAAGCATACTCGCCTGCTTAAACGCATTCGATCCCAAGTGGAGCGG\n",
      "CCTGAACCCGGCTTGCTCGAGCCGGATCCGCCACTTGTCCAGCGGTTCGTGCCTCTCGACTCGAGCCGCT\n",
      "CCCTCGCAGCACACAACGTCGCATATCTCCCTCTGTATGTAAATCTCCGCCAAAGCCTTCTCCGGCTGCA\n",
      "TCGCGCAAGCCTCCAGCGAGTCGAACATGTTCGAATAGTAGT\n",
      "\n",
      ">JZ191328.1 KGRH397 Rosehip CDNA library Rosa virginiana cDNA 3' similar to della protein gai1-like, mRNA sequence\n",
      "TATGATGGCGCCTTCTCTTCCTCCTGTTGCACCTGAGCCGGAACAAGACAGTGGTCTCCAACTGGTTCAT\n",
      "CTCCTTCTTGCTTGTGCAGAAGCTGTTGCGAAAGAAGATTACATGTTAGCAAGAAGGTATCTCCACCACC\n",
      "TCAATCAAGTGGTGTCGGCTCTTGGCGACTCCATGCAACGTGTTGCCGCCTGCTTCACAGAAGCCTTAAG\n",
      "CGCACGCCTTGCCGCAACTCTAACCACCAATCCAAGTGCTTTGGCGCCCAAGCCCTTCTCTCCTTTCCCT\n",
      "CCCAACTCCCTAGAAATCCTCAAGATATACCAAATTGTCTACCAAGCCTGCCCCTACGTCAAATTCGCTC\n",
      "ACTTCACCGCTAACCAAGCCATTTTCGAGGCTTTTGAGTCCGAAGAACGTGTGCATGTTATTGACCTCGA\n",
      "TATTCTTCAAGGTTATCAATGGCCAGCTTTCATGCAAGCCCTAGCAGCCCGATCGGGCGGTGCCCCATTT\n",
      "CTCCGAATAACTGGAGTCGGTCCATGCTTAGAGGCGGTGAAAGAGACGGGCCGGTGTTTGACCGAATTAG\n",
      "CCATCTCTCTTCACGTCCCCTTTGAGTTTCATGCAGTTGGAGAACAACTGGAAGACCTCAAACCACACAT\n",
      "GTTCAACCGAAGAATAGGCGAAGCCCTAGCAGTGAACACCGTCAACCGTCTCCACCGCGTTCCGGGGAAC\n",
      "TGTCTCGGCAACTTATTAGCCATGATCCGTGACCAGGCACCCAACATTGTGACCCTAGTGGAACAAGAGG\n",
      "CCAGCCACAATGGACCCTACTTTTTGGGCAGGTTCCTCGAAGCCCTACACTATTACTCGGCGATTTTCGA\n",
      "CTCGTNGGANNCCACGTTCCCACC\n",
      "\n",
      ">HO213987.1 Seq17 Hevea brasiliensis PB260 Transcript sequences Hevea brasiliensis cDNA similar to DELLA domain GRAS family transcription factor rga-like protein, mRNA sequence\n",
      "GAAATTCGCCCATTTCACAGCTAATCAAGCAATTCTTGAAGCTTTTACTACTGCAAGTAGAGTTCATGTG\n",
      "ATCGATTTCGGTCTGAAGCAGGGGATGCAGTGGCCGGCACTAATGCAAGCGCTTGCTTTACGCCCAGGTG\n",
      "GGCCGCCGGCTTTCCGTTTAACCGGAATTGGTCCACCGCAGCCTAACAACACCGATGCTT\n",
      "\n",
      ">GW875510.1 JC004646 Seed specific Normalized cDNA library from Jatropha curcas L. Jatropha curcas cDNA clone N08184 5' similar to DELLA protein GAI, mRNA sequence\n",
      "GATATTCATCAGAATCATGTCAATCAACCCCTTAAAGAGAAAGAAACTCTCTCTCTCATCCTTCATTTCT\n",
      "CCATTAAACTCTTTTATGTCTCATGCGTTTCTCTAAGCACCAACTCTTCTTCTAACTCCCTCCAAAGAGA\n",
      "GAGAAAGAGAGAGTGTGCAACAGAAAAATGGCATCTGGGTTTTCCGGTGGTGGCGCAGATTTCTACTCCG\n",
      "GCATGGCAGGTAGATCCATAACTAGCATGAATCCAAACAACCCCTCTCAACCTGGATACAGAAACCAACT\n",
      "CTCTCAAATTTTTCTAGACCCAACCTCACAGATCGCTCAGCACCGAGCAACCTCTACCAACTTGACGACA\n",
      "CAAAGCTTAATCGGCAAAAGAACGCTCGCCGATTTCCAAGCACAACAACACCAACAGCAACTGCAACAGC\n",
      "CAAACCTAAACCCGGCACTAAATGGTCTCCTTCTTAGGTCGGTAAAGCCCAGGATGTATCAACATACCTC\n",
      "CCCAATTTCCACCCTTTCTCCAATAGAATTCTCCACTAACATATCTCCAGAATTACCTCCCTTGTCTCAG\n",
      "CGTTACGGTATGCCTCTTCTTCAACAACTCAGACCTCAGCCCATCAATCTTGGGCCCGGACACACCATTC\n",
      "ATTCAGCCAACGTTGCCTCTCA\n",
      "\n",
      ">GW875488.1 JC004624 Seed specific Normalized cDNA library from Jatropha curcas L. Jatropha curcas cDNA clone N08152 5' similar to DELLA protein GAIP-B, mRNA sequence\n",
      "GATTTTTTGTTAGTAATTTTTTAATTTATTTTTGCCTGGTATGAAGTGCTAGTACTGGTGAAAAACCGAG\n",
      "CAAAACCCCCAATCCCCAATGTCCAGATTCTTCCCTCTCCCTCCTCACCCATTCACAGCTCCCTTTGTTT\n",
      "TTTGAGCACCACCACATACCGACCTACCCACCATACAAACACAGAGAGAGTACCAAGAACAAAGGGAAAA\n",
      "CAAGATCTAATCATGAAACGGGAGCACTCAAATCAGCATCTTCGGTTAGACCCAACATCTGCCGGCAGTT\n",
      "CTTCTACTGCCTATTCTTCCATGGCGGCTACATCGGCGGCGCCTGATACTAGTTGTAAAAGCAAGATATG\n",
      "GGAAGACGAAGCACAAGGTGATGGTGGAATGGATGAGCTTTTAGCTGTTTTGGGTTATAAGGTAAGGTCA\n",
      "TCCGACATGGCAGAAGTAGCTCAAAAGCTTGAACAACTTGAAGAAGTTATGTGTAATGTACAGGAAGATG\n",
      "GACTTTCTCATCTTTCTTCTGAAACTGTTCATTATAATCCTTCTGATATATCTACATGGCTTGAAAGTAT\n",
      "GTTATCTGAGCTTAATCCTAATCCTAATTTCGATCCAC\n",
      "\n",
      ">GW879933.1 JC004841 Seed specific Normalized cDNA library from Jatropha curcas L. Jatropha curcas cDNA clone N08474 5' similar to DELLA protein GAI, mRNA sequence\n",
      "GGCCATTACGGCCTAGTTACGGGGGGTTCCTCCATTGGACCTTCCACCCATCTCTTCTCCTTCCTATCAT\n",
      "TTTCCTTCTAAATTATCACCCAATAGAACTCTTATGTTTCTCTAATTACGCCTTTCCAATAAAAAGAATC\n",
      "AAGAAAATGAGGAAAAGAGATCTTCAAGAAAGTTCCGATGTGGGTGGCGGCGGCGACGGCAAAGGTGAAT\n",
      "CTTTGTCAATGGGGAAAGGAAAATTATGGAATGAAGAGCAAGATAGTGGGGCTGTAGATGAATTACTTGC\n",
      "TGTATTAGGTTACAAAGTCCGGTCATCGGACATGGCCGACGTTGCTCAAAAGCTTGAACAACTTGAGATG\n",
      "GTAATGGGTACAGCTCAAGAAGATGGGATTTCTCATCTTTCTACTGATACTGTACATTATAATCCTTCAG\n",
      "ATCTCTCCGGTTGGGTTCAAAGCATGCTTTCTGAGTTTAATAATTCCCCTTTCGGTCTTGATTCTTCTGA\n",
      "TATCCTTCAAAATCAAGATTCTACAATTTCTTTCTCTAGGAATCCACAACCAGGAATTTTCAGTGACGAC\n",
      "TCCGAATACGATCTTCGTGCAATTCCTGGTGTGATTGCTTATCCACCGCCGCCACCACAACAGCAGCAAA\n",
      "ACGATTCATTAGAGAGAGAAAGTACAAACTCAAGAAAGCGTATGAAAATGGCTTCTGGTTCTGATAATAA\n",
      "TTTAACCGTTTCATCTTCATCTTCACTGTCATCTCCTTCTCCGCCATCACAA\n",
      "\n",
      ">GT972003.1 GJCCJC2027D01.b Jatropha curcas L. developing seeds (mixed stages) Jatropha curcas cDNA clone GJCCJC2027D01 similar to DELLA protein GAI, putative, mRNA sequence\n",
      "CCCTTAAAGAGAAAGAAACTCTCTCTCTCTCATCCTTCATTTCTCCATTAAACTCTTTTATGTCTCATGC\n",
      "GTTTCTCTAAGCACCAACTCTTCTTCTAACTCCCTCCAAAGAGAGAGAAAGAGAGAGTGTGCAACAGAAA\n",
      "AATGGCATCTGGGTTTTCCGGTGGTGGCGCAGATTTCTACTCCGGCATGGCAGGTAGATCCATAACTAGC\n",
      "ATGAATCCAAACAACCCCTCTCAACCTGGATACAGAAACCAACTCTCTCAAATTTTTCTAGACCCAACCT\n",
      "CACAGATCGCTCAGCACCGAGCAACCTCTACCAACTTGACGACACAAAGCTTAATCGGCAAAAGAACGCT\n",
      "CGCCGATTTCCAAGCACAACAACACCAACAGCAACTGCAACAGCCAAACCTAAACCCGGCACTAAATGGT\n",
      "CTCCTTCTTAGGTCGGTAAAGCCCAGGATGTATCAACATACCTCCCCAATTTCCACCCTTTCTCCAATAG\n",
      "AATTCTCCACTAACATATCTCCAGAATTACCTCCCTTGTCTCAGCGTTACGGTATGCCTCTTCTTCAACA\n",
      "ACTCAGACCTCAGCCCATCAATCTTGGGCCCGGACACACCATTCATTCAGCCAACGTTGCCTCTCATGCT\n",
      "CTACCTTACATGAACACGCTCCAAAATCAAAACAGAGGTGGAGGTTCTATTGC\n",
      "\n",
      ">GT977395.1 JGCCJG2008A12.b Jatropha curcas L. germinating seeds (mixed stages) Jatropha curcas cDNA clone JGCCJG2008A12 similar to DELLA protein GAI, putative, mRNA sequence\n",
      "TCATATTTCACAGCCCATCAATCTTGGGCCCGGACACACCATTCATTCAGCCAACGTTGCCTCTCATGCT\n",
      "CTACCTTACATGAACGCGCTCCAAAATCAAAACAGAGGTGGAGGTTCTATTGCAGGACAAGAATCTAAAA\n",
      "AGAAGATGATGAATCGACTGCAGGAGCTATAGAAGCAGCTTCTAGATGATAACTACGAGGAGGGGGGGGA\n",
      "TG\n",
      "\n",
      ">GT977669.1 JGCCJG2011C06.b Jatropha curcas L. germinating seeds (mixed stages) Jatropha curcas cDNA clone JGCCJG2011C06 similar to DELLA protein GAI, putative, mRNA sequence\n",
      "GGAGGTTCTATTGCAGGACAAGAATCTAAAAAGAAGATGATGAATCGACTGCAGGAGCTAGAGAAGCAGC\n",
      "TTCTAGATGATAACGAGGAAGAGGAAGGCGATGCGGTTTCGGTGATTACTAACTCTAACAGCGAGTGGTC\n",
      "TGAAACAATACAGAATCTCATCACTTCTTCAAGTCCCAACCCTATTTCCCCATCACCTACTTCGTCATCT\n",
      "TCTTCTTCATCAACATCGGTGACCACTCCTGTCCCCAATTGTTCAAAACAATCGCTATTGGACGCTGCTT\n",
      "CCGCCATTTACGAAGGCAAAATCGACGTTGCCGGTGAGATCCTGACGCGGGTCTCTCAGGTCTCAAACCC\n",
      "GAGAGGAAATTCTGAACATAGATTGATGGAGTACATGTCGATGGCGCTCAAATCGCGGGTTAATTCAGTG\n",
      "GATGCTCCACCGCCAGTGGCTGAGCTATACAGCAAGGAACATCTCGCTTCGACTCAGTTGCTTTACGAAC\n",
      "TCTCTCCTTGTTTCAAACTTGGGTTTATGGCTGCTAATCT\n",
      "\n",
      ">GW397559.1 1701D11 Lactuca sativa PI251246 V. dahliae infected leaf Lactuca sativa cDNA similar to DELLA, mRNA sequence\n",
      "ACTCAAACTCCACATGAATTGTATCAGCCAATTGAGCCAATTTCCAACCAACCTCCTGCAAATGATCCGT\n",
      "ATTATCACCTGATGGTGGCCCAATTCCGGTTAATCGGAAAGTGGGCGGACCTCCGGGTCGAAGAGCCAAA\n",
      "GCCTGCATCAGAGCCGGCCACTGCATACCCTGTTTCATGCTAAAACCGATCACATGAACCTTCTTCTTAC\n",
      "CTGCAAAAGCTTCTAAGATAGCTTGATTCGCCGTAAAATGGGCAAATTTGAGATAAGGGCAGGTTTCGTA\n",
      "AAAATGCATCTGAAGAAGATCTTGGAACGCCGGCGAATCTTGTGGCGTTTTAGGGTATAGCCGGTAGATT\n",
      "CTTCGAGCAAGAGCTTCGGCAAAATACGTCGCAACTTTCCTCATAGCTCCGGCTTGAGAGACAGCTAAAA\n",
      "TTCCGGCTTGTTTCACCAAGGTTTCAGCTAGTTTCAAGTCGTCTTGCTGGACAGCTTCGGCGCAAGCCAT\n",
      "CAGAGTATGAACAAGTCGGATCCCGTTTTCCTGTGTATCCACAAGAACAATCGGGTTCGGATTGT\n",
      "\n",
      ">GW397305.1 CC_09_UAS362 Coffee drought stressed leaf cDNA library Coffea canephora cDNA similar to DELLA protein GAI [Gossypium barbadense], mRNA sequence\n",
      "AACCAAATCCAAGCACTTCTCCCCCAATCCCCAATGCTCAGACCCTTCGTCTTTCCTCATACTCCTCACC\n",
      "CCCACAAATCTTGATACATACCAGAGAGAAACTTCTTCCAAACCCTTCTCATTTTTCATGTAGAAACAGA\n",
      "GAGAGAAGGGAAGATGAAAAGAAACCATCCAAAACTGCAGCAGTCAACAGCAGCAGCAGCACGAGTGCAA\n",
      "GTCCAGGAAAGCAGCTATTCAGGTGGGGGCGGAAGTTCAACGGGAAGTGGCAGCTGTTACAGTACCATGG\n",
      "CGAGTTGCAGCTCTGCAGGAGGAGGAAGCCGGAGCAAAGGGAAGATGTGGGTTGATGAGTCTGACCAGCA\n",
      "AGATGATTAGCTTTTGGCTGTTTTGGGCTATAAAGTCAAGGCATCAGATATGGCTGAAGTTGCACAAAAG\n",
      "ATTGAGCAGCTTGAAGAGGTTTTTGGTAATGCCGAAAATGATAGTTTATCCCATCTGGTTTCCGAGACCG\n",
      "TTCATTATAATCCCTCAGATCTTTCGTCCTGGCTTGGATCTATGATTTCTGAACTCTACCCGGATATGTC\n",
      "TTCCATCCCTGATTCGTCTGCAATTTCCTCGTTGGATAATTGTAGCTCGAATAACACTACTAGCAATAGT\n",
      "GCACGTACCTTGCACAATTATCCCAATTCCAATCGGTGATTTTTGACGACTCATCTTTCGATTCTGATCT\n",
      "CACCGCCATCCCTGGA\n",
      "\n",
      ">GT001548.1 TransId-209849 CACATN1 Coffea arabica cDNA clone CACATN1-2Z60TV similar to DELLA protein GAI - Arabidopsis thaliana (Mouse-ear cress), mRNA sequence\n",
      "CGGCCGGGGGACCGGGTTGAGAGGCATGAGACATTGGCTCAATGGCGAACCAGGTTCGGCTCGGCCGGTT\n",
      "TCGAGGCGGTTCATTTGGGTTCCAATGCCTTTAAGCAAGCTAGTATGTTATTGGCTTTGTTTGCTGGTGG\n",
      "GAATGGGTATAGAGTGGAGGAAAACAATGGGTGTTTGATGTTGGGATGGCATACAAGGCCTCTAATTGCA\n",
      "ACCTCGGCTTGGAAACTCAGTTAACCGACCGAGTTAAACTTGACTCGGTCAGTGAGTTATGGGTTTGCAG\n",
      "GGGGGGACTAGCTCAGTTTTGGGCCTTTGGTCTACCAAACCATTGTAAGAGTGGTCTCTGCTTAGCTGGG\n",
      "TACCTTAGTGAGGTGAGACCCACCGCTCCCTAGTGTGTCTCCCTTTGTTTTTTGTTTTTTTTTTTTTTGA\n",
      "ATTATTCAATTTTCTTTTTACTTTATCCATCTGTTTTAGGTTTTTAATTTTTAATTTTTTTAGGGTTTTT\n",
      "TTTTTTTTGTTAATTTGGGGTGGAATCATGTAACTTTCCGGGGGTGAATCTCAAAAGGGTCAATGTGTAG\n",
      "TTATATATAGCTTTGCTTAATAAAAAGATAGGGGACTTCTTTTTCC\n",
      "\n",
      ">GR996595.1 TransId-221377 CACATN1 Coffea arabica cDNA clone CACATN1-6O49TV similar to DELLA protein - Malus domestica (Apple) (Malus sylvestris), mRNA sequence\n",
      "CGGCCGGGGGGATCAAGATAAGGTGATGTCTGAGGTGTATTTAGGGAGGCAGATCTGTAATGTGGTGGCT\n",
      "TGTGAGGGGGTGGACCGGGTTGAGAGGCATGAGACATTGGCTCAATGGCGAACGAGGTTCGGTTCGGCCT\n",
      "GTTTCGAGGCGGTTCATTTGGGTTCCAATGCCTTTAAGCAAGCTAGTATGTTATTGGCTTTGTTTGCTGG\n",
      "TGGGGATGGGTATAGAGTGGAGGAAAACAATGGGTCTTTGATGTTGGGATGGCATACAAGGCCTCTAATT\n",
      "GCAACCTCGGCTTGGAAACTCAGTTAACCGACCGAGCTAAACTTGACTCGGTCAGTGAGTTATGGGTTTG\n",
      "CAGGGGGGGGCCTAGCTCAGTTTTGGACCTTTTGGTCTACCAAACCATTGTAAGAGTGGTCTCTGCTTAG\n",
      "CTGGGTACCTTAGTGAGGTGAGACCCACCACTCCCTAGTGTGTCTCCCTTTGTTTTTTGTTTTTTGTTTT\n",
      "TTTTTGAATTATTCAATTTTCTTTTTACTCTATCCATCTGTTTTAGGTTTTTAATTTTTAATTTTTTAGG\n",
      "GTTTTTTTTTTTTTTTTTTTGTTAATTTGGGGTGGAATCATGTAACTTTCCGGGGGTGAATCTCAAAAGG\n",
      "GTCAATGTGTAGTTATATATAGCTTTGCTTAATAAAAAGATAGGGGACTTCTTTTTC\n",
      "\n",
      ">FK826612.1 JutEST4012 Jute Plasmid library 20-45 days after sowing Corchorus capsularis cDNA similar to DELLA protein GAI1 (Gibberellic acid-insensitive mutant protein 1), mRNA sequence\n",
      "AAACAGGGGATGCAGTGGCCCGCGCTGATGCAAGCCCTTGCCCTGAGAGAAGGCGGTCCGCCCTCGTTCC\n",
      "GGCTAACCGGAATTGGGCCTCCCGCGGCGGACAACACCGATCATCTGCATGAAGTGGGTTGGAAATTGGC\n",
      "CCAGCTGGCGGAGGCGATTCATGTGGAGTTCGAGTACAGAGGTTTCGTGGCCAACAGTTTGGCAGATCTC\n",
      "GACGCATCCATGCTTGAGCTTCGACGAGCA\n",
      "\n",
      ">EX304968.1 PvEST2215 Bean pod tissue cDNA Entry Library Phaseolus vulgaris cDNA clone BE-2853 5' similar to DELLA PROTEIN, mRNA sequence\n",
      "CTCTTTTTCATCACTCACTTTTCACTCTCCTCCTAACTGAATAACTTAAATCTCTCACCCATGTCAACAA\n",
      "AACCTGATTCAGTCAGTACCAAATTGAATATTTAATTAATTAAATTCCTTTGTTAGCTTTCATCCTTCAA\n",
      "AATGAACGGCAGTTCCAGCGAAAGCAAGACCAGGGACATGGACGGGCAGCTGGCGGGGCTGGGCTACAAA\n",
      "GTCCGCTCATCAGAGCTCTGTCAAGTGGCTGAGAATATGGAGCGTTTGGAGAACGCCATCAACACTGTCA\n",
      "ACTCATCCAGGGACATTTCTCAAGTAGTCTCCGACGCACTTCTCTACGATCCCTCCAACATAGGTTTAGG\n",
      "TTCCTGGGTTGACACGCTTCTCTCCGAGCTGGACCAAACCGTGTCGTTGCCCTACGATCTGTCTTCTGAC\n",
      "CTACCCGATTTGCCCACGGATCCGAACCGCCAACTGGGGATGGTAACCACGGTCGAAGAAGACTCCGGGA\n",
      "TAAGACTCGTTCACACACTCATAACGTGTGCGGATTCTGTGCAACGTGGTGACCTCGCATTCGCTGGCTN\n",
      "CCTCATCGACAGCATGCAAGGCCTGCTNGCTCACGTGNACACC\n",
      "\n",
      ">EX304406.1 PvEST1649 Bean pod tissue cDNA Entry Library Phaseolus vulgaris cDNA clone BE-1698 5' similar to DELLA protein, mRNA sequence\n",
      "GACTCGTTGGAAGCGTGTTCGGTGGAGCCGGACAAGGGTCTCGCCGAGATGTATCTGCAGAGGGAGATTT\n",
      "GCAACGTGGTGTGCTGTGAGGGACCGGCGCGAGTGGAGCGGCACGAGCCGCTGGCAAAGTGGAGGGAGCG\n",
      "GCTGGCTAAGGCCGGCTTGAGGCCCTTGCATTTGGGTTCGAACGCTTACAAACAAGCCAGCATGCTTTTG\n",
      "ACTCTCTTCTCAGCCGAGGGTTACTGCGTGGAAGAAAATCAAGGGTGTTTGACTCTGGGTTGGCACAGCC\n",
      "GGCCTCTGATTGCGGCTTCGGCTTGGCAAGCCGCGCCGCTAAGAGAGGGTGAAACGGTGCGTTTCCAGCG\n",
      "TTGATGAGAGAAGAGAATGTAACAGAAAAGAGTTGTTTATTTTATTCTAGTTACTACTAGTACTAGTAAA\n",
      "CACAAAGAGTGGTGAATAATGTATATTTTTCTATTTTCCTTTTATTTTCACTTTCACCTCCTCATTTTTC\n",
      "TCTCAAAAAAAAAAAAAAAAAA\n",
      "\n",
      ">EH368340.1 B06_j001_plate_173 j001 Nicotiana benthamiana cDNA 5' similar to DELLA protein GAI (Gibberellic acid-insensitive mutant protein), mRNA sequence\n",
      "GCAGGAGTTTTAGGCTTTGTGGGAGCAGCAGCTGGTGGTGTAGTAGCCTTAGCACCATCTGGTGCTTTGG\n",
      "CTGGTGCAGCTGCAGGTGTCTGACCTGTGACACTGACTACTACAATGCACAAAAGTGAAACTAAAAATAC\n",
      "AATCTTCCTATCCATTGCTTCAAATAATCAAGAATCTATAGAATAGAAGAGATGATAAATGGAAGAGAGG\n",
      "AGTAGGCGCGCCGACTCAGCTGTTTTTGCAACAGAGAGTAATAAAAGACAGAGATCTTGTGTTCCACTAA\n",
      "CAACAGATGCAACAACAAGGCCAGTTGTACTCGTAGATTCACAAGAAACTGGTGTTCGACTTGTGCACAC\n",
      "ATTAATGGCGTGTGCTGAAGCAGTTCAACAAGATAATCTTAATGTAGCTGATGCGCTTGTTAGGCACATT\n",
      "GGAATTCTTGCTGTTTCACAATCTGGCGCTATGAGAAAAGTTGCTACTTATTTCGCAGAAGCATTAGCTC\n",
      "GAAGAATTTACAAAAAAAAAAAAAAGG\n",
      "\n",
      ">AF451189.1 AF451189 Bos taurus retinal pigment epithelium Bos taurus cDNA, mRNA sequence\n",
      "CCCAAATAACTTTTTTTTTTTAATGAAGTGACTTGTAAGTATAAGCATATAACATATTTGGGTTAAGTCG\n",
      "TTTGTTTTCTTAGAGACCCAGGCTGAGATAATGAAGTGCAGATTTAATGTCACAGGTGCCTTCTGCAGCA\n",
      "TCTGGAATTACTGCCTAATACATTGGTAGTCAGTGGGCAAGCACAAGAGTGGTTGGTTACAGCTTTCCCC\n",
      "AAAATAATTTTTTTAAGTTGTTTTCACCCTTGTAACATCTGTTCAACCTGAAGTTCATCATTATAATGTA\n",
      "TAAAGGCTACTTAAATCCTTCTTCCTCAAAGTTGAACATCAGATAAAATATATAAGCTGAACATGGAAGC\n",
      "AAAGCTAATTTTTTAGATCTATGCTGCTTCCTGTGAAGAGAGAAAACTAGAATCCAGTCCTGGGGATTGA\n",
      "ATATCTTTATTAAAGAAGTGATTAAATGGCAGCACAAATCAGCAATAATTTGGGGAAGAATGGAGACATG\n",
      "GTGTTAGGGTCAGAGTTGATTGTTCATTTCATAGTGTCAAGGGAGCTGAAGAACTGTGCCCAAGGCCCAT\n",
      "TTGATCAGTATCCTACACTGAAAATGCAGGAGGGCAAAACTAAAATACTAAGGCCCATGCCTATGCCTTT\n",
      "TAGAGACTAAAATCTTAGAAATTATCATAACAGCAAGATTGCATTTTAAGATTTGAAATCTGATTTTCCT\n",
      "CAGCTAGCATTTTCAGCCCACAGGAACAAAATTGTAAATTGAGTAGGTTTAAAGAAGGAACAACTTTTGA\n",
      "GAGAGTATAACTTTCTGAAATGATTCAGGGCTTTCTTCTTATCATCTCCCACACTGTGTTATTTCCTCTT\n",
      "GTTTCATACCTTCAACTGCCCCTAATTTCTCTGCAAAAAAAGTATATCACAAGAAGCAGCAGGATCACCT\n",
      "TAACCTTTTAGAAACCCTACAGTTTTATAGCAGATAATCTCAAATTTTACAGGGTTTTCACCAACCCCTG\n",
      "AAGAAATAATTATGTTTCTTGGCTTGGAACAACAAATTAGGAAGGTTTGAGCAATCTCTGAAAGCTGATT\n",
      "AAAGTGAACTAAAAAAAAAAAAAAAAAA\n",
      "\n",
      ">AF451188.1 AF451188 Bos taurus retinal pigment epithelium Bos taurus cDNA, mRNA sequence\n",
      "GAAGCTTATATAATCCAAATTGTTTCCATGATCTCCAAATGACAAACCAAACCTAAAGATATGTAAGTAT\n",
      "GAATATAAAGAAACCTAAACATGGAATGCAAAGAATTTACTTATAGGGAGTTATTTTATAAGATAGCCAA\n",
      "TTTCTCATTAAAGATTATCAACATGAACCAAAACACATGATTGTGGCTTCCTATCAGTTCTGAACCATAT\n",
      "CCATAGAGATAGACTAAGGACAAGTAAAATAGAGGCAAAGATGGTTTGACTATTCAGTGCTTGCTAGTAG\n",
      "TTATGTCACAGACACAGCAAATATAAAAAGGGACCAACACATGTTGTGTCTACATTAGCCTAATGAACTA\n",
      "CAGAGAGGTTTTAAGAACTGAAGATTGTAAACTCCAGGAAGCAGTCAAGTTAAACTAGTAGAGATTTAAG\n",
      "CAATGAGGTCATGGTGTACAACCCTAATCCTGTTATCTTGTCACTACTGTGCCTCACCCAGCCTTCTCTC\n",
      "AGCCAAGGTCATATGCTTTAATAACTTACATGTGTATAGTGCTTTAAACCCTTTC\n",
      "\n",
      ">AF451187.1 AF451187 Bos taurus retinal pigment epithelium Bos taurus cDNA, mRNA sequence\n",
      "TAATTTTTTAGTGATTGGACAAAAATTAATTGCATTTAAAACAGGTCGATCTTGCTGATTACAGAAGAAT\n",
      "CATGTGTTTATGTTCAAATGATTCCTGGCAGTGATCAGTGGCCATTTAAAAGGTTTACAGAGTTATATGC\n",
      "TATTAAGGAACCAAGAATAAAGGATAATAAAGTAAAAGGGAACTGTAAGCTGCCTTGGCCATTCATAAAT\n",
      "ATCTAAACTTGGCACAGTAATTAATAACTGAAATTTCATTCATGAATATGTTGTGGCTATTTAACAATAT\n",
      "TTATTATTTTCATATTTCAGAGTATTCTAATTTAAAAGAATTATCTATAAATTTGGCATTAGAATACAAA\n",
      "TGTAAATACTTTTAATGAAAATTTGCAACTTTTTAATGTTTTGACATAGTTTTCTATTTGTCTTTATTTC\n",
      "AGGTACCAAAATTATAAAACATCTAAGTAATATATTTTCGTTGTTGTTTCAGGGCTCAGGGTTGAATTCA\n",
      "CCCTGAGCATGTGAATATAATAAAAAGATTACTAAAAAAAAAAAAAAAAAAAA\n",
      "\n",
      ">AF451186.1 AF451186 Bos taurus retinal pigment epithelium Bos taurus cDNA, mRNA sequence\n",
      "TCCTGAACTTCCTTGTGGAAGGAGCTTTATCTCCTGTCCCTTTCTGGCCCGTTCTGTCCCTACCCTTTCC\n",
      "CTGCAATATCATTTCTGGCTCCAGAGCACATCCGGTCTCTGTCCTGCTGCAGCGGCTGGACTGAGGGCAG\n",
      "GGTTTGTAAGGTGCGGAGGCTCTGAGGGCCACAGCCACTCCCTGGGGCCTGTGGGAGTAGGAGCAGCTTC\n",
      "TGACAGGCCTGCTCAGGGGTTTCTGCAAGTGCACTTTTGTTTACTGAAAGAGAGGGAAGCTCACAGCTGC\n",
      "GTGCTTTGGCCTTCCTGCCCATCGCCCCACCCCCAGCCACTAGTCATGCCCACTGAGGCCTGCAGGTGCA\n",
      "GGTCCCTGCCTTCTTTACTCTGCTTCTGTTTGGCTCTTGAGGGTAGTGGCAGGTATCAGGAGGGGCACGT\n",
      "GTCCACTCTGCGGCCTGACTGGGCAGGCATGTGGGCGATCAGCAATGTCATGACTCGTGAGCCCCCATTG\n",
      "GCCTCCCTGAACCACACTCCTTGAACAGATTAGGCTCCCAGACCTAGCCTGTATGAGGTTTCCTCATACA\n",
      "TCAGATTAGATCAAGGTCCACCTGTCTCTGCATATGTCTCCAGTATGAGAGCAAGAATGTCACCAGGGGC\n",
      "CCACCTTCACATAGCCCCTGCAGTTTTTTTTGGGGAACAGCCTTCCCTCACCAGCCACCTGGGATGGGTG\n",
      "AGGCATTCACCAAATCACCTCCTTCCTGGGACTAGAGCTGCAGTTTCCTGCTCTGATAAGTGACCAGGCT\n",
      "GAGCAAGCAGCTCTGGGGTCACCTCAGTGGCTTGATGCCATTGGTTCCTATGGGGTGCCTGTGCCTTGGC\n",
      "AGCCTGGACCCATGGGGGACGCCAGCTTCCAGGGGAGGGGAGGAGGGTCCGGAATATGCAGGGGCTGCCT\n",
      "GGCTGGCCTCCCGGAGGAGGATGGCATTCCATGTCTTCTGCTTATGAAGCGCCTTTCTTGAAGTTTGGCA\n",
      "ATAAATCCCTTTTTATGGAAAAAAAAAAAAAAAAAAAAAAAA\n",
      "\n",
      ">AF451185.1 AF451185 Bos taurus retinal pigment epithelium Bos taurus cDNA, mRNA sequence\n",
      "GAAAAGGGAAGACCACTTGCTCAGGGGTGAGTGAGTGGGTGGAGTCAGCTGGGTGCTGGGGACAGTGGAC\n",
      "ACAGGCAGAAAGAGCATCCTCAGGAGACATGTGGTCTGTCCCTCAGTTCCCTGGCCTGGGATATGGAGCC\n",
      "CAGGGGGTACTGGGGCTCCATAGCCAGGCAGGGTGCTGGCAGCTGCCCCAGTCACTCCCACCCTTGGGCT\n",
      "CCATCCCAGTGCATATGGCCCTAATCCCACACCATGGAACCACAGTGAGGAGACACTGGTGCTCAGAGGA\n",
      "GCGAGAACTTTCCTGGGAGGTGCAGTGGGAGTCACCTGGCTGACACAGAGCCCTGCTCCAGGCAACCCTT\n",
      "GAAGGATGTCTACAGAGGGAGGGGTCTCCATCGGGACCTTTCCTGGTTTCATGCCCTGACAGAATTGTGA\n",
      "GCTCCAAAGGGGGATCCTGATGATGACCGAGATGTTTATTTGCCTGTGTCCAGAAAGACTTGGCCACCAG\n",
      "GCTTTGTATTTCCTCAGAGTCTAGCTGTTGCTGGACAGTCAGGACCCCTCTCAGTGTGGGCATCCCAGGG\n",
      "CCATTCTGGGGCACAGACCAGTGGCTTTGGGGGCCTGGTTTGGAGCCAACATTTCAAGCTAGTCAGACTT\n",
      "AGAATCTGGGCTTCTGTGAAGAAATTTCCAATCATGAAATGTGTCATTTGAAAAAATATATGTGTCAGTT\n",
      "AAGTGTGCACTGAGCCTGGACCACATGGGATAGGGTTGTTCTAATAAACACGAATAAGCCAGTTTTCACA\n",
      "TTAAAGAAATAACAGTTTCAAGTAGAAATGTGGTGCTTTTAAAAGAGGTTAATTAATAAACAGCAGGTAA\n",
      "TTGTTCATGGCACATGGTGGCAGAGGGTAATTTTCATTTTAGAGGAGAGAAGGGCCAAATGCCCCCCCCA\n",
      "ACTCAGATTTTTTGTGTAATAATCACCTTGGCTTCACCTCCGCCTTTAATTTTTACAGCTGGAGCTGTTT\n",
      "ATCATCGCTCCAACTTTCACTAAAAAGGAAAAACTATCACTTAAACAAAGCCATTGAAAACTCAGCATCA\n",
      "TATGTGGATTTCTTAACATAAATAAATCATACAAACCAAGATTTATGTTCTCCCAATGATGTCATTCGCT\n",
      "GAAGGCTGCCTTCCCAATCAAATCAGCGGTTAGTGACTCTCCTTTTGTGTGTATGCTTTTTGCAAAATAA\n",
      "GAAAAGCAGCGCTGGCATCCTGGCTGCTCTCTTTCTCTGCTCCGCCCAGGACATCAGAAAGGTCTCCCTG\n",
      "CATCAGCACAACTGGGTCAAAACGGTGATCACGGATTCAACGCCACAGATGGCATTTCAAGCCTTTGTTT\n",
      "TTGAAACGCAGGTTCTAAGTTGAAAGACTGTTAAGGCTTCCTGAAGGGTTTGCTCAGACCCCAGCAGAAG\n",
      "CTGGGGGCCCTGGGGGTCTGTCGGAGCCTAGGATGAGTTTGGCTGCAGGGTCATCACGTTGAAATGAGCG\n",
      "AGGACCTCGACAGTCACCTGTGATGGGGAGAAGAGATGTGGTTGCTCCGTATAGTGGAGGAGTGTCAGTC\n",
      "ACAGCAAGGAACGAAGCCCTGATGTGGACCACAGTGTGCACGAAGTTGGCGAATGAAGCCAGTCAGAGCA\n",
      "GGTCACGTACCATTCCATTCCACCTACATGACATGTCCAGGATGGGCAAATCCACAGAGACAGAAAAGAA\n",
      "GCAAGTGGTTGCCAGGGTAGGGGAGAGGACGTGGCGGGTGACTGCTTCCTTGGCACAGGGTTTCCTCCTG\n",
      "GGAAGATGAAAATGTTCTGGAAACAGATGCCCACTTTATTTATTTACTGAAGTCTTCCGTGTTTGTTTGT\n",
      "TTTTATTGCTGCACCGGGTCTTAGTTGCAGCACATAGGGTCTTCATCGCGGTGTGCAGGATCTTTAGTTG\n",
      "CAGCATGCAAAGTCTTCGCTGCAGCACGTAGGATCTAGGGATCAAATCCGGGTCCTCTGTGTTGGGAGAG\n",
      "CAGAGTCCTAGCGACTGGACCACCAGGGACATCCCAGACAACCCACTTAAAAATGGAGACTGTCGTGCTA\n",
      "TGTTAATTGTATCTCAATAAATCTGTTATTTAAAAATCAAAAAAAAAAAAAAAAAA\n",
      "\n",
      ">AF451184.1 AF451184 Bos taurus retinal pigment epithelium Bos taurus cDNA, mRNA sequence\n",
      "AAATCAGCATGCGGGTCCGCTTCTTTCCCTACAATTATCATCGCCAGAAAGAGAGGACTGTGCACTAGAG\n",
      "AGTTGCAACCCACAGCCCTCCACGTGGGATCTCCTAGGACAAGCTAGCTAGGTCTCAGGGAAGCCATCTG\n",
      "GGAAACTACTCTCAGCCTCACCCTGGGAGAGTGGAGTCGGGAGGATGGGGAGACAGCAAGACCCTGCACT\n",
      "GAGCCAGCTGGCCAACTGCATTTTCCCAACTGTACTGTGCTTTGAGTTCTCTAGTTTTCTATGTGGGCTT\n",
      "CATACCCTGGAAGGAGAAGGATGGTGATGTTTAGGTATCTCTTAGCCTGTGGAGAACCCTGCTAGAGAAA\n",
      "GCAGCTGACATTTATTGAATACCATGTGCTAGGCAATTCCACATATGTTGTGTCATTTTCATTAGCATAT\n",
      "ACAAATCAGTAGAAAAAAGGATCTTGGGGGCCTCCGTGCTAATCTGCCTGACCATCTCATCCTATCCTTA\n",
      "TACTAGCAATGTATACCCATACATTTTGGAGACTGCAGTGGAACCATGTTTTCCTCCCCTCCCTCATTCT\n",
      "ATTTTCTCCCTGCAAAAAAGTAAAACACAATGCTGAGGAAAAAAAAAAAAAAAAAAAAAAAAAAAAA\n",
      "\n",
      ">AF451183.1 AF451183 Bos taurus retinal pigment epithelium Bos taurus cDNA, mRNA sequence\n",
      "TATAAAAAAAATTTTTTAATGTGACCTTAGAATTGGTCAAATCATTTTTCTTACTAGTGCTGCTGGATGC\n",
      "TTTGGGGGTGAGCTGCAGAACCTGCCGGTGGGTGACAGCCGGGCCCTCCCACTGCACTGGCCAGACCTGG\n",
      "GGCGGGGTGGGGGTCACCCTTTCGGTAAACCAGTACCACCAGGTGTCATGCCTGAGATTGGAGGACAGTG\n",
      "TGCAGGTTTCCCACCACAAAACAAGCCTCCCGGCATGGACAGGGCGGTCGGCCACGTTCAGCTCGAACCA\n",
      "GGACGAGCTGATGGTGCCTGGGGGACACGTGAGGAGTCTGACACCTGGAACCATGGGGCATGTGCCCTGA\n",
      "GAGGCTCAGCAGCTTCCGGCCTTCTAGGTGATGCCAATCCAGGCCGGCAGTTCTCAGATTTCACTGCTCC\n",
      "AGGAGCAGCCAGGACAAGACAATGGGACCCGCCAGCTTCCCCATCGTGGAGTGACACCGTGACTTCTCTG\n",
      "CTGTTTGACCTGCGAAGGACAGTTAGTGTGTTTTATTAGAAGGACAGTTTGGGGGAGGCATTAGCGAGAG\n",
      "CCCCACCAGACCCAGTGTGCAGCCGTCAGCAGCAGAGGCCCACACCCCGCGCACATGGCCTGCTGCACAG\n",
      "CCACGTGGGTTTCCCAGGGCCCGGCCAGCCCACCTGGAACGATGTGGCACCTTGATACCCGGCCCAGCTC\n",
      "TGCAGTCACGACCAGCATGCCTGCCGGTCGTCGGCCCTGGGGCGGCCACACTTAGCCAGGCAAAAGAGGG\n",
      "CGCCTGTGACGGTGTTCCCCAAACCTACCGGACGTCCGCATCGTGCCTCCACGTTGTCACTCTGTGACCC\n",
      "TCTGGCTGTCAAGGCCGCTGATGCCGTGGCTGGGATGGGCGCGGACATCACAGCAAAGCTCTGCAGGGAG\n",
      "CTTTAGGCCAGGGCCACAGCCAAGCTGCTCCCTTGGCTCCCGGCTGGCTTCAGCGGCCACATGTCACCAG\n",
      "ATCTGGGGCCTCCCTGATGGTGGGGAGGCTGCCAGCCCTCTGCTCTTTTCTGGGGCAGCTTGATTGCGTG\n",
      "TGAAGTTTGGAAACATATTTAACGTACAGCAGGAAAACTGATGTTTTTGTCCAGCCCTCTAATAAAAAAC\n",
      "GTTCGATAAGAAAAAAAAAAAAAAAAAAA\n",
      "\n",
      ">AF451181.1 AF451181 Bos taurus retinal pigment epithelium Bos taurus cDNA, mRNA sequence\n",
      "GTCTTCTACCTCACAGACAGGGTTCTCTGAACCTCAGGACGGAGATGCTGCCGCCCCCACGTCGGGCTGG\n",
      "CCAGGGAGCCACCGCCCGGACAGGCACTGGGGGCTGTGACCGCCAGGGCCCCGGCCTATCCTCCACGTCC\n",
      "ATGACGAGAGGCGAGGCCCAGATCCTTCGACCCCACACCGGCTCCGCGTCCCTCCCGTCCCGCCGCTCTG\n",
      "CTGCAGACCGGCGGGGGCCAAACCATGATCCATTCCAAACGATACCAGCGCCAGACTCAAGTCTCAGCCA\n",
      "CGCCTCCGAGGAAGAAACCATGTTTGTTTCTGAAAACAAAACAAAAAAAACCCAGAAGACGTCTTCCACC\n",
      "TGTTTCTGTGTTTCCTAATAAGAACAGGTGACCCCGCGGTTGGGTGAGGGTGGTGCAGTTGGACTTGCCC\n",
      "CGCCCCACCCCACGGGAGCCCCTGGCCTTGGAGGCGGGACGGGGAGGCAGCCACGGGGCAGGAGAGGAGG\n",
      "GGAGGGAGGGTCCGAGCGGACCCCGTCCTTCCCCGGAGGACCACGCCTTCCTGTAAGCCATTTTGTACGT\n",
      "CGTCAATGTTTGAACGCGGATGGAATTTCTCTTTTTCTTTTTTTGTTTCTGAAGTTTGACAAATGTCAAG\n",
      "GAATTCAAAGCGGGATATTAGTTCCTGAAGTTTCCGTTTGCAGTTTCTGCCTTGCTTCTGTTTGAATCTT\n",
      "GTAATTAAACACAGCTTTTGATATTTAAAAAAAAAAAAAAAAAAA\n",
      "\n",
      ">AF451180.1 AF451180 Bos taurus retinal pigment epithelium Bos taurus cDNA, mRNA sequence\n",
      "CTCAAGCCCCTCCTTGGCCCAGGCTTGGCACTCAGCTCCTAACTCTCCCATCACAGGGACAGGGACACCT\n",
      "CGTTAAACCCTTAGTGTGGAGCCGATCCTCAGTGTTTCCCACTTTGGGTTCTCATACCCCAATACTCAGC\n",
      "TTTATTCCCAATTTGAGACTCTCAGCTCTTTACCCGATCTGAGGTTCATCCCTCTACCCAAGTTCTGGGC\n",
      "TCTCAGTTCTCTCTAAACCCATCGCTTGCACTCAGTACCCACACCTGCCGCTCACTGGGTCAGGTCCAGT\n",
      "GAGGACTCCATCCCTGGGAGATGCCCACCCCCCTTTCCTCTTAGGATGAGCTCTCTAGCCCTGCAAAACA\n",
      "GGCAGGTGCCAAGCACCGCCCCCCGCAACCATGCTGGCAGATCCTCATGAGAGATCCTGGAGGAGAGAGT\n",
      "CCTGGGGGTGCAAAGTAGATGGGCTGCCTTAGAACCAGGGTCAGCTGACCTTTGTGCCCACAGAGAGGGG\n",
      "TGGAAGAGGAGGCTCTGAAGGACTGGGAGCTGTTGGCCACATCCTCTTTCCCATGTGACTCTTCTCCCCT\n",
      "GAAGTTTCCTTGCTGCCACCTTGCTATCCTTGCCCACCCCCTGCCCCATATGACTTCTGGAAGAGGAAGG\n",
      "GGGCCTCTCCTCCTGTCTCAGGCACAAGCCCTCCTGTCCAGGGTCAGAGCCTCAGCGCCCTGCCTTCTGC\n",
      "ATGATCCCAAAGCACAATTGGTGAGTGGGAGGGGGCCGCCTCTCCCTGACTCCCACCCCTAGGTCAAGCA\n",
      "GAATGGCTGGCCTGTGCTGCCTCTGCACACAGGAAGTCACCCTCCTCCAACATATTGGCTTGAGGCCTCC\n",
      "CCCCCACCTAGAAATCTGGATCTCCTTTGGGCAGTTTTCTATAAAGTCTGCAATAATCTCAAAAAAAAAA\n",
      "AAAAAAA\n",
      "\n",
      ">AF451179.1 AF451179 Bos taurus retinal pigment epithelium Bos taurus cDNA, mRNA sequence\n",
      "CAACATTCAGGAGTGAAGCTGCCCCAACGTCTGTGCTTCCCAGATGGGATTTATATCTGGGTCTCCTTGG\n",
      "TTCCTTCTCAACCCAGATGGGTCCAGTATCTCAGTTATTTCTTTGAATGCTGACCGCAGCTGTTGGGCCT\n",
      "GAAATCACTTTTCTCTCCCCTTTCCCCTCCTCCCGTGGCTCCGGCTCCACATGGACTGCTCCTCCTGAAC\n",
      "TTCCTTGTGGAAGGACTTTATCTCCTGTCCTTTCCTGGTCCGTTCTGTCCCTACCCTTTCCCTGCAATAT\n",
      "CATCTCTGGCTCCAGAGCACATCCGGTCTCTGTCCTGCTGCAGCGGCTGGACTGAGGGCAGGGTTTGTAA\n",
      "GGTGCGGAGGCTCTGAGGGCCACAGCCACTCCCTGGGGCCTGTGGGAGTAGGAGCAGCTTCTGACAGGCC\n",
      "TGCTCAGGGGTTTCTGCAAGTGCACTTTTGTTTACTGAAAGAGAGGGAAGCTCACAGCTGCGTGCTTTGG\n",
      "CCTTCCTGCCCATCGCCCCACCCCCAGCCACTAGTCATGCCCACTGAGGCCTGCAGGTGCAGGTCCCTGC\n",
      "CTTCTTTACTCTGCTTCTGTTTGGCTCTTGAGGGTAGTGTCAGGTATCAGGAGGGGCACGTGTCCACTCT\n",
      "GCGGCCTGACTGGGCAGGCATGTGGGCGATCAGCAATGTCATGACTCGTGAGCCCCCATTGGCCTCCTTG\n",
      "AACCACACTCCTTGAACAGATTAGGCTCCCAGACCTAGCCCGTATGAGGTTTCCTCATACATCAGATTAG\n",
      "ATCAAGGTCCACCTGTCTCTGCATATGTCTCCAGTATGAGAGCAAGAATGTCACCAGGGGCCCACCTTCA\n",
      "CATAGCCCCTGCAGTCTTATTTGGGGAACAGCTTTCCCTCACCAGCCACCTGGGCTGGGTGAGGCATTCA\n",
      "CCAAATCACCTCCTTCCTGGGACTAGAGCTGCAGTTTCCTGCTCTGATAAGTGACCAGGCTGAGCAAGCA\n",
      "GCTCTGGGGTCACCTCAGTGGCTTGATGCCATTGGTTCCTATGGGGTGCCTGTGCCTTGGCAGCCTGGAC\n",
      "CCATGGGGGACGCCAGCTTCCAGGGGAGGGGAGGAGGGTCCGGAATATGCAGGGGCTGCCTGGCTGGCCT\n",
      "CCCGGAGGAGGATGGCATTCCATGTCTTCTGCTTATGAAGCGCCTTTCTTGAAGTTTGGCAATAAATCCC\n",
      "TTTTTATGGAAAAAAAAAAAAAAAAAAAA\n",
      "\n",
      ">AF451178.1 AF451178 Bos taurus retinal pigment epithelium Bos taurus cDNA, mRNA sequence\n",
      "GGAAAGTGTATGTTTGAAACTGTTAAGAGAAGGAAGACTTGACCTGTTGACATTCCCTACTTAAGAATCA\n",
      "TTTGGTCACAATGGGATAAGAATAACAAATGATTTTAATTATCCAGAGGTGGCCTCGATGCCCTGTTTGC\n",
      "AAAGCAGTGTCCACTGTAGGGAACGTAGGCGGTACCCACCCCCCTCCACCCCACTCCTCATGCTGCATAG\n",
      "AGCTCTGTGCTCAGATGCCTCCACTGAAGTCGGGGTTGCCAGGTAGGCCTGTGACCATGGACACTCTTGG\n",
      "GCTGGGAGGCTCTGGGGGCGGCCGAAGTATAGCAATTGGCCCATCTCAAACACGTTGACTTCCTTGTCCT\n",
      "GCAGTTAAGTCTTTCCAGCCTGTGGCCTGGAAGTCAGGGCAGCTTTTCTGATTCTCACAGGCGCTCTTTT\n",
      "CTGCCCTGGGTGGGCAAGGCGTGGGGCGCGGCAGATGTGTGCATTCACTGTCAAGCCAAGGGGCACGTAT\n",
      "TTGTGTGTTTACACAATTTAATTTCAGCTTGGAAAATGCTGCTATTCATTTGCACTGTTGGTGAACTGGA\n",
      "ACATCCCCCCGTGGAAATGATACTTTCATTCTTAACAGTATTTATTTTAAGGGTGCTAGGCTTATCTTAC\n",
      "TAAATTAAAATGCTTATCTTGTTTTGTGCTCCATTCTAGCACAGCACTGATTTTTTTTTTTTTTAAACAA\n",
      "CCTGAACTAAATGTGAAATAACTGAAGTGGGATACTGTAACTGACCTAACGATTTTGTGTGTAACCCTGG\n",
      "ACTGAGCCGCTGACATGTCCACTGTTCTGTGCTTCTGTGCAAAATGTCCATTAAAACTAAAGTAACATCT\n",
      "TAAAAAAAAAAAAAAAAAAAA\n",
      "\n",
      ">AF451177.1 AF451177 Bos taurus retinal pigment epithelium Bos taurus cDNA, mRNA sequence\n",
      "GTTGCAGCTTCCTAGAGTTCTTTTTAAGAACAAACTATGGTTATTTTTAAGTTGTTGCTTTGAGGGAACC\n",
      "GAAGAACTAAAATAGCCCCTGGCCAGTATTGCTCTGAGGTCTCAAGTGTTATTTCTCTGGGAAACTTTGT\n",
      "ACATGGTACAGGAGTTGAAGAGTAGCATTGTCTTGCCTTAATTTCTGTACTGGGAATTTCAGGAAATAAA\n",
      "TTGTTAAGAGGAATTCAAACACATGGCCTATCTTACTTTCATTTAATTATTTTGAACAATTGAAATCTTG\n",
      "CTAGACACTGGTTTCTCTGACTGGGTCTTGATAGCCAACTGCTTCTTACGCAAGTCACCTTTTCAGTAAG\n",
      "GGGCTCTCAGATACCAGCATTGAGATAGCATTCTTTTTCTGTTAAGATTTCAGTTCTGTTTTTGAATCCT\n",
      "GACTGGATGTCTCTCTGCTCTCACATTCTCTTGGCTTTTCTTCTTTGGTCCACTTGTCAGTTTTATCACT\n",
      "TGACCTCCTCATGGTTTCCCATTCAAACCAGAGGAAGTTCGGTAGTTGATGACCAACAACTCCTGCCTTG\n",
      "TGGATCACGTTTTATTAAATTCTGCTTTTGCTGAAATACTGAGCATACTTAAATAACAACCCAAACATTT\n",
      "AAGTTTGGATAGGAATGGGTTGGTTTCTCAAGTAGGACAGTGTACTTGTACTTTAGGAGGAAATACTCAA\n",
      "GAGAGTAAGGGAGAAGATGAATGGGAATTTCACTTTACACGGCTTAGGACAACATGACTCTCAATAAATG\n",
      "AAGCTAAAATTTCTCCTGGATCCCAGAATTCAAACCATATTTATAAATGTATAATTCAACTACTGTACGG\n",
      "TTTAAATGGGCTTGTTGAGCTAGCCTGGGAAATAATACCATTTTTACCATTTTCTACAGAGAAAGTATTT\n",
      "TCCAACTTATGTATCAGACAACTCAATGAACTTTTAAAAACCAGTTTTTATGTTGGAACTATCTGTGCAG\n",
      "CATTTCTTTACAGTTATACATAAAGTGTTTTTACTGTAAAACTGAGTTAATGTATACAAATAGACCCTTA\n",
      "TGCCATAATAAAATTACTAGTACTTACTAAAAAAAAAAAAAAAAAAA\n",
      "\n",
      ">AF451176.1 AF451176 Bos taurus retinal pigment epithelium Bos taurus cDNA, mRNA sequence\n",
      "CCGGCGTCCTCACTGCCCTTGTGCGTGACCGGGGACAGGTGTTCCTGAACACGTTCTTCCTGGGGACCCT\n",
      "CGACTACAAGAAGAAGACGATCGTCATCCCCACGGTCCAGGGGTTCACGACGCTGAGGATCCTGGTGGAG\n",
      "AACTGCGGGAGAGTCAACTACCGGGACAACATCGACCAGCAGCGCAAAGGTATCATTGGAAATGTCTATC\n",
      "TGAACGATTCTCCCCTGAAAAAATTCAAAATCTACAGCCTGGAGATGGACAGGAGCTTTCTGCAGAGGTT\n",
      "CACTGCAGACAAGTGGAAACCTCTGACGGAGGAGCCCATGTTCCCTGCGTTCTTCCTGGGAGCCCTGTCT\n",
      "GTCTTGGACTCCCCCTATGACACCTTTGTGAACCTGGAGGGCTGGGAAAAGGGGGTCGTGTTCATCAACA\n",
      "ACCACAACCTCGGCCGCTACTGGAACATCGGGCCCCAAGAGACCCTCTACCTCCCAGGCGCCTGGCTGGA\n",
      "CGTAGGCTTAAATAAGATCATCGTCTTTGAAGGGAAGATGGCACAACGGATAATCCAGTTCGTGGACACG\n",
      "CCCAACCTGGGCCAGCACGAGTACGTGCACTGAGCCGCCCAGGCCCGAGACCCCGCTGACCGCTGACCGG\n",
      "CCTGTGCCTGCTCCGGCCGCCCTTGGGAGTCTGCCTGCGGCTGCAGTTCACCCTTGCCCTGCAGGACCGG\n",
      "AGG\n",
      "\n",
      ">AF451175.1 AF451175 Bos taurus retinal pigment epithelium Bos taurus cDNA, mRNA sequence\n",
      "TTTTTTTTTTTTTTTAGACCTATACCAGTAGTTCCCATATCTGGTTGCACATCAGAATCATATAGGGAGC\n",
      "TTTAAGAAACATATATGGCAAGAGAGAAGCCAAGCTGGCCAAGAGTTCGGGAGAGTAAAGGAGAGGCCTG\n",
      "TGAGCTTATTAAGTTAACACTCATTTGACCTCTGCAGACCTTTTCCCCTGCCTCTTTTTTTAAATGACAA\n",
      "GAAGTATGAGTCGAAATTCACCGTACCTGTTCCTGAGTTCTTTGTCAGAGAGATCTTTGACCTTCACGGA\n",
      "AATCCCACTCTTCAGGTGGGTCCTGCACTGGAAGAGATCTCTTCAGAGCTGTATCTATTGGTGCCTCAAC\n",
      "TGACATGAGACTTAGAGCTCAAGACATTAAGGCTCACTGTGGGAAAAGATGTCTCAGAGTCTCTTGAGCA\n",
      "CCTCAGTAAAACTGAGCCTGCCCTGATTAGCAACCCACTGAATGTTGTGGAATAGAAGAGGACTGATAAG\n",
      "TTGATGGTGGAGTTGGATGGCGCTGAGAATAGGTCTAAATTTGATACACATGCCAACTAGGAATATCTTG\n",
      "CTTGTCTATAAGGTATTCTCCAGCTGTCAGGAGCTGCTGAAAAGGGAATCCCCCTACTGTTACATGTATG\n",
      "TGTATGTCTATGTATATATTAAGTTCTATACAGTTTTATCAGTTGTGTATGTTTGTGTATCTACCAAGTC\n",
      "TAAAAGCTGTAAGAATCTCTCATGTTGCCCTTTTATAAACAGACAATATCCTTCCTACATCCTTTCCCTG\n",
      "TACCCCTAACCCCAAGCCCTGGCAATTACTAATGTCTTCTATTTCTTAAATCTTATAATTTCAATAATAA\n",
      "GTTGAATTATACAGTATATAATCTTTAGGGATTAGCTTTTTTTCTGCTCAGTGTATTCCCTGGAGATTTG\n",
      "CCCATGTTGTAAGGCCATAGTTCATCCCTTTTGATTGCAAAGTCACATTGCAAGTTATTGAAGTTTAACC\n",
      "ATTTACCTGTCAAAGGACATCTGAGCTGATTCCACTTTTTTATTTATGAATAAAACTACTATGAAAAAAA\n",
      "AAAA\n",
      "\n",
      ">AF451174.1 AF451174 Bos taurus retinal pigment epithelium Bos taurus cDNA, mRNA sequence\n",
      "GTCTCCTCGCTTTAACGCTTCTTCTCTTCTAAAGACTGCGTGCATTCCCTGTGAAATGAAGCATTCCTGG\n",
      "ATGACTGGTTGGTGTTGGTGTGTGAGGCTGACCGTGGCAGCCTGGGTGACTCTGTTCAAGTTGTAGAGTC\n",
      "TCCCTAATATTTTACCTTTTATATGATCGTTGAACGGCACTTCTGTCTGCTCGGATCTCAGTTCTTTGGA\n",
      "AAGAAACTCAGTGCACCCTAGCAAAGAAGGCTTTCCATTCCCCGGGCTCCTGAAGAAGCAAAAGTAAGGT\n",
      "TACATTTTATACTTCATGGACTGGGTGGGGTCTTCCCTCTCCCCTGAGCCCCTTCCACCCAATTAAGGTA\n",
      "AAACTTTGCTTCCAGGAAAAACTGGGATCAAGCCTTCCTTGCTAGCCACGTCGTGATAAGGAGCATAATG\n",
      "TTCACGTGGTCTTTGCTGCATTTGGTTTTGTTTTCTGATTTCATATTCCTCGGAGGTACAGTCGGATGAA\n",
      "ATGCTGAATTCCAAGTGAGTTCCAGCAAGGAGCTGCCTTTCAGCTTCGGAAAATATGCATCCAAAACAAA\n",
      "GCCAAATATGATTTAAAAAAAAAAAAAAAAAA\n",
      "\n",
      ">AF451173.1 AF451173 Bos taurus retinal pigment epithelium Bos taurus cDNA, mRNA sequence\n",
      "TTTTTTTTTTTTTTTTTTTTTTTTTTTAATTCTTCTCAGTGTTCATTTACTCCTTGGAAAGAATCACAGC\n",
      "TGTCAGTAGATACTGGTGGACAGAGATGAGAGTCCCAGATCTAGAGTTGGCCTCAGATGTTGGCCATTCC\n",
      "GGCAGGTTTGTAGAAACACTTGGGGGAAAAAAACCTCCCACATCTTTACGACTCTGGTCTAACCTCCTTG\n",
      "CTCATCTGCCAATCAACTTTATTTCAAAGGTCAGTGGTTTTCTTTACACCACCGTCTGAGGATCTTACCT\n",
      "TCCCTTAAGTGACCTGGCAGCTCCAGTTTTCAGACTGAACATGTTAAGCTTTAATGAGATTCTATTTCGG\n",
      "TAAGTTCATGCTACTGGGACATATGGAAAAAAGCAGTGAGAGTCACTGTCTATGCAAAAAATCCACCAGG\n",
      "TTGACTCTAGAAGGTAGCAGATCTAGGATGACAGTGAAACAGTATCTGGCCACCTGACGGAATTTTACAT\n",
      "TAGGAATCTGCATTTTTGAAGACTTTGAATTGCAGAGACAGGTCGCAGCCTGCACTCCCTAGACCCCCCA\n",
      "CCCCCTTCCCACCCCAGCACACTTCGGTCCCGTGTGGGTGATGTGGCTAACGTGTGTACACTGGGATTTT\n",
      "TCAAAGGACACTACATGAGCAGCCCCACTTGCTTCTTCTGTAAGCACCATGGTGCCCTTTGTGATCTGAG\n",
      "TGCCAGACAAGGGAAGTGCTGTTCTTTCTAACCCACGATGTGATTTGTGTAAATAGCTTTAATTTTGCCT\n",
      "TGGTGTCTTAGATGAAGTTTTGTTTCTGTAGCGACCAGGTAGACAGAGACCAAATGAGGCTGTAAATGTG\n",
      "ATGTTTTCTACTGTGATGTACTTGAAGGAGAATCTCGTGTCCTCCAATTTTCCATAGTATTTTGTGTTTG\n",
      "GGGAGTCCTGAGGTTACTCTTTGTTTCCTTTTTTGCCTCCATTTTCTTTATTTCTTCTGGAAACCCAGGG\n",
      "AGGCCCCCAGTGGAGATCATTTGTAAGGAATGTATCATGGTCTGGGTTTCCAAGAAAATACCCTACGTAC\n",
      "AGAGAAATAAGAAGAATATGCCTGAAAATGGTTTCAGCACCATGTAACCTTTATGCTTTGTGATTGTGAA\n",
      "ACCTTGACTTTTGTAACCCAAAAATGAAACCTGTTTAGTAAAGGGGATCTATTTTGTGTGTTTTGAAACT\n",
      "TAGGTGCAATGTTCCCCTGGAAAAAGCTAAAGAAATGTATATGCTCAATGCCGTTTTAAAATAAAATATT\n",
      "ATATATATATGTAAAAAAAAAAAAAAAAAA\n",
      "\n",
      ">AF451172.1 AF451172 Bos taurus retinal pigment epithelium Bos taurus cDNA, mRNA sequence\n",
      "AATTAATCTGCTAGGCTTAGCAGTGCCAATCATCATAAGTCAGTATAATCGCCCCAAAATGAACTTCCTG\n",
      "GCTCCCCCATGGCATTAGGCTATGGGGCCTTGTTTTCCCAGTTTGCCCACCATAGACCAGGCAGCAGCAG\n",
      "CTTCTGGAAAGGACAGGAGCCCCCAGAGTTGCCATGAGATTGGTACCGGGCACAGCTGGCTCAGTCCTCA\n",
      "TCTGACTGCCCATTGTCTTCTGAGCTTCTGGGCAGCAAAGCGCTGGCACGCTTGCATTAGGCCAGTGGAA\n",
      "AAGCTCTGGGCAGAGCCCTGGCTGCTCATTCCTCGGAATCAGAGATCCACTCCATGAAGGCACCCGTCCC\n",
      "GATCTTCCTGGCTACACCAGCCCAAGCGGAATCAGTTTTTGCTACCACTCAGCTCTCTAACACTCCCCAT\n",
      "CTCTAGGCATTTCAGCAGGGCCATGTGCCGACACCCTCTCTTGAGCACCTGTATGTCAACAGGAACCTGG\n",
      "AGATGGGCCCAGCCTCCCCATATGGTTCAGGAGGCCAAGTCCAGAGAATGCGGGGCCCATTTCTAGGGTG\n",
      "TTAGGGAAACCTGAAATTGAAAGGCAGAATCAGATTGGGTCTTAAGGCACTGGCTTTGATGAGGACCATA\n",
      "AACCCCCAAGAAAATCAGATTAACACCTGATTCTTCAAAACAGAACTGGCCACATGGCATGGCCCCCTGC\n",
      "TGGTATTTCCGCCCTCATTCTCTCACATGCCCTGCCAGCCAGGTTCCTGGTTAGAAATCACGCAGGTAAA\n",
      "ATGGGGGTGGCCCAAGGCAAACCAAGGTCAGTTGTGGCCTGTTACCAGATTCCCGTGTCACTGTCCCCTG\n",
      "TCGTGAGATCAAGTGAGGAGAGGTCCCTCTCCTGGCCCAGCGGTGCGGATGTAGGCAAAAAGGCTTTGGG\n",
      "TTGACCTCAGGCCTGGGATTTACTCCAGGTACCGCCTCTGACTCGTATGTGGCCTTCTGTGAAGGGGTAG\n",
      "CTCAGCGACACCCCCCAATTATCTGGTCATGGGTTCGACAAGTTCGGAAACACTAGATTAAATATTGTTC\n",
      "TTAGATCCTTCCTACCTCATACATTCTAAAATGGAATGCCTCTATTTGTGGGGCCCCAGGAAGGCTAAAT\n",
      "GAGTTGGAGCTGGAAAAAAAAAAAAAAAAAAAAAAA\n",
      "\n",
      ">AF451171.1 AF451171 Bos taurus retinal pigment epithelium Bos taurus cDNA, mRNA sequence\n",
      "CTTTAAATTAGTATCACTGGTTTTTCAAGTACAGAATCACATTTCTTGATGCATTTGGGTAGCTCTTTCC\n",
      "TGCAAGTTTTCAATGGCCTGATTCCCAAAGTCCAACTAGCATTCACATGAACACTGTATGTTAGGCAAGG\n",
      "CCAATGTGAAATTTTGGAAGATTATAACTCTGTAATACTAGTCACACTAGTACTTTAAGGAATAATTGGA\n",
      "AACAAACTGGGTAGAGTAAAACCCATTAATCACAGACCTTGCTTAAGATCAGTCTTTTTATCTTCAATTC\n",
      "ACATTGAACAAGCACCAACCATGTTTATTCACCACCTGTGTGTGCCTGACAGCCACAGTGCATCTGACAT\n",
      "TTACCTTCTCCAAAACAGCTATGGATTTGAATCTTGTGTAAATTAGTTACTTACCAGACTTACTCAAGAT\n",
      "GACAAATGCAGGTGCTTTTTCTTCATTCCTTTCATTTTTTAAAGGTACACATGACACTGGACTCATTAAC\n",
      "CAACTTGAGTATGGGGACAGCTAATTGCTTCTGATCCCCCAGAGCCAGTACAGTGCTTGGTCCACAGAAA\n",
      "GCTCTCGGTGTTTATGAAATTAAATATCAGAAGTCCCTTCTAGGGATACTGCCACGAGGTAAAACGCTAA\n",
      "ACTTCCACCACTTCTACTGAAAGCAACAGAATTACTTAGCTGCTCACTCATCCAGAACCATTGCCTGAGT\n",
      "TTAAGTATAAATTCTTTGTCTTCATCTATACCAATTCTGGGAGAGCTAACAATCTACTCTTAACATTGCA\n",
      "GTTTTAAAACCTGGCTGATTTCCAATAGCACTTTGTCCAAGCTGTGTTGTAGAAATGGTATGGATTCAGG\n",
      "ATTAAATGTGCTTGATTAATCAAACAAGCTGGAAAGCTAAAATGTTGATTTTTTTTGTTGTAAATTGATC\n",
      "ACTGTAATTTTTACCTTGTATGTTATTTGCATTTTGTACACATACACAGGAACATTTTAATTTTAATAGC\n",
      "TTTTAACAGGTTGACATATTGTTACTTCTTCATACAGGTCATACTTTTTTCCACTTGTAACTACAATTCA\n",
      "ATAAAACTTAATCCCATTTGCTCAAAAAAAAAAAAAAAAAAA\n",
      "\n",
      ">AF451170.1 AF451170 Bos taurus retinal pigment epithelium Bos taurus cDNA, mRNA sequence\n",
      "GGACCAGTTCCGGACACAGCTGAGCGTGTGTGTCAGGACACAGGCTACACGGGACGACGAAAACAAGGGA\n",
      "CCCGGTAGGTGTGCACCCTGATCACCCGGGCGGCCGTCGCAGACCAGCAGAGAGGGGTGGGCAAGCTCTG\n",
      "GAGGAGTCCGTATACTCACCTTTTTATTTTGGGGTAAAGGAAACAATAGGACTTCCGTGCAGTAGATTTC\n",
      "TCAGAGCCTTCTTTAGGAGTTTTATCTTAAGCACACTCAACGGGGAGAGAAAAAAGAGGAAAGAACATTC\n",
      "ATTCCCACGAAGCCCCTTTCTCTCAAGGCATCGGGGATCGAGAAGGAAGAAGATGATGATGGTGAAACAG\n",
      "CAAAATCCTGAGGAGGCCATTTCCTTTCAACCCACCTGGCTCACCCCTGAGAATTGCTGGTGACACAGAC\n",
      "TTTTTCAGACTGATTACCCAACCTCTCCTCCGCCGTGTCTTAGTATCTGTAAGCCTCATCCTTGCCCTTT\n",
      "CTCCTGATAAGATCCACGTTTCTAACGAAAAAAAAAAAAAAAAAA\n",
      "\n",
      ">AF451169.1 AF451169 Bos taurus retinal pigment epithelium Bos taurus cDNA, mRNA sequence\n",
      "ATTTGCTCTATTGGTTACTTTGCACACACTTTTTTTTTTTTCATTGCAAATGGAATCGAAGCACTAACTG\n",
      "CGACCAGTATTAACTCTTTTCTAGCTCTCCAAGATGATTTATGCTTTCACTTGCTCCATTGCTTTCTGTC\n",
      "TAGTGGCCCCTCCCTTGGTTTTCATCTGATTTCCTCCCACTACAGTAGAAGCTCATTCCATCTTCTTTTG\n",
      "TCCAGACTCAAGGTAATAGATTCCGTAAACTCCAGGGTCTTCACAGGGTTGCTGTATTCAGCCACGTGGG\n",
      "CTGTGCCATTCCTCGCTGGTGAAGGTCAGTGGACCCCCAGGCTTGTGCCACGCAGCAGGCTGTATTCCAA\n",
      "GGGAAACCACGACAGAAGTAGCCATTCCATTAAGTACGTTCTGCTATGTCCACATACCTACAGTGCCTAT\n",
      "AAACCATGACAGGTCTGTTCAAGGACACCTGGGAAGGTTAATGACCCTGCTGGACAGGGCAAGGATACAA\n",
      "TTTTCTGTGGGTGCTGCCAGGCTGAATTAAGTTAACAGACTTCCTAATCCAGAAAGTGATATGAAAACAG\n",
      "TTGTCAGAGAAGGCAGTTTTCAACTCAACTTAGCCCATTTCCTTGTTTTGGTCTTCAGGGACAAAGGGAC\n",
      "CTCCCTGCCATCTAATTTTGACAGTGAGATCACCCTGAGTTGAATACAAACTAATGTGGTTTGGAGCCTC\n",
      "GGGCTGGTCGTTAGTATGCACCCAAGATGGCTTGACGTTGGCTATGTCAGGAGTCTTAGTTTCACAGAAA\n",
      "AATAAGCATGTGAGAGGTAAAGGAAAGCACAGAGATTTTCACCACCTTTAAAATTCACCACCATCCATTT\n",
      "TTGAATGGAGCTTCTATAAACAGATATAGCAAGAGGTTCTATTCACAATGTGTATGTATTTCAAATCATC\n",
      "ACACTGTACACTTTCAACATCTCACAATTTTCTTTGTTGATTATACCTCAGTAAAGCTGAAAATAAAAAA\n",
      "AAAAA\n",
      "\n",
      ">AF451168.1 AF451168 Bos taurus retinal pigment epithelium Bos taurus cDNA, mRNA sequence\n",
      "TCAGCCTTTACTGCGCCTCCCACCAACGGGCTCCCCCATGCCGAGGACAGGACTAAGGAGGAGCTGGCAG\n",
      "AGAATGGAAGTGTCTTGCAGCTGGTGGGCCCGGACGAGCAGAAGCTGGGCCCGCCTAGTACAGACGCATA\n",
      "GAAAGAGCTGGTCTGACCACCAGACACCTCGCTGGTACTGCTGACCCATCCCAGGAATACATTCTCAGGG\n",
      "ACCTGAGGGGCTCCGAGGATGAGAGGATACGGCAGACACTTAACCTAATGGGGGGACGCCTGCAGCCTTA\n",
      "ACCTCCACGGCCTTCGGTATTTATGCAAGCCTGTGTGGATCCTGTCCTCCAAGTCACCCCTTCTGTATTG\n",
      "ATCTTCTTTCTTCAACAGTGACTCAGGCTTGAGCTGGACAAGGAACTTTTTAGCTGCTTCTCCTCCACCC\n",
      "AGGAGACAGGTTGACCCTCTCCCAGAACAAGAACTGGGAACACAGGGGATGTCGTTGGAGAACCCAGGTT\n",
      "CCTCTGGCCTTCTCCACCATCTTCTCTTCAGCTATAAACCAGTGTTCTTCCGTGCCCGCTGGGTATGTGT\n",
      "TGTCCCTGCCCGGTAAGATGGGGAAGACAGTCGGTAAACCAGTTCTGCTCAGAGCTCTTGACCAATCTCC\n",
      "TGGGAATGGGGACTAGGACCAGGCCAAAGCTTCCATGACATCAAGCTTAGGCAGCAGCCACAGAGCTGCT\n",
      "GGAGCTGAGAGGGAGCCCACCTTCTGTCTCTTTGCCTCCCCTCTCTCTGTTACTCCTTATCTTCAGTTAG\n",
      "TCCTCTGAGCTTGTTTCCCCACTGGGTGGGACAGAGTTGAAAGGAGAAGGGAGGATCTCCCAAGAGGCAA\n",
      "TCCTTCTTTGTCCTCTGGGGTAAATGAACTTGACCTAGTGCACATGGAGACCAAAAGCCTCTGATTTTTA\n",
      "ATTTCCATAAAAATGTTAGAGAGAGAAGTATATATATATATATATATATTTCTTTAAATTTTTGAGTCTT\n",
      "TGATATGTCTATACAATCTGTTCCCTCTGCCCTGAAGCCGGAGTGAGACACATGGAAAAACTCTGTGTGG\n",
      "ATTTCATTCCGAAGGTGTTAATTAAATGATTAAAACTTGAAAAAA\n",
      "\n",
      ">AF451167.1 AF451167 Bos taurus retinal pigment epithelium Bos taurus cDNA, mRNA sequence\n",
      "GGGACCCATGGGGGCAACCGGGCCGGCGGGCGAGTGCTCGGTGCCTCCGCGCTCCGCCTTCAGCGCTAAG\n",
      "CGCTCTGAGAGCCGGGTGCCCCCGCCGTCGGACGCGCCCCTACCCTTCGACCGCGTGCTGGTGAACGAGC\n",
      "AGGGACACTACGACGCCGTCACCGGCAAGTTCACCTGCCAGGTGCCCGGGGTCTACTACTTCGCCGTCCA\n",
      "CGCCACCGTCTACCGGGCTAGCCTGCAGTTTGATCTGGTCAAGAATGGCGAGTCTATCGCCTCTTTCTTT\n",
      "CAGTTCTTCGGAGGGTGGCCCAAGCCAGCCTCGCTCTCCGGGGGCGCCATGGTGAGGCTGGAGCCTGAAG\n",
      "ACCAGGTGTGGGTACAGGTGGGCGTGGGGGATTATATTGGCATCTACGCCAGCATCAAGACAGACAGCAC\n",
      "CTTCTCTGGATTTCTAGTGTATTCTGACTGGCACAACTCCCCTGTCTTCGCTTAGATGCCCACTGGAAAG\n",
      "TGAGCTCATGCTGTCTCACTCCTAGGGGAGGAGGAGGTGACACCGACGGCCCCATCACCCGGGAGGGCTG\n",
      "GCCCCACCTGGAATGTCATGAATGAATGCAGAGGAGGGGTGGGGGCCTATCAGTTCAGCTGCAGGCAGGG\n",
      "AATGGGGATCAAGGATGAGATGAGGGCTGGCAGCATGGGGCAGTGGCTGGATTTCTGCCCTAGATCAAAG\n",
      "GAGTTCGGTAGTTGCCCCCAGTTGCTCTGGCCCGGGACCCCAAGGTGCAGTGCTCGTTTTCTGGTCCCCT\n",
      "GTCTCTATGGGTCTTGCCGTCATCGCTCCTGATCCTGGGCCCTTTTTCTCAGAGATCATTCAATAAATCT\n",
      "AATAAAACCCTCAAAAAAAAAAAAAAAAAA\n",
      "\n",
      ">AF451166.1 AF451166 Bos taurus retinal pigment epithelium Bos taurus cDNA, mRNA sequence\n",
      "TTGGATATGGTGTGCCGTGGCAGTTAGCATTTACCGCAGGAGAAGGAAAGAATGGATATTAATGTATTTG\n",
      "GGGTGGGTTTTTTTTTGGCCTGGACCGTATCCAGTCACCACTATGCAACGACCGAACGACGTGCACTGGA\n",
      "AAAGGATGTGACAGGTGTTCACAGCCACACCCTGCTCAGTCTTTACTCTTGCAATACTCCAAGATGTCCA\n",
      "AACAGGAATGTTTTTTGTAAACCTCAAGACTTATTGACTATCCCCTTACATATTTATTTACCCCTTAGTG\n",
      "AGACACTTACATATAATATGGACTTTAATTTACCAGGGTTTTTGGTGGTGCCTTATGAAAAGTACAACTT\n",
      "GATTTCTTGTTTTTTGAGCATGTTTTGCATTTATTTTTGTTTTCTGAAAAAAAAATATTAGATATGGTTA\n",
      "TTTGCATTACATCTAAAAAAATAAAAGCTTTGTGTGTGAAAAAAAAAAAAAAAAAAAAAAAAAA\n",
      "\n",
      ">AF451165.1 AF451165 Bos taurus retinal pigment epithelium Bos taurus cDNA, mRNA sequence\n",
      "TGAAATTTACCAGATTACACTGGGTTAAGAATGTGAAAACGCTGCCCATGTGCCATTTATGGTAGACGAT\n",
      "GGGAGGGTCCACCTGGCGTGGTATCAGGCATAGAGTTACTGCAGGATGACTTATCTGATGCTGCGATTTA\n",
      "ACCTCAATACTGAATGGAAAAAGCATCTTTAACAAAAGGACCTTTATTTTACAGTCTGTTTTGACCAAAA\n",
      "TGTTTAGCTATTTCCCCAAGACACACTGGACCACATTTATCTTCCTCATTCTGTGTCCTTTAATTCCAAA\n",
      "TCTTGGGATGTTTAGAAGCTAAGAAACTACCCTTCTGGCTAAAAACTTGCCTTAATTGGTACCTCAAATA\n",
      "TTAATTTCAGTAGGATGAAGACCTTACTATTTTGTGATCCCCTGTTCAATAATTTTTAGAAGCAAAAAAA\n",
      "AAAAAAAAAAAA\n",
      "\n",
      ">GW473193.1 CA00-XX-FR1-014-A08-CB.F Coffea arabica FR1 Coffea arabica cDNA clone CA00-XX-FR1-014-A08-CB, mRNA sequence\n",
      "ATTCCCAAGATTTCCCTGAGAAAAATTTCCCAAATATTGTTTTGCCCGATGCGAAAAACCAAGCAAACCA\n",
      "CGAGAGACTTCCGAACTCGTCCACTCGATATCATCCAGGTTTCTTGAACCAATTGCTGCTCCTGGTCCAA\n",
      "AAATTAAAGCGAAAAAACCTTCCATTTTATCCCGAGCGCCCAAAATTTCCGATGAAAATGAAAAGGGATC\n",
      "GCAACCGTGACAAAGGGGAGGCTTCATCCTCATCCATGGTCAAAATCCACCTCCCGACGCCCTCCCCACC\n",
      "TCCCCCTTTCTCCACCAAAGCTAAGATGTGGGAAGAAGAGCATCAACAAGCTGCAGATGCGGGGATGGAC\n",
      "GAGCTTTTGGCTGTGTTGGGGTACAAAGTTAAGTCCTCAAACATGGCGGAGGCTGCCCAGAAGCTGGAGC\n",
      "AATTGGAGAGGGTCATGGGGACGACTATGGAAGATGGGATTTCCTGTCTCTCTGATACTGTTCATTACAA\n",
      "CCCTTCTGATCTTTCCGGATGGGTCCAGAGCATGCTGTCTGAACTCAACAACGTTAATTTGCCCCCTTCT\n",
      "TCTGCAACGAGTATTATCAGCTATGACGAAATTTCACCTGCTATTGGCGGTACTGACGGTGCTACCAATG\n",
      "ATAGAGATTTGATTTTTGATGATGATTTGAGAGCTATTCCAGGTGATGCTATTTTCTGTAACAGCAATAA\n",
      "CAATAATAATA\n",
      "\n",
      ">GT649250.1 CC00-XX-SH3-056-G06-EM.F Coffea canephora SH3 Coffea canephora cDNA clone CC00-XX-SH3-056-G06-EM, mRNA sequence\n",
      "GTTCGCATTTCGGGGATTTGTAGCCAATTCTTTAGCTGATCTTGATGCTTCCATGTTGGAAATCAGGCCG\n",
      "TGTGAGGTTGAAGCTGTAGCTGTTAATTCTGTTTTCGAGCTGCATAGGCTGTTGTCTAGGCCTGGGGCAA\n",
      "TCGATAAAGTGCTGAATTCGATCAAATCCATGAGGCCAAAAATCGTGGCGGTCGTGGAACAAGAAGCTAA\n",
      "TCATAATGGGAATGTTTTCATGGACAGGTTTAATGAGGCGTTGCATTATTATTCAACAATGTTTGACTCG\n",
      "TTGGAGAGCTCCGGGTTGACTCAGCAGTCCAACAGCCAGGACTTGGTGATGTCTGAAGTGTATCTGGGGC\n",
      "GGCAGATTTGCAACGTGGTGGCCTGCGAAGGCGTGGACCGAGTTGAGCGCCACGAGACCTTGACTCAGTG\n",
      "GCGGGGGAGGATGAACTCGGCCGGGTTTGACCCGGTTCACCTGGGATCCAACGCCTTCAAGCAAGCGAGC\n",
      "ATGTTGTTGGCCTTGTTTGCCGGTGGGGATGGGTACCGGGTGGAGGAGAACGATGGGTGCTTGATGCTAG\n",
      "GTTGGCACACTCGTCCGCTGATTGCTACCTCGGCGTGGCAACTCAGGGACGGGAGTGAGTCGTTGTGAGT\n",
      "CAAGTCGGCGGTTTGGTTTGGTTT\n",
      "\n",
      ">GW475414.1 CA00-XX-FB1-101-F10-BF.F Coffea arabica FB1 Coffea arabica cDNA clone CA00-XX-FB1-101-F10-BF, mRNA sequence\n",
      "GACCCCGCGTCCGGAGAATCAGTTTCCCCAGGAGGTTCTCGCTCTCGTTCCCGGTCCCGTTCCGAGGAGG\n",
      "CGGCGGCGCATGGAATTCAGACGGAGACCACCCGGTGGATTCATAATTACCAGCACACGGCGGGAGACCT\n",
      "GAAGATGATGCTGATAATTATGAGACCACCCGGTGGATTCATAATTACCAGCACACGGCGGGAGACCTGA\n",
      "AGATGATGCTGATGAACCGGGTTGGAGTTGGTGGAGCTCGGACAGCAAATTGTCGACCCATGAAGAGAGG\n",
      "TCAGAGGGATTGTAGTGCACGACGTCGTTGGCCAGATGATATTGTAAGGGG\n",
      "\n",
      ">GW475042.1 CA00-XX-FB1-100-D12-BF.F Coffea arabica FB1 Coffea arabica cDNA clone CA00-XX-FB1-100-D12-BF, mRNA sequence\n",
      "GGTTGACTCAGCAGTCCAACAGCCAGGACTTGGTGATGTCTGAAGTGTATCTGGGGCGGCAGATTTGCAA\n",
      "CGTGGTGGCCTGCGAAGGCGTGGACCGAGTTGAGCGCCACGAGACCTTGACTCAGTGGCGGGGGAGGATG\n",
      "AACTCGGCCGGGTTTGACCCGGTTCACCTGGGATCCAACGCGTTCAAGCAAGCGAGCATGTTGTTGGCCT\n",
      "TGTTTGCCGGTGGGGATGGGTACCGGGTGGAGGAGAACGATGGGTGCTTGATGCTAGGTTGGCACACTCG\n",
      "TCCGCTGATTGCTACCTCGGCGTGGCAACTCAGGGACGGGAGTGAGTCGTTGTGAGTCAAGTCGGCGGTT\n",
      "TGGTTTGGTTTGGTTTTTGACAACTGAGTCAACTCGGATGTGGGGTACGACTGAGTCGTGGTCAACTTGT\n",
      "TGAATCGGGCCTCCGCTGACTCTCCGACCACGGAGTACGAGTGCGGTACGCTGAGT\n",
      "\n",
      ">GW430489.1 CA00-XX-RT8-050-B03-EP.F Coffea arabica RT8 Coffea arabica cDNA clone CA00-XX-RT8-050-B03-EP, mRNA sequence\n",
      "TGACTAATTGAATTTGAACTCGTCTCAAAGTTTATACAGCTTCCTGCTCAAACAAATACCGGTTGCCAAA\n",
      "CCCAAACTGCAATGAGGGGCCGGCTTTGCCAACCCAGCGTTAAACACCCCTCACTTTTTTTTATACAAAA\n",
      "TCCCTCAGCTGAAAATAATGTCAATAGCATACTGGCTTGCTTAAATGCGTTGGATCCCAAATACAGTGGC\n",
      "TTGAAACCAGCCCCCTTCAATCGAGCTTTCCATTTGGCTAATGGCTCGTGTCTTTCCACCCGGGCTGAAT\n",
      "CCTCACAACACACTATGTTACATATTTTTTTTTGCATGTATATCTCGGCTAAAACATTATCAACCCGATT\n",
      "TGAACA\n",
      "\n",
      ">GW469261.1 CA00-XX-LV5-013-E06-UT.F Coffea arabica LV5 Coffea arabica cDNA clone CA00-XX-LV5-013-E06-UT, mRNA sequence\n",
      "ACGCGTCCGCCTCACCACATTTCACCACACCAGAGTTTCACCTTCTGTTCCTCTCTTGAAGCTCGCGCCC\n",
      "TCTTCACGAGCACATCCTCTTATCTCCCCCACCCCAACCCTCTCCCTCTCTTTCTCTCCCACTAGTTATT\n",
      "TCCACTAGTACTACTGGTACTGTACTAGTGCTACTATTCCCACCACTATTTTATGGTTATTTTATTCCCA\n",
      "AGATTTCCCTGAGAAAAATTTCCCAAATATTGTAAAGTAGTGATGCGAAAAACCAAGCAAACCACGAGAG\n",
      "ACTTCCGAACTCGTCCACTCGATATCATCCAGGTTTCTTGAACCAATTGCTGCTCCTGGTCCAAAAATTA\n",
      "AAGCGAAAAAACCTTCCATTTTATCCCGAGCGCCCAAAATTTCCGATGAAAATGAAAAGGGATCGCAACC\n",
      "GTGACAAAGGGGAGGCTTCATCCTCATCCATGGTCAAAATCCACCTCCCGACGCCCTCCCCACCTCCCCC\n",
      "TTTCTCCACCAAAGCTAAGATGTGGGAAGAAGAGCAGCAACAAGCTGCAGATGCGGGGATGGACGAGCTT\n",
      "TTGGCTGTGTTGNGGTACAAAGTTAAGTCCTCAGACATGGCGGAGGTTGCCCAGAAGCTGGAGCAATTGG\n",
      "AGAGGGTCA\n",
      "\n",
      ">GW468948.1 CA00-XX-LV5-012-E11-UT.F Coffea arabica LV5 Coffea arabica cDNA clone CA00-XX-LV5-012-E11-UT, mRNA sequence\n",
      "TGATCATTTGCAAGAAGTCGGGTGGAAATTAGCCCAATTAGCTGATTGCATTAAAGTTGAATTTGAGTTC\n",
      "AGAGGCTTCGTTGCTAACTCCCTTGCTGATCTTGACGCATCCATGTTTGATATTCGCGAAGGAGAAACAG\n",
      "TTGCAGTGAATTCCATCTTTGAATTGCATCAGCTTTTATCTAGGCCGGGGGCTATTGAAAAAGTCTTGTC\n",
      "AGCTGTGAAAGAATTGAAGCCTGAAATCTTAACCGTGGTCGAGCAAGAGGCTAATCATAATGGACCGGTT\n",
      "TTCTTGGACCGGTTCACAGAGTCATTGCATTATTACTCGACCCTTTTCGACTCGTTGGAGGGTTGCGGCA\n",
      "GTGGCGGCGGCGGTAACGGAGGTGTTGATGGTGGTTCTAGTAGTGGCGGCGGTGTGGCTGTGAGTGATCA\n",
      "AGATAAGGTGATGTCTGAGGTGTATTTAGGGAGGCAGATCTGTAATGTGGTGGCTTGTGAGGGGGTGGAC\n",
      "CGGGTTGAGAGGCATGAGACATTGGCTCAATGGCGAACGAGGTTCGGTTCGGCCGGTTTCGAGGCGGTTC\n",
      "ATTTGGGTTCCAATGCCTTTAAGCAAGCTAGTATGTTATTGGCTTTGTTTGCTGGTGGGGATGGGTATAG\n",
      "AAGTGGAGGAAAACAATGGGTCTTTGATGTTGGGATGGCATACAAGGGCTCTAATTGCAACCTCGGCTTG\n",
      "GAAACTCAGTTAACCGACCGAGCTAAACTTGACT\n",
      "\n",
      ">GW490611.1 CA00-XX-FR2-006-D07-JE.F Coffea arabica FR2 Coffea arabica cDNA clone CA00-XX-FR2-006-D07-JE, mRNA sequence\n",
      "ATGAAAGGGATCGCAACCGTGACAAAGGGAGGCTTCATCCTCATCCATGGTCAAAATCCACCTCCCGACG\n",
      "CCCTCCCCACCTCCCCCTTTCTCCACCAAAGCTAAGATGTGGGAAGAAGAGCAGCAACAAGCTGCAGATG\n",
      "CGGGGATGGACGAGCTTTTGGCTGTGTTGGGGTACAAAGTTAAGTCCTCAGACATGGCGGAGGTTGCCCA\n",
      "GAAGCTGGAGCAATTGGAGAGGGTCATGGGGACGACTATGGAAGATGGGATTTCCTGTCTCTCTGATACT\n",
      "GTTCATTACAACCCTTCTGATCTTTCCGGATGGGTCCAGAGCATGCTGTCTGAACTCAACAACGTTAATT\n",
      "TGCCCCCTTCTTCTGCAACGAGTATTATCAGCTATGACGAAATTTCACCTGCTATTGGCGGTACTGACGG\n",
      "TGCTACCAATGATAGAGATTTGATTTTTGATGATGATTTGAGAGCTATTCCAGGTGATGCTATTTTCTGT\n",
      "AACAGCAATAACAATAATAATAGTGCTACTAGTAAAGAAAATGCCAAAGAATCGTCGCCTTCTTGCGAGT\n",
      "CCAACAAGAGGATGAAATCCTCCCCCTCAAGTACTGGATCTGATTTTGGTGGGATATCGGTTTCTTCAAT\n",
      "CAATCCTCCATCTTCAGACGCAGCTAGGCCTGTAGTTCTCGTGGACTCTCAAGAAACAGGCATCAGACTT\n",
      "GTCCATACTTTAATGGCTTGTGCTGAA\n",
      "\n",
      ">GW477833.1 CA00-XX-LV8-079-B04-UT.F Coffea arabica LV8 Coffea arabica cDNA clone CA00-XX-LV8-079-B04-UT, mRNA sequence\n",
      "CTAGTAGTGGCGGCGGTGTGGCTGTGAGTGATCAAGATAAGGTGATGTCTGAGGTGTATTTAGGGAGGCA\n",
      "GATCTGTAATGTGGTGGCTTGTGAGGNGGTGGACCGGGTTGAGAAGCATGAGACATTGGGCTCATGGCGA\n",
      "ACCAGGTTCGGTTCGGCCGGTTTCGAGGCGGTTCATTTGGGTTCCAATGCCTTTAAGCAAGCTAGTATGT\n",
      "TATTGGCTTTGTTTGCTGGTGGGATGGGTATAGAGTGGAGGAAAACATGGGTGTTTGAATGGTGGGATGG\n",
      "CATACAAAGCCTCTAATTGCAACCTCGGCTTGGAAACTCAGTTAACCGACCGAGTTAAACTTGACTCGGT\n",
      "CA\n",
      "\n",
      ">GW429449.1 CA00-XX-RT8-091-B04-CB.F Coffea arabica RT8 Coffea arabica cDNA clone CA00-XX-RT8-091-B04-CB, mRNA sequence\n",
      "AATAAAGGATTAATTGAATTTGATCCCGTCTCAAGGAATTTTACCCACTAATTGAATTTGAACCGGCTCA\n",
      "AAGTTTATACAGCTTCCTGCTCAGTCAGATGCCGGTTGCCAAGCCGAAGCTGCAATGAGGGGCCGGCTAT\n",
      "GCCAGCCCAGCGTTAGACACCCCTCACTTTCTTCTATACAGTATCCCTCAGCTGAAAATAATGTCAATAG\n",
      "CATACTGGCTTGCTTAAATGCGTTGGAT\n",
      "\n",
      ">GW462331.1 CA00-XX-SS1-007-G02-EF.F Coffea arabica SS1 Coffea arabica cDNA clone CA00-XX-SS1-007-G02-EF, mRNA sequence\n",
      "GGAAACTCAGTTAACCGACCGAGTTAAACTTGACTCGGTCAGTGAGTTATGGGTTTGCAGGGGGGGACTA\n",
      "GCTCAGTTTTGGGCCTTTGGTCTACCAAACCATTGTAAGAGTGGTCTCTGCTTAGCTGGGTACCTTAGTG\n",
      "AGGTGAGACCCACCGCTCCCTAGTGTGTCTCCC\n",
      "\n",
      ">GW474527.1 CA00-XX-FB1-050-F09-JF.F Coffea arabica FB1 Coffea arabica cDNA clone CA00-XX-FB1-050-F09-JF, mRNA sequence\n",
      "GCTCCACCAACTCCAACCCGGTTCATCAGCATCATCTTCAGGTCTCCCGCCGTGTGCTGGTAATTATGAA\n",
      "TCCACCGGGTGGTCTCCGTCTGAATTCCATGCGCCGCCGCCTCCTCGGAACGGGAACGGGAACGAGAGCG\n",
      "AGAATCAGCAGCCCCAGGAGGTTCTATCTCACGTCTTGCACCTCATGGACCAGGAAGATTCCAGCATTCA\n",
      "GTTAGTCCACGTGTTGATTAGCTGTGCGGAGTCTGTCCAGTGTGGCAACCTCCCGTTGGCTGGTTCCTTG\n",
      "ATAGCAGATTTACAGGCGCTGCTTACACGTGTCAACACTGCATGTGGTATTGGAAAAGTGGCTGGCTATT\n",
      "TCATCGACGCCCTGAGCCGCCGGATATTCACGGCGGTGCCTCCAGGAGCCGCCAGCTTCATGAGCTGCTG\n",
      "GGCATCTGAGGATGAGATTCTGTATCATCATTTCTACGAAGCGGCTCCTTACTTAAAATTTGCTCATTTC\n",
      "ACGGCCAACCAGGCGATATTGGAAGCCTTTCAGGGCCACGATTGCGTCCATGTCGTTGACTTTAATCTAA\n",
      "TGCAAGGCTTGCAATGGCCGGCTCTAATCCAAGCCTTGGCTCTCCGCCCCGGTGGGCCGCCGTTGCTACG\n",
      "GCTGACTGGGATTGGCCCGCCATCTCCTGATGNGCGCGATTCTCTATGCGTAATTGGGTTGAGATTAGCC\n",
      "GGATTGGCTCGCTCGGTGAACGTCAAGTT\n",
      "\n",
      ">GW479653.1 CA00-XX-LV8-008-E11-QH.F Coffea arabica LV8 Coffea arabica cDNA clone CA00-XX-LV8-008-E11-QH, mRNA sequence\n",
      "GGTTTAATGAGGCGTTGCATTATTATTCAACAATGTTTGACTCGTTGGAGAGCTCCGGGTTGACTCAGCA\n",
      "GTCCAACAGCCAGGACTTGGTGATGTCTGAAGTGTATCTGGGGCGGCAGATTTGCAACGTGGTGGCCTGC\n",
      "GAAGGCGTGGACCGAGTTGAGCGCCACGAGACCTTGACTCAGTGGCGGGGGAGGATGAACTCGGCCGGGT\n",
      "TTGACCCGGTTCACCTGGGATCCAACGCGTTCAAGCAAGCGAGCATGTTGTTGGCCTTGTTTGCCGGTGG\n",
      "GGATGGGTACCGGGTGGAGGAGAACGATGGGTGCTTGATGCTAGGTTGGCACACTCGTCCGCTGATTGCT\n",
      "ACCTCTGCGTGGCAACTCAGGGACGGGAGTGAGTCGTCGTGAGTAACTCGGCGGTTTGGTTTGGTTTGGT\n",
      "TTTTTACTACTGAGTCAACTCGGTGTGGGGTACGACTGAGTCGTGGTCAACTTGTTGAATCGGGCCAACT\n",
      "CAGCAGCTATCCGCTGACTCTCCCACCACGGAGTACGAGTGCGGTATGCTGAGTTGGCGAGGGGGTGGTG\n",
      "GTGTGGGGGCGA\n",
      "\n",
      ">GW482117.1 CA00-XX-FB4-022-B05-CE.F Coffea arabica FB4 Coffea arabica cDNA clone CA00-XX-FB4-022-B05-CE, mRNA sequence\n",
      "TTTAATCTAATGCAAGGCTTGGATTAGAGCCGGCCATTGCAAGCCTTGCATTAGATTAAAGTCAACGACA\n",
      "TGGACGCAATCGTGGCCCTGAAAGGCTTCCAATATCGCCTGGTTGGCCGTGAAATGAGCAAATTTTAAGT\n",
      "AAGGAGCCGCTTCGTAGAAATGATGATACAGAATCTCATCCTCAGATGCCCAGCAGCTCATGAAGCTGGC\n",
      "GGCTCCTGGAGGCACCGCCGTGAATATCCGGCGGCTCAGGGCGTCGATGAAATAGCCAGCCACTTTTCCA\n",
      "ATACCACATGCAGTGTTGACACGTGTAAGCAGCGCCTGTAAATCTGCTATCAAGGAACCAGCCAACGGGA\n",
      "GGTTGCCACACTGGACAGACTCCGCACAGCTAATCAACACGTGGACTAACTGAATGCTGGAATCTTCCTG\n",
      "GTCCATTTGGTGCAAGACATGGGATAGAGCCTCCTGGGGCTGCTGATTCTCGCTCTCGTTCCCGTTCCCG\n",
      "TTCCGAGGAGGCGGCGGCGCATGGAATTCAGACGGAGACCACCCGGTGGATTCATAATTACCAGGACACG\n",
      "GCGGGAGACCTGAAGATGATGCTGATGAACCGGGTTGGAGTTGGTGGAGCTCCGACAGCAAATTGTCGAC\n",
      "CCATGAAGAGAGGTCAGAGGGATTGTAGTGCACGACGTCGTTGCA\n",
      "\n",
      ">GW470959.1 CA00-XX-LV8-050-F06-CC.F Coffea arabica LV8 Coffea arabica cDNA clone CA00-XX-LV8-050-F06-CC, mRNA sequence\n",
      "AATTGCATCAGCTTTTATCTAGGCCAGGGGCTATTGAAAAAGTCTTGTCAGCTGTGAAAGAATTGAAGCC\n",
      "TGAAATCTTAACCGTGGTCGAGCAAGAGGCTAATCATAATGGACCGGTTTTCTTGGACCGGTTCACCGAG\n",
      "TCATTGCATTATTACTCGACCCTTTTCGACTCGTTGGAGGGTTGCGGCAGTGGCGGCGGCGGCGGCAGCG\n",
      "GCGGTAACGGAGGTGTTGATGGTGGTTCTAGTAGTGGCGGCGGTGTGGCTGTGAGTGATCAAGATAAGGT\n",
      "GATGTCTGAGGTGTATTTAGGGAGGCAGATCTGTAATGTGGTGGCTTGTGAGGGGGTGGACCGGGTTGAG\n",
      "AGGCATGAGACATTGGCTCAATGGCGAACCAGGTTCGGTTCGGCCGGTTTCGAGGCGGTTCATTTGGGTT\n",
      "CCAATGCCTTTAAGCAAGCTAGTATGTTATTGGCTTTGTTTGCTGGTGGGAATGGGTATAGAGTGGAGGA\n",
      "AAACAATGGGTGTTTGATGTTGGGATGGCATACAAGGCCTCTAATTGCAACCTCGGCTTGGAAACTCAGT\n",
      "TAACCGACCGAGTTAAACTTGACTCGGTCAGTGAGTTATGGGTTTGCAGGGGGGGACTAGCTCAGTTTTG\n",
      "GGCCTTTGGTCTACCAAACCATTGTAAGAGTGGTCTCTGCTTAGCTGGGTACCTT\n",
      "\n",
      ">GT666238.1 CR00-XX-FV2-015-H05-EM.F Coffea racemosa FV2 Coffea racemosa cDNA clone CR00-XX-FV2-015-H05-EM, mRNA sequence\n",
      "GCTGTAGCTGTTAATTCTGTTTTCGAGCTGCATAGGCTGTTGTCTAGGCCTGGGGCAATCGATAAAGTGC\n",
      "TGAATTCGATCAAATCCATGAGGCCAAAAATCGTGGCGGTCGTGGAACAAGAAGCTAATCATAATGGGAA\n",
      "TGTTTTCATGGACAGGTTTAATGAGGCGTTGCATTATTATTCAACAATGTTTGACTCGGATGTGAGGTAC\n",
      "GACTGAGTCGTGGTCAACTTGTTGAATCGGGCCAACTCAGCAGCTATCCGCTGACTCTCCCACCACGGAG\n",
      "TACGAGTGCGGTATGCTGAGTTGGC\n",
      "\n",
      "\n"
     ]
    }
   ],
   "source": [
    "print della_est"
   ]
  },
  {
   "cell_type": "code",
   "execution_count": 3,
   "metadata": {},
   "outputs": [
    {
     "name": "stdout",
     "output_type": "stream",
     "text": [
      ">JZ532466.1 SSH_60RA39 Triticum aestivum genotype Chirya 7 young leaf cDNA library Triticum aestivum cDNA similar to DELLA (Rht-B1), mRNA sequence\n",
      "\n",
      "ACTTGGAAATTTTCGATGGCATTAGGATGAAAGATTTTAAGAAGCAAAATATGCTTGATGTGCGGAAGAC\n",
      "\n"
     ]
    }
   ],
   "source": [
    "f         = open('./file_170830/sequence.fasta')\n",
    "della_est_oneline = f.readline() # 메모리에 한줄씩만 올린다. \n",
    "print della_est_oneline\n",
    "della_est_oneline = f.readline()\n",
    "print della_est_oneline"
   ]
  },
  {
   "cell_type": "markdown",
   "metadata": {},
   "source": [
    "* 실습3. (난이도가 있음) sequences.fasta를 읽고 DELLA est 의 이름과 염기서열을 dictionary에 넣는것. key는 DELLA est의 이름, value는 염기서열 \n",
    "* 실습4. NCBI에서 AP2 EST를 다운받아 sequences.fasta 에 저장하고, google colab에 업로드 하고 각 EST의 이름과 염기서열을 dictionary에 넣어보자. key는 est의 이름, value는 염기서열 "
   ]
  },
  {
   "cell_type": "markdown",
   "metadata": {},
   "source": [
    "# DNA-> RNA-> Protein\n",
    "\n",
    "![](https://qph.fs.quoracdn.net/main-qimg-cba6ce31d4ac72799336b789f57fc1c5)"
   ]
  },
  {
   "cell_type": "code",
   "execution_count": 7,
   "metadata": {
    "collapsed": true
   },
   "outputs": [],
   "source": [
    "gencode = {\n",
    "    'ATA':'I', 'ATC':'I', 'ATT':'I', 'ATG':'M',\n",
    "    'ACA':'T', 'ACC':'T', 'ACG':'T', 'ACT':'T',\n",
    "    'AAC':'N', 'AAT':'N', 'AAA':'K', 'AAG':'K',\n",
    "    'AGC':'S', 'AGT':'S', 'AGA':'R', 'AGG':'R',\n",
    "    'CTA':'L', 'CTC':'L', 'CTG':'L', 'CTT':'L',\n",
    "    'CCA':'P', 'CCC':'P', 'CCG':'P', 'CCT':'P',\n",
    "    'CAC':'H', 'CAT':'H', 'CAA':'Q', 'CAG':'Q',\n",
    "    'CGA':'R', 'CGC':'R', 'CGG':'R', 'CGT':'R',\n",
    "    'GTA':'V', 'GTC':'V', 'GTG':'V', 'GTT':'V',\n",
    "    'GCA':'A', 'GCC':'A', 'GCG':'A', 'GCT':'A',\n",
    "    'GAC':'D', 'GAT':'D', 'GAA':'E', 'GAG':'E',\n",
    "    'GGA':'G', 'GGC':'G', 'GGG':'G', 'GGT':'G',\n",
    "    'TCA':'S', 'TCC':'S', 'TCG':'S', 'TCT':'S',\n",
    "    'TTC':'F', 'TTT':'F', 'TTA':'L', 'TTG':'L',\n",
    "    'TAC':'Y', 'TAT':'Y', 'TAA':'*', 'TAG':'*',\n",
    "    'TGC':'C', 'TGT':'C', 'TGA':'*', 'TGG':'W'}"
   ]
  },
  {
   "cell_type": "markdown",
   "metadata": {},
   "source": [
    "# From ARAPORT<br> \n",
    "![](./pic_170830/gai_cds.PNG)"
   ]
  },
  {
   "cell_type": "markdown",
   "metadata": {},
   "source": [
    "# From NCBI<br>\n",
    "![](./pic_170830/ncbi_della_cds.PNG)\n",
    "![](./pic_170830/ncbi_della_cds_loc.PNG)\n"
   ]
  },
  {
   "cell_type": "code",
   "execution_count": 2,
   "metadata": {},
   "outputs": [],
   "source": [
    "mRNA_gai = '''CTAAACTCTAAAGTAATACTAACTTTAGAAAATATTAATCTGTAAAAAGCTATATATTCCCTAATATATT\n",
    "AGTTTATTAATTTCAATATATTCCCTAATTACAAATTTTGGTGTGTGTGTGATTTTCAGCCTTATCTCTT\n",
    "TGAGCTGTAGATGTTGCTGTTAGCCCTCTGATCCATGATTCATCGGACATCGAGCCCCATCACGAGCCTT\n",
    "TTTATTCTCAACAATAATAATCATTTTTTTTCTTATAACCTTCCTCTCTATTTTTACAATTTATTTTGTT\n",
    "ATTAGAAGTGGTAGTGGAGTGAAAAAACAAATCCTAAGCAGTCCTAACCGATCCCCGAAGCTAAAGATTC\n",
    "TTCACCTTCCCAAATAAAGCAAAACCTAGATCCGACATTGAAGGAAAAACCTTTTAGATCCATCTCTGAA\n",
    "AAAAAACCAACCATGAAGAGAGATCATCATCATCATCATCATCAAGATAAGAAGACTATGATGATGAATG\n",
    "AAGAAGACGACGGTAACGGCATGGATGAGCTTCTAGCTGTTCTTGGTTACAAGGTTAGGTCATCCGAAAT\n",
    "GGCTGATGTTGCTCAGAAACTCGAGCAGCTTGAAGTTATGATGTCTAATGTTCAAGAAGACGATCTTTCT\n",
    "CAACTCGCTACTGAGACTGTTCACTATAATCCGGCGGAGCTTTACACGTGGCTTGATTCTATGCTCACCG\n",
    "ACCTTAATCCTCCGTCGTCTAACGCCGAGTACGATCTTAAAGCTATTCCCGGTGACGCGATTCTCAATCA\n",
    "GTTCGCTATCGATTCGGCTTCTTCGTCTAACCAAGGCGGCGGAGGAGATACGTATACTACAAACAAGCGG\n",
    "TTGAAATGCTCAAACGGCGTCGTGGAAACCACTACAGCGACGGCTGAGTCAACTCGGCATGTTGTCCTGG\n",
    "TTGACTCGCAGGAGAACGGTGTGCGTCTCGTTCACGCGCTTTTGGCTTGCGCTGAAGCTGTTCAGAAAGA\n",
    "GAATCTGACTGTAGCGGAAGCTCTGGTGAAGCAAATCGGATTCTTAGCCGTTTCTCAAATCGGAGCGATG\n",
    "AGAAAAGTCGCTACTTACTTCGCCGAAGCTCTCGCGCGGCGGATTTACCGTCTCTCTCCGTCGCAGAGTC\n",
    "CAATCGACCACTCTCTCTCCGATACTCTTCAGATGCACTTCTACGAGACTTGTCCTTATCTCAAGTTCGC\n",
    "TCACTTCACGGCGAATCAAGCGATTCTCGAAGCTTTTCAAGGGAAGAAAAGAGTTCATGTCATTGATTTC\n",
    "TCTATGAGTCAAGGTCTTCAATGGCCGGCGCTTATGCAGGCTCTTGCGCTTCGACCTGGTGGTCCTCCTG\n",
    "TTTTCCGGTTAACCGGAATTGGTCCACCGGCACCGGATAATTTCGATTATCTTCATGAAGTTGGGTGTAA\n",
    "GCTGGCTCATTTAGCTGAGGCGATTCACGTTGAGTTTGAGTACAGAGGATTTGTGGCTAACACTTTAGCT\n",
    "GATCTTGATGCTTCGATGCTTGAGCTTAGACCAAGTGAGATTGAATCTGTTGCGGTTAACTCTGTTTTCG\n",
    "AGCTTCACAAGCTCTTGGGACGACCTGGTGCGATCGATAAGGTTCTTGGTGTGGTGAATCAGATTAAACC\n",
    "GGAGATTTTCACTGTGGTTGAGCAGGAATCGAACCATAATAGTCCGATTTTCTTAGATCGGTTTACTGAG\n",
    "TCGTTGCATTATTACTCGACGTTGTTTGACTCGTTGGAAGGTGTACCGAGTGGTCAAGACAAGGTCATGT\n",
    "CGGAGGTTTACTTGGGTAAACAGATCTGCAACGTTGTGGCTTGTGATGGACCTGACCGAGTTGAGCGTCA\n",
    "TGAAACGTTGAGTCAGTGGAGGAACCGGTTCGGGTCTGCTGGGTTTGCGGCTGCACATATTGGTTCGAAT\n",
    "GCGTTTAAGCAAGCGAGTATGCTTTTGGCTCTGTTCAACGGCGGTGAGGGTTATCGGGTGGAGGAGAGTG\n",
    "ACGGCTGTCTCATGTTGGGTTGGCACACACGACCGCTCATAGCCACCTCGGCTTGGAAACTCTCCACCAA\n",
    "TTAGATGGTGGCTCAATGAATTGATCTGTTGAACCGGTTATGATGATAGATTTCCGACCGAAGCCAAACT\n",
    "AAATCCTACTGTTTTTCCCTTTGTCACTTGTTAAGATCTTATCTTTCATTATATTAGGTAATTGAAAAAT\n",
    "TTTAATCTCGCTTTGGAGAGTTTTTTTTTTTTGCATGTGACATTGGAGGGTAAATTGGATAGGCAGAAAT\n",
    "AGAAGTATGTGTTACCAAGTATGTGCAATTGGTTGAAATAAAATCATCTTGAGTGTCACCATCTATAAAA\n",
    "TTCATTGTAATGACTAATGAGCCTGATTAAACTGTCTCTTATGATAATGTGCTGATTCTCATGAATATGC\n",
    "TCTTTTAATGTGCATGGTATTATAGGTGGACCAGATTATTTTAACAATGCTAAG'''.replace('\\n','')"
   ]
  },
  {
   "cell_type": "code",
   "execution_count": 4,
   "metadata": {},
   "outputs": [
    {
     "data": {
      "text/plain": [
       "'ATGAAGAGAGATCATCATCATCATCATCATCAAGATAAGAAGACTATGATGATGAATGAAGAAGACGACGGTAACGGCATGGATGAGCTTCTAGCTGTTCTTGGTTACAAGGTTAGGTCATCCGAAATGGCTGATGTTGCTCAGAAACTCGAGCAGCTTGAAGTTATGATGTCTAATGTTCAAGAAGACGATCTTTCTCAACTCGCTACTGAGACTGTTCACTATAATCCGGCGGAGCTTTACACGTGGCTTGATTCTATGCTCACCGACCTTAATCCTCCGTCGTCTAACGCCGAGTACGATCTTAAAGCTATTCCCGGTGACGCGATTCTCAATCAGTTCGCTATCGATTCGGCTTCTTCGTCTAACCAAGGCGGCGGAGGAGATACGTATACTACAAACAAGCGGTTGAAATGCTCAAACGGCGTCGTGGAAACCACTACAGCGACGGCTGAGTCAACTCGGCATGTTGTCCTGGTTGACTCGCAGGAGAACGGTGTGCGTCTCGTTCACGCGCTTTTGGCTTGCGCTGAAGCTGTTCAGAAAGAGAATCTGACTGTAGCGGAAGCTCTGGTGAAGCAAATCGGATTCTTAGCCGTTTCTCAAATCGGAGCGATGAGAAAAGTCGCTACTTACTTCGCCGAAGCTCTCGCGCGGCGGATTTACCGTCTCTCTCCGTCGCAGAGTCCAATCGACCACTCTCTCTCCGATACTCTTCAGATGCACTTCTACGAGACTTGTCCTTATCTCAAGTTCGCTCACTTCACGGCGAATCAAGCGATTCTCGAAGCTTTTCAAGGGAAGAAAAGAGTTCATGTCATTGATTTCTCTATGAGTCAAGGTCTTCAATGGCCGGCGCTTATGCAGGCTCTTGCGCTTCGACCTGGTGGTCCTCCTGTTTTCCGGTTAACCGGAATTGGTCCACCGGCACCGGATAATTTCGATTATCTTCATGAAGTTGGGTGTAAGCTGGCTCATTTAGCTGAGGCGATTCACGTTGAGTTTGAGTACAGAGGATTTGTGGCTAACACTTTAGCTGATCTTGATGCTTCGATGCTTGAGCTTAGACCAAGTGAGATTGAATCTGTTGCGGTTAACTCTGTTTTCGAGCTTCACAAGCTCTTGGGACGACCTGGTGCGATCGATAAGGTTCTTGGTGTGGTGAATCAGATTAAACCGGAGATTTTCACTGTGGTTGAGCAGGAATCGAACCATAATAGTCCGATTTTCTTAGATCGGTTTACTGAGTCGTTGCATTATTACTCGACGTTGTTTGACTCGTTGGAAGGTGTACCGAGTGGTCAAGACAAGGTCATGTCGGAGGTTTACTTGGGTAAACAGATCTGCAACGTTGTGGCTTGTGATGGACCTGACCGAGTTGAGCGTCATGAAACGTTGAGTCAGTGGAGGAACCGGTTCGGGTCTGCTGGGTTTGCGGCTGCACATATTGGTTCGAATGCGTTTAAGCAAGCGAGTATGCTTTTGGCTCTGTTCAACGGCGGTGAGGGTTATCGGGTGGAGGAGAGTGACGGCTGTCTCATGTTGGGTTGGCACACACGACCGCTCATAGCCACCTCGGCTTGGAAACTCTCCACCAATTAG'"
      ]
     },
     "execution_count": 4,
     "metadata": {},
     "output_type": "execute_result"
    }
   ],
   "source": [
    "mRNA_gai[432:2034]"
   ]
  },
  {
   "cell_type": "code",
   "execution_count": 5,
   "metadata": {},
   "outputs": [],
   "source": [
    "cds_gai = mRNA_gai[432:2034]"
   ]
  },
  {
   "cell_type": "markdown",
   "metadata": {},
   "source": [
    "![](./pic_170830/string_index.PNG)"
   ]
  },
  {
   "cell_type": "code",
   "execution_count": 6,
   "metadata": {
    "collapsed": true
   },
   "outputs": [],
   "source": [
    "pep_gai = ''\n",
    "for i in range(len(cds_gai)/3):\n",
    "    pep_gai += gencode[cds_gai[i*3:(i+1)*3].upper()]"
   ]
  },
  {
   "cell_type": "code",
   "execution_count": 7,
   "metadata": {},
   "outputs": [
    {
     "data": {
      "text/plain": [
       "'MKRDHHHHHHQDKKTMMMNEEDDGNGMDELLAVLGYKVRSSEMADVAQKLEQLEVMMSNVQEDDLSQLATETVHYNPAELYTWLDSMLTDLNPPSSNAEYDLKAIPGDAILNQFAIDSASSSNQGGGGDTYTTNKRLKCSNGVVETTTATAESTRHVVLVDSQENGVRLVHALLACAEAVQKENLTVAEALVKQIGFLAVSQIGAMRKVATYFAEALARRIYRLSPSQSPIDHSLSDTLQMHFYETCPYLKFAHFTANQAILEAFQGKKRVHVIDFSMSQGLQWPALMQALALRPGGPPVFRLTGIGPPAPDNFDYLHEVGCKLAHLAEAIHVEFEYRGFVANTLADLDASMLELRPSEIESVAVNSVFELHKLLGRPGAIDKVLGVVNQIKPEIFTVVEQESNHNSPIFLDRFTESLHYYSTLFDSLEGVPSGQDKVMSEVYLGKQICNVVACDGPDRVERHETLSQWRNRFGSAGFAAAHIGSNAFKQASMLLALFNGGEGYRVEESDGCLMLGWHTRPLIATSAWKLSTN*'"
      ]
     },
     "execution_count": 7,
     "metadata": {},
     "output_type": "execute_result"
    }
   ],
   "source": [
    "pep_gai"
   ]
  },
  {
   "cell_type": "markdown",
   "metadata": {},
   "source": [
    "실습 4 : DELLA est dictionary 로 DELLA protein dictionary 로 만들어보자 key : DELLA est의 이름, value : protein sequence"
   ]
  },
  {
   "cell_type": "code",
   "execution_count": 10,
   "metadata": {
    "collapsed": true
   },
   "outputs": [],
   "source": [
    "def translation(precds,start):\n",
    "    pep = ''\n",
    "    cds = precds[start:]\n",
    "    for i in range(len(cds)/3):\n",
    "        pep += gencode[cds[i*3:(i+1)*3].upper()]\n",
    "    return pep"
   ]
  },
  {
   "cell_type": "code",
   "execution_count": 29,
   "metadata": {
    "collapsed": true
   },
   "outputs": [],
   "source": [
    "test_est = '''TTTAATCTAATGCAAGGCTTGGATTAGAGCCGGCCATTGCAAGCCTTGCATTAGATTAAAGTCAACGACA\n",
    "TGGACGCAATCGTGGCCCTGAAAGGCTTCCAATATCGCCTGGTTGGCCGTGAAATGAGCAAATTTTAAGT\n",
    "AAGGAGCCGCTTCGTAGAAATGATGATACAGAATCTCATCCTCAGATGCCCAGCAGCTCATGAAGCTGGC\n",
    "GGCTCCTGGAGGCACCGCCGTGAATATCCGGCGGCTCAGGGCGTCGATGAAATAGCCAGCCACTTTTCCA\n",
    "ATACCACATGCAGTGTTGACACGTGTAAGCAGCGCCTGTAAATCTGCTATCAAGGAACCAGCCAACGGGA\n",
    "GGTTGCCACACTGGACAGACTCCGCACAGCTAATCAACACGTGGACTAACTGAATGCTGGAATCTTCCTG\n",
    "GTCCATTTGGTGCAAGACATGGGATAGAGCCTCCTGGGGCTGCTGATTCTCGCTCTCGTTCCCGTTCCCG\n",
    "TTCCGAGGAGGCGGCGGCGCATGGAATTCAGACGGAGACCACCCGGTGGATTCATAATTACCAGGACACG\n",
    "GCGGGAGACCTGAAGATGATGCTGATGAACCGGGTTGGAGTTGGTGGAGCTCCGACAGCAAATTGTCGAC\n",
    "CCATGAAGAGAGGTCAGAGGGATTGTAGTGCACGACGTCGTTGCA\n",
    "'''.replace('\\n','')"
   ]
  },
  {
   "cell_type": "code",
   "execution_count": 35,
   "metadata": {},
   "outputs": [
    {
     "data": {
      "text/plain": [
       "'MKRDHHHHHHQDKKTMMMNEEDDGNGMDELLAVLGYKVRSSEMADVAQKLEQLEVMMSNVQEDDLSQLATETVHYNPAELYTWLDSMLTDLNPPSSNAEYDLKAIPGDAILNQFAIDSASSSNQGGGGDTYTTNKRLKCSNGVVETTTATAESTRHVVLVDSQENGVRLVHALLACAEAVQKENLTVAEALVKQIGFLAVSQIGAMRKVATYFAEALARRIYRLSPSQSPIDHSLSDTLQMHFYETCPYLKFAHFTANQAILEAFQGKKRVHVIDFSMSQGLQWPALMQALALRPGGPPVFRLTGIGPPAPDNFDYLHEVGCKLAHLAEAIHVEFEYRGFVANTLADLDASMLELRPSEIESVAVNSVFELHKLLGRPGAIDKVLGVVNQIKPEIFTVVEQESNHNSPIFLDRFTESLHYYSTLFDSLEGVPSGQDKVMSEVYLGKQICNVVACDGPDRVERHETLSQWRNRFGSAGFAAAHIGSNAFKQASMLLALFNGGEGYRVEESDGCLMLGWHTRPLIATSAWKLSTN*'"
      ]
     },
     "execution_count": 35,
     "metadata": {},
     "output_type": "execute_result"
    }
   ],
   "source": [
    "translation(cds_gai.upper(),0)"
   ]
  },
  {
   "cell_type": "code",
   "execution_count": 31,
   "metadata": {},
   "outputs": [
    {
     "data": {
      "text/plain": [
       "'LI*CKAWIRAGHCKPCIRLKSTTWTQSWP*KASNIAWLAVK*ANFK*GAAS*K**YRISSSDAQQLMKLAAPGGTAVNIRRLRASMK*PATFPIPHAVLTRVSSACKSAIKEPANGRLPHWTDSAQLINTWTN*MLESSWSIWCKTWDRASWGC*FSLSFPFPFRGGGGAWNSDGDHPVDS*LPGHGGRPEDDADEPGWSWWSSDSKLSTHEERSEGL*CTTSL'"
      ]
     },
     "execution_count": 31,
     "metadata": {},
     "output_type": "execute_result"
    }
   ],
   "source": [
    "translation(test_est,1)"
   ]
  },
  {
   "cell_type": "code",
   "execution_count": 32,
   "metadata": {},
   "outputs": [
    {
     "data": {
      "text/plain": [
       "'*SNARLGLEPAIASLALD*SQRHGRNRGPERLPISPGWP*NEQILSKEPLRRNDDTESHPQMPSSS*SWRLLEAPP*ISGGSGRR*NSQPLFQYHMQC*HV*AAPVNLLSRNQPTGGCHTGQTPHS*STRGLTECWNLPGPFGARHGIEPPGAADSRSRSRSRSEEAAAHGIQTETTRWIHNYQDTAGDLKMMLMNRVGVGGAPTANCRPMKRGQRDCSARRRC'"
      ]
     },
     "execution_count": 32,
     "metadata": {},
     "output_type": "execute_result"
    }
   ],
   "source": [
    "translation(test_est,2)"
   ]
  },
  {
   "cell_type": "markdown",
   "metadata": {},
   "source": [
    "---\n",
    "ftp://ftp.ncbi.nih.gov/pub/CCDS/current_human/\n",
    "\n",
    "실습 : 윗 링크에서 CCDS_nucleotide.current.fna.gz 를 다운 받고, **열고**, **읽어서** key는 유전자 이름, value는 염기서열인 dictionary를 dicName2CDS 변수명에 할당하고, 이를 이용하여 key는 유전자이름, value는 단백질 서열인 dictionary를 dicName2Protein 이라는 변수명에 할당해 보자.\n",
    "\n",
    "---"
   ]
  },
  {
   "cell_type": "markdown",
   "metadata": {},
   "source": [
    "## 다양한 정보를 저장할 수 있는 dictionary를 만들어보자 "
   ]
  },
  {
   "cell_type": "code",
   "execution_count": 7,
   "metadata": {
    "collapsed": true
   },
   "outputs": [],
   "source": [
    "dic = {'genename'   : [],\n",
    "       'seq'         : [],\n",
    "       'length (bp)' : []\n",
    "      }"
   ]
  },
  {
   "cell_type": "code",
   "execution_count": 1,
   "metadata": {
    "collapsed": true
   },
   "outputs": [],
   "source": [
    "f  = open('./file_170830/sequence.fasta')\n",
    "fr = f.read()"
   ]
  },
  {
   "cell_type": "code",
   "execution_count": 3,
   "metadata": {},
   "outputs": [],
   "source": [
    "dicName2seq = {} \n",
    "for einfo in fr.split('>')[1:]:\n",
    "    name = einfo.split('\\n')[0].split()[0]\n",
    "    seq  = ''.join(einfo.split('\\n')[1:])\n",
    "    dicName2seq[name] = seq"
   ]
  },
  {
   "cell_type": "code",
   "execution_count": 8,
   "metadata": {},
   "outputs": [],
   "source": [
    "for name in dicName2seq:\n",
    "    dic['genename'].append(name)\n",
    "    dic['seq'].append(dicName2seq[name])\n",
    "    dic['length (bp)'].append(len(dicName2seq[name]))"
   ]
  },
  {
   "cell_type": "code",
   "execution_count": 10,
   "metadata": {},
   "outputs": [],
   "source": [
    "import pandas as pd \n",
    "df = pd.DataFrame(dic)"
   ]
  },
  {
   "cell_type": "code",
   "execution_count": 11,
   "metadata": {},
   "outputs": [
    {
     "data": {
      "text/html": [
       "<div>\n",
       "<style>\n",
       "    .dataframe thead tr:only-child th {\n",
       "        text-align: right;\n",
       "    }\n",
       "\n",
       "    .dataframe thead th {\n",
       "        text-align: left;\n",
       "    }\n",
       "\n",
       "    .dataframe tbody tr th {\n",
       "        vertical-align: top;\n",
       "    }\n",
       "</style>\n",
       "<table border=\"1\" class=\"dataframe\">\n",
       "  <thead>\n",
       "    <tr style=\"text-align: right;\">\n",
       "      <th></th>\n",
       "      <th>genename</th>\n",
       "      <th>length (bp)</th>\n",
       "      <th>seq</th>\n",
       "    </tr>\n",
       "  </thead>\n",
       "  <tbody>\n",
       "    <tr>\n",
       "      <th>0</th>\n",
       "      <td>AF451165.1</td>\n",
       "      <td>432</td>\n",
       "      <td>TGAAATTTACCAGATTACACTGGGTTAAGAATGTGAAAACGCTGCC...</td>\n",
       "    </tr>\n",
       "    <tr>\n",
       "      <th>1</th>\n",
       "      <td>GW430489.1</td>\n",
       "      <td>356</td>\n",
       "      <td>TGACTAATTGAATTTGAACTCGTCTCAAAGTTTATACAGCTTCCTG...</td>\n",
       "    </tr>\n",
       "    <tr>\n",
       "      <th>2</th>\n",
       "      <td>GW470959.1</td>\n",
       "      <td>685</td>\n",
       "      <td>AATTGCATCAGCTTTTATCTAGGCCAGGGGCTATTGAAAAAGTCTT...</td>\n",
       "    </tr>\n",
       "    <tr>\n",
       "      <th>3</th>\n",
       "      <td>EH368340.1</td>\n",
       "      <td>517</td>\n",
       "      <td>GCAGGAGTTTTAGGCTTTGTGGGAGCAGCAGCTGGTGGTGTAGTAG...</td>\n",
       "    </tr>\n",
       "    <tr>\n",
       "      <th>4</th>\n",
       "      <td>AF451177.1</td>\n",
       "      <td>1097</td>\n",
       "      <td>GTTGCAGCTTCCTAGAGTTCTTTTTAAGAACAAACTATGGTTATTT...</td>\n",
       "    </tr>\n",
       "  </tbody>\n",
       "</table>\n",
       "</div>"
      ],
      "text/plain": [
       "     genename  length (bp)                                                seq\n",
       "0  AF451165.1          432  TGAAATTTACCAGATTACACTGGGTTAAGAATGTGAAAACGCTGCC...\n",
       "1  GW430489.1          356  TGACTAATTGAATTTGAACTCGTCTCAAAGTTTATACAGCTTCCTG...\n",
       "2  GW470959.1          685  AATTGCATCAGCTTTTATCTAGGCCAGGGGCTATTGAAAAAGTCTT...\n",
       "3  EH368340.1          517  GCAGGAGTTTTAGGCTTTGTGGGAGCAGCAGCTGGTGGTGTAGTAG...\n",
       "4  AF451177.1         1097  GTTGCAGCTTCCTAGAGTTCTTTTTAAGAACAAACTATGGTTATTT..."
      ]
     },
     "execution_count": 11,
     "metadata": {},
     "output_type": "execute_result"
    }
   ],
   "source": [
    "df.head()"
   ]
  },
  {
   "cell_type": "code",
   "execution_count": 13,
   "metadata": {},
   "outputs": [],
   "source": [
    "df.to_excel('della.xlsx')"
   ]
  }
 ],
 "metadata": {
  "kernelspec": {
   "display_name": "Python 3",
   "language": "python",
   "name": "python3"
  },
  "language_info": {
   "codemirror_mode": {
    "name": "ipython",
    "version": 3
   },
   "file_extension": ".py",
   "mimetype": "text/x-python",
   "name": "python",
   "nbconvert_exporter": "python",
   "pygments_lexer": "ipython3",
   "version": "3.5.2"
  }
 },
 "nbformat": 4,
 "nbformat_minor": 2
}
