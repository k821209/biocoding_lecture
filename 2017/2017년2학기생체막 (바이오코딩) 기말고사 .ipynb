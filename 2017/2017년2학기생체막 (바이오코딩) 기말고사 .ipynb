{
 "cells": [
  {
   "cell_type": "markdown",
   "metadata": {},
   "source": [
    "# 한학기동안 수고 많으셨습니다. \n",
    "* 각 1점씩, 5번문제는 보너스 포인트 까지 2점 \n"
   ]
  },
  {
   "cell_type": "markdown",
   "metadata": {},
   "source": [
    "## 1. Pandas Dataframe 및 numpy을 이용하여 다음 데이터를 준비하자 \n",
    "* RNAseq data (RNAseq_result.xlsx) 를 불러와서 각 유전자의 발현값들을 서로 비교할 수 있게 zscore로 바꾼다. (변수명 : zscore_mat)\n",
    "* WT 3반복의 평균, Treat 6반복의 평균을 구한다. (변수명 : WT_mean, Treat_mean)\n",
    "* WT 3반복의 평균, Treat 6반복의 평균을 서로 뺀 값을 구한다. (변수명 : diff) "
   ]
  },
  {
   "cell_type": "markdown",
   "metadata": {},
   "source": [
    "## 2. 1번문제에서 작성한 WT 3반복의 평균, Treat 6반복의 평균을 서로 뺀 값 (diff) 의 histogram을 그려보자 .\n",
    "* -3 에서 4까지 0.5간격으로 bin을 설정한다. \n",
    "* x 축의 이름은 \"diff\" 로 설정한다.\n",
    "* y 축의 이름은 \"count\" 로 설정한다. \n",
    "* histogram 의 타이틀은 \"diff histrogram\" 으로 설정한다."
   ]
  },
  {
   "cell_type": "markdown",
   "metadata": {},
   "source": [
    "## 3. WT_mean 이 Treat_mean보다 큰 유전자들, Treat_mean 이 WT_mean 보다 큰 유전자들의 전체 발현패턴 (WT 3반복, Treat 6반복)을 하나의 Heatmap 으로 나타내보자. \n",
    "* WT이 더 큰 경우 : diff > 0\n",
    "* Treat가 더 큰경우 : diff < 0\n",
    "* WT 반복간, Treat 반복간 발현이 안정적인것을 고른다. (standard deviation < 0.5)  \n",
    "* 발현값으로 zscore_mat을 사용한다. "
   ]
  },
  {
   "cell_type": "markdown",
   "metadata": {},
   "source": [
    "## 4. WT_mean 이 Treat_mean보다 큰 유전자들, Treat_mean 이 WT_mean 보다 큰 유전자들의 전체 발현패턴 (WT 3반복, Treat 6반복)을 두개의 꺽은선그래프 (plt.plot) 으로 나타내보자.\n",
    "* WT이 더 큰 경우 : diff > 0\n",
    "* Treat가 더 큰경우 : diff < 0\n",
    "* WT 반복간, Treat 반복간 발현이 안정적인것을 고른다. (standard deviation < 0.5)  \n",
    "* 발현값으로 zscore_mat을 사용한다. "
   ]
  },
  {
   "cell_type": "markdown",
   "metadata": {},
   "source": [
    "## 5. WT_mean 이 Treat_mean보다 큰 유전자들 (group A)에 대해, zscore가 아닌 원래 expression 값을 사용하여 WT 평균, Treat 평균을 다시 계산하고 이를 X축 Y축으로 Scatter plot을 그려보자. 동일한 plot안에 Treat_mean 이 WT_mean 보다 큰 유전자들 (group B)에 대해서도 같은 방식으로 scatter plot을 그려보자\n",
    "* 발현값으로 zscore_mat가 아닌 zscore변경 이전의 원래 값을 사용한다. \n",
    "* 총 하나의 scatter plot이 나옴\n",
    "* group A와 group B에 대해서 서로 다른 색의 점들이 찍혀있어야함.\n",
    "* x축의 이름은 WT_raw_mean, y축의 이름은 Treat_raw_mean \n",
    "* title은 없음 \n",
    "* 각 그룹에 대해 legend 를 달면 +1 점 "
   ]
  },
  {
   "cell_type": "code",
   "execution_count": null,
   "metadata": {
    "collapsed": true
   },
   "outputs": [],
   "source": []
  }
 ],
 "metadata": {
  "kernelspec": {
   "display_name": "Python 3",
   "language": "python",
   "name": "python3"
  },
  "language_info": {
   "codemirror_mode": {
    "name": "ipython",
    "version": 3
   },
   "file_extension": ".py",
   "mimetype": "text/x-python",
   "name": "python",
   "nbconvert_exporter": "python",
   "pygments_lexer": "ipython3",
   "version": "3.4.3"
  }
 },
 "nbformat": 4,
 "nbformat_minor": 2
}
