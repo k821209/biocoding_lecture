{
 "cells": [
  {
   "cell_type": "code",
   "execution_count": null,
   "metadata": {
    "collapsed": true
   },
   "outputs": [],
   "source": [
    "# 이름 : \n",
    "# 학번 :"
   ]
  },
  {
   "cell_type": "markdown",
   "metadata": {},
   "source": [
    "**1. Araport에서 NTRC 유전자의 서열 (길이 : 2905 bp)을 가져와서 \"ttaa\" recognition site로 잘리는 조각을 list로 나타내보자**"
   ]
  },
  {
   "cell_type": "code",
   "execution_count": 3,
   "metadata": {
    "collapsed": true
   },
   "outputs": [],
   "source": [
    "#코드"
   ]
  },
  {
   "cell_type": "markdown",
   "metadata": {},
   "source": [
    "**2. Araport 에서 유전자 AP2, MYB83, bZIP 유전자의 gene sequence 딕셔너리를 만들어보자.**"
   ]
  },
  {
   "cell_type": "code",
   "execution_count": 4,
   "metadata": {
    "collapsed": true
   },
   "outputs": [],
   "source": [
    "#코드 "
   ]
  },
  {
   "cell_type": "markdown",
   "metadata": {},
   "source": [
    "**3. Araport 에서 유전자 AP2, MYB83, bZIP 유전자의 gene length 딕셔너리를 만들어보자.**"
   ]
  },
  {
   "cell_type": "code",
   "execution_count": 5,
   "metadata": {
    "collapsed": true
   },
   "outputs": [],
   "source": [
    "#코드"
   ]
  },
  {
   "cell_type": "markdown",
   "metadata": {},
   "source": [
    "**4. NCBI 에서 DELLA 유전자의 EST (expression sequence tag) 를 다운 받고 sequence.fasta 에 저장한 다음, 파일을 읽고 key는 DELLA est의 이름, value는 염기서열로 dictionary를 만들어보자. **"
   ]
  },
  {
   "cell_type": "code",
   "execution_count": 6,
   "metadata": {
    "collapsed": true
   },
   "outputs": [],
   "source": [
    "#코드"
   ]
  },
  {
   "cell_type": "markdown",
   "metadata": {},
   "source": [
    "**5. Araport에서 GAI 유전자의 Coding sequence (CDS) 를 가져와서 변수에 넣은다음, protein서열로 변경해보자. **"
   ]
  },
  {
   "cell_type": "code",
   "execution_count": 7,
   "metadata": {
    "collapsed": true
   },
   "outputs": [],
   "source": [
    "#코드"
   ]
  },
  {
   "cell_type": "markdown",
   "metadata": {},
   "source": [
    "** 6. ftp://ftp.ncbi.nih.gov/pub/CCDS/current_human/\n",
    " 에서 CCDS_nucleotide.current.fna.gz 은 인간유전자의 coding sequence들을 모아놓은 파일이다. \n",
    "  이를 다운 받고, 압축을 푼 다음, 파일을 읽어서 key는 유전자 이름, value는 염기서열인 dictionary를 dicName2CDS 변수명에 할당하고, 이를 이용하여 key는 유전자이름, value는 단백질 서열인 dictionary를 dicName2Protein 이라는 변수명에 할당해 보자. ** * 예전에 다운 받아놓았던 CCDS_nucleotide.current.fna.gz 파일을 사용해도 무방함 *"
   ]
  },
  {
   "cell_type": "code",
   "execution_count": 8,
   "metadata": {
    "collapsed": true
   },
   "outputs": [],
   "source": [
    "#코드"
   ]
  },
  {
   "cell_type": "markdown",
   "metadata": {},
   "source": [
    "**7. 6번 문제에서 만든 dicName2CDS, dicName2Protein 을 활용하여 header가 유전자이름, CDS서열, Protein서열, CDS길이, Protein길이 로 \n",
    "   구성되어있는 pandas dataframe을 만들어보자**"
   ]
  },
  {
   "cell_type": "code",
   "execution_count": 10,
   "metadata": {
    "collapsed": true
   },
   "outputs": [],
   "source": [
    "# 코드 "
   ]
  },
  {
   "cell_type": "markdown",
   "metadata": {},
   "source": [
    "** 8. 인간유전자의 coding sequence 중  CCDS834.1|Hs108|chr1 는 BamHI 제한효소를 처리하면 몇조각으로 잘릴것이라 예상되는가? BamHI 의 recognition site는 ggatcc 이다. **"
   ]
  },
  {
   "cell_type": "code",
   "execution_count": 11,
   "metadata": {
    "collapsed": true
   },
   "outputs": [],
   "source": [
    "# 코드"
   ]
  }
 ],
 "metadata": {
  "kernelspec": {
   "display_name": "Python [default]",
   "language": "python",
   "name": "python2"
  },
  "language_info": {
   "codemirror_mode": {
    "name": "ipython",
    "version": 2
   },
   "file_extension": ".py",
   "mimetype": "text/x-python",
   "name": "python",
   "nbconvert_exporter": "python",
   "pygments_lexer": "ipython2",
   "version": "2.7.13"
  }
 },
 "nbformat": 4,
 "nbformat_minor": 2
}
