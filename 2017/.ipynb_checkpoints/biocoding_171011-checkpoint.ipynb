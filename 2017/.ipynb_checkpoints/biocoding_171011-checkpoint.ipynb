{
 "cells": [
  {
   "cell_type": "markdown",
   "metadata": {},
   "source": [
    "# Biocoding season 2 \n",
    "\n",
    "## python으로 시각화 \n",
    "\n",
    "### Species, 종의 분화  \n",
    "\n",
    "![](http://ctlsites.uga.edu/anth1102/wp-content/uploads/sites/110/2015/09/blog-post-2.jpg)\n",
    "\n",
    "---\n",
    "\n",
    "![](http://www.nature.com/scitable/content/ne0000/ne0000/ne0000/ne0000/96688710/1_2.jpg)\n",
    "\n",
    "---\n",
    "\n",
    "![](https://iiif.elifesciences.org/lax:24232/elife-24232-fig10-v1.tif/full/1500,/0/default.jpg)\n",
    "\n",
    "---\n",
    "\n",
    "![](http://cdn.thinglink.me/api/image/837111055288107009/1240/10/scaletowidth)\n",
    "\n",
    "---\n",
    "\n",
    "![](https://s-media-cache-ak0.pinimg.com/originals/cd/a5/d8/cda5d83f929aa73f81f3ccb50a15dea3.jpg)\n",
    "\n",
    "종을 구분하기 위해서는 어떤 특징 (feature)를 추출 해야할까?  \n",
    "\n",
    "## [붓꽃 데이터](https://en.wikipedia.org/wiki/Iris_flower_data_set)\n",
    "\n",
    "![](https://upload.wikimedia.org/wikipedia/commons/thumb/5/56/Kosaciec_szczecinkowaty_Iris_setosa.jpg/330px-Kosaciec_szczecinkowaty_Iris_setosa.jpg)\n",
    "<center>*Iris setosa*</center>\n",
    "![](https://upload.wikimedia.org/wikipedia/commons/thumb/4/41/Iris_versicolor_3.jpg/330px-Iris_versicolor_3.jpg)\n",
    "<center>*Iris versicolor*</center>\n",
    "![](https://upload.wikimedia.org/wikipedia/commons/thumb/9/9f/Iris_virginica.jpg/330px-Iris_virginica.jpg)\n",
    "<center>*Iris virginica*</center>\n",
    "\n",
    "![](./file_171011/sepal_petal.PNG)\n",
    "\n"
   ]
  },
  {
   "cell_type": "code",
   "execution_count": 1,
   "metadata": {
    "collapsed": true
   },
   "outputs": [],
   "source": [
    "import pandas as pd "
   ]
  },
  {
   "cell_type": "code",
   "execution_count": 2,
   "metadata": {
    "collapsed": true
   },
   "outputs": [],
   "source": [
    "f     = open('./file_171011/iris.txt')\n",
    "lines = f.readlines()"
   ]
  },
  {
   "cell_type": "code",
   "execution_count": 3,
   "metadata": {},
   "outputs": [
    {
     "name": "stdout",
     "output_type": "stream",
     "text": [
      "Sepal length\tSepal width\tPetal length\tPetal width\tSpecies\n",
      "\n"
     ]
    }
   ],
   "source": [
    "print lines[0]"
   ]
  },
  {
   "cell_type": "code",
   "execution_count": 4,
   "metadata": {},
   "outputs": [
    {
     "name": "stdout",
     "output_type": "stream",
     "text": [
      "4.3\t3\t1.1\t0.1\tI.setosa\n",
      "\n"
     ]
    }
   ],
   "source": [
    "print lines[1]"
   ]
  },
  {
   "cell_type": "code",
   "execution_count": 5,
   "metadata": {},
   "outputs": [
    {
     "name": "stdout",
     "output_type": "stream",
     "text": [
      "['4.3', '3', '1.1', '0.1', 'I.setosa\\n']\n"
     ]
    }
   ],
   "source": [
    "print lines[1].split('\\t')"
   ]
  },
  {
   "cell_type": "code",
   "execution_count": 6,
   "metadata": {
    "collapsed": true
   },
   "outputs": [],
   "source": [
    "sepal_length_setosa     = []\n",
    "sepal_length_versicolor = []\n",
    "sepal_length_virginica  = []\n",
    "\n",
    "for line in lines[1:]:\n",
    "    cell = line.strip().split('\\t')\n",
    "    if cell[4] == 'I.setosa':\n",
    "        sepal_length_setosa.append(float(cell[0]))\n",
    "    elif cell[4] == 'I.versicolor':\n",
    "        sepal_length_versicolor.append(float(cell[0]))\n",
    "    else:\n",
    "        sepal_length_virginica.append(float(cell[0]))"
   ]
  },
  {
   "cell_type": "code",
   "execution_count": 7,
   "metadata": {},
   "outputs": [
    {
     "data": {
      "text/plain": [
       "(50, 50, 49)"
      ]
     },
     "execution_count": 7,
     "metadata": {},
     "output_type": "execute_result"
    }
   ],
   "source": [
    "len(sepal_length_setosa),len(sepal_length_versicolor),len(sepal_length_virginica)"
   ]
  },
  {
   "cell_type": "code",
   "execution_count": 8,
   "metadata": {
    "collapsed": true
   },
   "outputs": [],
   "source": [
    "%matplotlib inline "
   ]
  },
  {
   "cell_type": "code",
   "execution_count": 9,
   "metadata": {
    "collapsed": true
   },
   "outputs": [],
   "source": [
    "import matplotlib.pyplot as plt "
   ]
  },
  {
   "cell_type": "code",
   "execution_count": 10,
   "metadata": {},
   "outputs": [
    {
     "data": {
      "text/plain": [
       "(array([  4.,   1.,   6.,   5.,  12.,   8.,   4.,   5.,   2.,   3.]),\n",
       " array([ 4.3 ,  4.45,  4.6 ,  4.75,  4.9 ,  5.05,  5.2 ,  5.35,  5.5 ,\n",
       "         5.65,  5.8 ]),\n",
       " <a list of 10 Patch objects>)"
      ]
     },
     "execution_count": 10,
     "metadata": {},
     "output_type": "execute_result"
    },
    {
     "data": {
      "image/png": "[encoded data removed]",
      "text/plain": [
       "<matplotlib.figure.Figure at 0x7f7830b5fa50>"
      ]
     },
     "metadata": {},
     "output_type": "display_data"
    }
   ],
   "source": [
    "plt.hist(sepal_length_setosa)"
   ]
  },
  {
   "cell_type": "code",
   "execution_count": 11,
   "metadata": {},
   "outputs": [
    {
     "data": {
      "text/plain": [
       "(array([  1.,   0.,   5.,   5.,   8.,   9.,  10.,   5.,   1.,   5.]),\n",
       " array([ 4.9,  5.2,  5.5,  5.8,  6.1,  6.4,  6.7,  7. ,  7.3,  7.6,  7.9]),\n",
       " <a list of 10 Patch objects>)"
      ]
     },
     "execution_count": 11,
     "metadata": {},
     "output_type": "execute_result"
    },
    {
     "data": {
      "image/png": "[encoded data removed]",
      "text/plain": [
       "<matplotlib.figure.Figure at 0x7f782c1b5390>"
      ]
     },
     "metadata": {},
     "output_type": "display_data"
    }
   ],
   "source": [
    "plt.hist(sepal_length_setosa)\n",
    "plt.hist(sepal_length_versicolor)\n",
    "plt.hist(sepal_length_virginica)"
   ]
  },
  {
   "cell_type": "code",
   "execution_count": 12,
   "metadata": {},
   "outputs": [
    {
     "data": {
      "text/plain": [
       "(array([  1.,   0.,   5.,   5.,   8.,   9.,  10.,   5.,   1.,   5.]),\n",
       " array([ 4.9,  5.2,  5.5,  5.8,  6.1,  6.4,  6.7,  7. ,  7.3,  7.6,  7.9]),\n",
       " <a list of 10 Patch objects>)"
      ]
     },
     "execution_count": 12,
     "metadata": {},
     "output_type": "execute_result"
    },
    {
     "data": {
      "image/png": "[encoded data removed]",
      "text/plain": [
       "<matplotlib.figure.Figure at 0x7f782c06a190>"
      ]
     },
     "metadata": {},
     "output_type": "display_data"
    }
   ],
   "source": [
    "plt.hist(sepal_length_setosa,alpha=0.5)\n",
    "plt.hist(sepal_length_versicolor,alpha=0.5)\n",
    "plt.hist(sepal_length_virginica,alpha=0.5)"
   ]
  },
  {
   "cell_type": "code",
   "execution_count": 13,
   "metadata": {},
   "outputs": [
    {
     "data": {
      "text/plain": [
       "<matplotlib.text.Text at 0x7f782becd590>"
      ]
     },
     "execution_count": 13,
     "metadata": {},
     "output_type": "execute_result"
    },
    {
     "data": {
      "image/png": "[encoded data removed]",
      "text/plain": [
       "<matplotlib.figure.Figure at 0x7f782c1f98d0>"
      ]
     },
     "metadata": {},
     "output_type": "display_data"
    }
   ],
   "source": [
    "plt.hist(sepal_length_setosa,alpha=0.5)\n",
    "plt.hist(sepal_length_versicolor,alpha=0.5)\n",
    "plt.hist(sepal_length_virginica,alpha=0.5)\n",
    "plt.xlabel('Sepal length')\n",
    "plt.ylabel('Count')\n",
    "plt.title('histogram for sepal length')"
   ]
  },
  {
   "cell_type": "markdown",
   "metadata": {},
   "source": [
    "**실습**\n",
    "\n",
    "*1. sepal width에 대해서 각 종의 분포그래프를 그려보자.* "
   ]
  },
  {
   "cell_type": "code",
   "execution_count": 14,
   "metadata": {
    "collapsed": true
   },
   "outputs": [],
   "source": [
    "petal_length_setosa     = []\n",
    "petal_length_versicolor = []\n",
    "petal_length_virginica  = []\n",
    "\n",
    "petal_width_setosa     = []\n",
    "petal_width_versicolor = []\n",
    "petal_width_virginica  = []\n",
    "\n",
    "for line in lines[1:]:\n",
    "    cell = line.strip().split('\\t')\n",
    "    if cell[4] == 'I.setosa':\n",
    "        petal_length_setosa.append(float(cell[2]))\n",
    "        petal_width_setosa.append(float(cell[3]))\n",
    "    elif cell[4] == 'I.versicolor':\n",
    "        petal_length_versicolor.append(float(cell[2]))\n",
    "        petal_width_versicolor.append(float(cell[3]))\n",
    "    else:\n",
    "        petal_length_virginica.append(float(cell[2]))\n",
    "        petal_width_virginica.append(float(cell[3]))"
   ]
  },
  {
   "cell_type": "code",
   "execution_count": 15,
   "metadata": {},
   "outputs": [
    {
     "data": {
      "text/plain": [
       "<matplotlib.text.Text at 0x7f782bd33f10>"
      ]
     },
     "execution_count": 15,
     "metadata": {},
     "output_type": "execute_result"
    },
    {
     "data": {
      "image/png": "[encoded data removed]",
      "text/plain": [
       "<matplotlib.figure.Figure at 0x7f782be0b190>"
      ]
     },
     "metadata": {},
     "output_type": "display_data"
    }
   ],
   "source": [
    "plt.scatter(petal_length_setosa,petal_width_setosa)\n",
    "plt.scatter(petal_length_versicolor,petal_width_versicolor)\n",
    "plt.scatter(petal_length_virginica,petal_width_virginica)\n",
    "plt.xlabel('petal length')\n",
    "plt.ylabel('petal width')\n",
    "plt.title('scatter plot for petal sizes')"
   ]
  },
  {
   "cell_type": "code",
   "execution_count": 16,
   "metadata": {},
   "outputs": [
    {
     "data": {
      "text/plain": [
       "<matplotlib.legend.Legend at 0x7f782bd09550>"
      ]
     },
     "execution_count": 16,
     "metadata": {},
     "output_type": "execute_result"
    },
    {
     "data": {
      "image/png": "[encoded data removed]",
      "text/plain": [
       "<matplotlib.figure.Figure at 0x7f7830b5fa10>"
      ]
     },
     "metadata": {},
     "output_type": "display_data"
    }
   ],
   "source": [
    "plt.scatter(petal_length_setosa,petal_width_setosa,label='I.setosa')\n",
    "plt.scatter(petal_length_versicolor,petal_width_versicolor,label='I.versicolor')\n",
    "plt.scatter(petal_length_virginica,petal_width_virginica,label='I.virginica')\n",
    "plt.xlabel('petal length')\n",
    "plt.ylabel('petal width')\n",
    "plt.title('scatter plot for petal sizes')\n",
    "plt.legend()"
   ]
  },
  {
   "cell_type": "markdown",
   "metadata": {},
   "source": [
    "실습\n",
    "\n",
    "*2. scatter plot for sepal size (height, width)를 그려보자 *"
   ]
  },
  {
   "cell_type": "code",
   "execution_count": 66,
   "metadata": {},
   "outputs": [
    {
     "data": {
      "text/plain": [
       "(149, 5)"
      ]
     },
     "execution_count": 66,
     "metadata": {},
     "output_type": "execute_result"
    }
   ],
   "source": [
    "df = pd.read_csv('./file_171011/iris.txt',sep='\\t')\n",
    "df.shape"
   ]
  },
  {
   "cell_type": "code",
   "execution_count": 19,
   "metadata": {},
   "outputs": [
    {
     "data": {
      "text/html": [
       "<div>\n",
       "<style>\n",
       "    .dataframe thead tr:only-child th {\n",
       "        text-align: right;\n",
       "    }\n",
       "\n",
       "    .dataframe thead th {\n",
       "        text-align: left;\n",
       "    }\n",
       "\n",
       "    .dataframe tbody tr th {\n",
       "        vertical-align: top;\n",
       "    }\n",
       "</style>\n",
       "<table border=\"1\" class=\"dataframe\">\n",
       "  <thead>\n",
       "    <tr style=\"text-align: right;\">\n",
       "      <th></th>\n",
       "      <th>Sepal length</th>\n",
       "      <th>Sepal width</th>\n",
       "      <th>Petal length</th>\n",
       "      <th>Petal width</th>\n",
       "      <th>Species</th>\n",
       "    </tr>\n",
       "  </thead>\n",
       "  <tbody>\n",
       "    <tr>\n",
       "      <th>0</th>\n",
       "      <td>4.3</td>\n",
       "      <td>3.0</td>\n",
       "      <td>1.1</td>\n",
       "      <td>0.1</td>\n",
       "      <td>I.setosa</td>\n",
       "    </tr>\n",
       "    <tr>\n",
       "      <th>1</th>\n",
       "      <td>4.4</td>\n",
       "      <td>2.9</td>\n",
       "      <td>1.4</td>\n",
       "      <td>0.2</td>\n",
       "      <td>I.setosa</td>\n",
       "    </tr>\n",
       "    <tr>\n",
       "      <th>2</th>\n",
       "      <td>4.4</td>\n",
       "      <td>3.0</td>\n",
       "      <td>1.3</td>\n",
       "      <td>0.2</td>\n",
       "      <td>I.setosa</td>\n",
       "    </tr>\n",
       "    <tr>\n",
       "      <th>3</th>\n",
       "      <td>4.4</td>\n",
       "      <td>3.2</td>\n",
       "      <td>1.3</td>\n",
       "      <td>0.2</td>\n",
       "      <td>I.setosa</td>\n",
       "    </tr>\n",
       "    <tr>\n",
       "      <th>4</th>\n",
       "      <td>4.5</td>\n",
       "      <td>2.3</td>\n",
       "      <td>1.3</td>\n",
       "      <td>0.3</td>\n",
       "      <td>I.setosa</td>\n",
       "    </tr>\n",
       "  </tbody>\n",
       "</table>\n",
       "</div>"
      ],
      "text/plain": [
       "   Sepal length  Sepal width  Petal length  Petal width   Species\n",
       "0           4.3          3.0           1.1          0.1  I.setosa\n",
       "1           4.4          2.9           1.4          0.2  I.setosa\n",
       "2           4.4          3.0           1.3          0.2  I.setosa\n",
       "3           4.4          3.2           1.3          0.2  I.setosa\n",
       "4           4.5          2.3           1.3          0.3  I.setosa"
      ]
     },
     "execution_count": 19,
     "metadata": {},
     "output_type": "execute_result"
    }
   ],
   "source": [
    "df.head()"
   ]
  },
  {
   "cell_type": "code",
   "execution_count": 18,
   "metadata": {
    "collapsed": true
   },
   "outputs": [],
   "source": [
    "m = df['Species'] == 'I.setosa'\n",
    "m1 = df['Species'] == 'I.versicolor'\n",
    "m2 = df['Species'] == 'I.virginica'"
   ]
  },
  {
   "cell_type": "code",
   "execution_count": 73,
   "metadata": {},
   "outputs": [
    {
     "data": {
      "text/plain": [
       "<matplotlib.axes._subplots.AxesSubplot at 0x7f88167ad150>"
      ]
     },
     "execution_count": 73,
     "metadata": {},
     "output_type": "execute_result"
    },
    {
     "data": {
      "image/png": "[encoded data removed]",
      "text/plain": [
       "<matplotlib.figure.Figure at 0x7f8814eaca50>"
      ]
     },
     "metadata": {},
     "output_type": "display_data"
    }
   ],
   "source": [
    "fig,ax = plt.subplots(2,figsize=(5,7))\n",
    "df[m].plot.scatter('Sepal length','Sepal width',c='b',label='I.setosa',ax=ax[0],legend=False)\n",
    "df[m1].plot.scatter('Sepal length','Sepal width',c='r',label='I.versicolor',ax=ax[0],legend=False)\n",
    "df[m2].plot.scatter('Sepal length','Sepal width',c='y',label='I.virginica',ax=ax[0],legend=False)\n",
    "df[m].plot.scatter('Petal length','Petal width',c='b',label='I.setosa',ax=ax[1])\n",
    "df[m1].plot.scatter('Petal length','Petal width',c='r',label='I.versicolor',ax=ax[1])\n",
    "df[m2].plot.scatter('Petal length','Petal width',c='y',label='I.virginica',ax=ax[1])"
   ]
  },
  {
   "cell_type": "code",
   "execution_count": 67,
   "metadata": {},
   "outputs": [
    {
     "data": {
      "text/plain": [
       "<matplotlib.axes._subplots.AxesSubplot at 0x7f781afe1a50>"
      ]
     },
     "execution_count": 67,
     "metadata": {},
     "output_type": "execute_result"
    },
    {
     "data": {
      "image/png": "[encoded data removed]",
      "text/plain": [
       "<matplotlib.figure.Figure at 0x7f781b47cc90>"
      ]
     },
     "metadata": {},
     "output_type": "display_data"
    }
   ],
   "source": [
    "# heapmap \n",
    "import seaborn as sb\n",
    "df_ix = df.sort_values('Species').set_index('Species')\n",
    "plt.figure(figsize=(5,15))\n",
    "sb.heatmap(df_ix)"
   ]
  },
  {
   "cell_type": "code",
   "execution_count": 78,
   "metadata": {
    "collapsed": true
   },
   "outputs": [],
   "source": [
    "df_della = pd.read_excel('./della.xlsx')"
   ]
  },
  {
   "cell_type": "code",
   "execution_count": 79,
   "metadata": {},
   "outputs": [
    {
     "data": {
      "text/html": [
       "<div>\n",
       "<style>\n",
       "    .dataframe thead tr:only-child th {\n",
       "        text-align: right;\n",
       "    }\n",
       "\n",
       "    .dataframe thead th {\n",
       "        text-align: left;\n",
       "    }\n",
       "\n",
       "    .dataframe tbody tr th {\n",
       "        vertical-align: top;\n",
       "    }\n",
       "</style>\n",
       "<table border=\"1\" class=\"dataframe\">\n",
       "  <thead>\n",
       "    <tr style=\"text-align: right;\">\n",
       "      <th></th>\n",
       "      <th>genename</th>\n",
       "      <th>length (bp)</th>\n",
       "      <th>seq</th>\n",
       "    </tr>\n",
       "  </thead>\n",
       "  <tbody>\n",
       "    <tr>\n",
       "      <th>0</th>\n",
       "      <td>AF451165.1</td>\n",
       "      <td>432</td>\n",
       "      <td>TGAAATTTACCAGATTACACTGGGTTAAGAATGTGAAAACGCTGCC...</td>\n",
       "    </tr>\n",
       "    <tr>\n",
       "      <th>1</th>\n",
       "      <td>GW430489.1</td>\n",
       "      <td>356</td>\n",
       "      <td>TGACTAATTGAATTTGAACTCGTCTCAAAGTTTATACAGCTTCCTG...</td>\n",
       "    </tr>\n",
       "    <tr>\n",
       "      <th>2</th>\n",
       "      <td>GW470959.1</td>\n",
       "      <td>685</td>\n",
       "      <td>AATTGCATCAGCTTTTATCTAGGCCAGGGGCTATTGAAAAAGTCTT...</td>\n",
       "    </tr>\n",
       "    <tr>\n",
       "      <th>3</th>\n",
       "      <td>EH368340.1</td>\n",
       "      <td>517</td>\n",
       "      <td>GCAGGAGTTTTAGGCTTTGTGGGAGCAGCAGCTGGTGGTGTAGTAG...</td>\n",
       "    </tr>\n",
       "    <tr>\n",
       "      <th>4</th>\n",
       "      <td>AF451177.1</td>\n",
       "      <td>1097</td>\n",
       "      <td>GTTGCAGCTTCCTAGAGTTCTTTTTAAGAACAAACTATGGTTATTT...</td>\n",
       "    </tr>\n",
       "  </tbody>\n",
       "</table>\n",
       "</div>"
      ],
      "text/plain": [
       "     genename  length (bp)                                                seq\n",
       "0  AF451165.1          432  TGAAATTTACCAGATTACACTGGGTTAAGAATGTGAAAACGCTGCC...\n",
       "1  GW430489.1          356  TGACTAATTGAATTTGAACTCGTCTCAAAGTTTATACAGCTTCCTG...\n",
       "2  GW470959.1          685  AATTGCATCAGCTTTTATCTAGGCCAGGGGCTATTGAAAAAGTCTT...\n",
       "3  EH368340.1          517  GCAGGAGTTTTAGGCTTTGTGGGAGCAGCAGCTGGTGGTGTAGTAG...\n",
       "4  AF451177.1         1097  GTTGCAGCTTCCTAGAGTTCTTTTTAAGAACAAACTATGGTTATTT..."
      ]
     },
     "execution_count": 79,
     "metadata": {},
     "output_type": "execute_result"
    }
   ],
   "source": [
    "df_della.head()"
   ]
  },
  {
   "cell_type": "code",
   "execution_count": 80,
   "metadata": {},
   "outputs": [
    {
     "data": {
      "text/plain": [
       "array([[<matplotlib.axes._subplots.AxesSubplot object at 0x7f88147ebc90>]], dtype=object)"
      ]
     },
     "execution_count": 80,
     "metadata": {},
     "output_type": "execute_result"
    },
    {
     "data": {
      "image/png": "[encoded data removed]",
      "text/plain": [
       "<matplotlib.figure.Figure at 0x7f881481c450>"
      ]
     },
     "metadata": {},
     "output_type": "display_data"
    }
   ],
   "source": [
    "df_della.hist('length (bp)')"
   ]
  },
  {
   "cell_type": "code",
   "execution_count": null,
   "metadata": {
    "collapsed": true
   },
   "outputs": [],
   "source": []
  }
 ],
 "metadata": {
  "kernelspec": {
   "display_name": "Python [default]",
   "language": "python",
   "name": "python2"
  },
  "language_info": {
   "codemirror_mode": {
    "name": "ipython",
    "version": 2
   },
   "file_extension": ".py",
   "mimetype": "text/x-python",
   "name": "python",
   "nbconvert_exporter": "python",
   "pygments_lexer": "ipython2",
   "version": "2.7.13"
  }
 },
 "nbformat": 4,
 "nbformat_minor": 2
}
