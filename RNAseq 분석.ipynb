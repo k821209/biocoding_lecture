{
 "cells": [
  {
   "cell_type": "markdown",
   "metadata": {},
   "source": [
    "## 수업 목표 : RNAseq 데이터를 관찰하고 원하는 유전자 데이터를 수집할 수 있다. "
   ]
  },
  {
   "cell_type": "markdown",
   "metadata": {},
   "source": [
    "RNAseq 은 주로 Illumina 라는 기계를 통해 유전자들의 발현값을 관찰하는 방법을 말함. "
   ]
  },
  {
   "cell_type": "markdown",
   "metadata": {},
   "source": [
    "![](https://image.slidesharecdn.com/20101210ngscourse-101208080158-phpapp01/95/20110114-next-generation-sequencing-course-65-728.jpg?cb=1303919918)"
   ]
  },
  {
   "cell_type": "code",
   "execution_count": 1,
   "metadata": {
    "collapsed": true
   },
   "outputs": [],
   "source": [
    "%matplotlib inline\n",
    "import pandas as pd \n",
    "import numpy as np\n",
    "import matplotlib.pyplot as plt"
   ]
  },
  {
   "cell_type": "code",
   "execution_count": 2,
   "metadata": {
    "collapsed": true
   },
   "outputs": [],
   "source": [
    "df = pd.read_excel('./file_RNAseq/RNAseq_result.xlsx')"
   ]
  },
  {
   "cell_type": "code",
   "execution_count": 3,
   "metadata": {},
   "outputs": [
    {
     "data": {
      "text/html": [
       "<div>\n",
       "<style>\n",
       "    .dataframe thead tr:only-child th {\n",
       "        text-align: right;\n",
       "    }\n",
       "\n",
       "    .dataframe thead th {\n",
       "        text-align: left;\n",
       "    }\n",
       "\n",
       "    .dataframe tbody tr th {\n",
       "        vertical-align: top;\n",
       "    }\n",
       "</style>\n",
       "<table border=\"1\" class=\"dataframe\">\n",
       "  <thead>\n",
       "    <tr style=\"text-align: right;\">\n",
       "      <th></th>\n",
       "      <th>target_id</th>\n",
       "      <th>WT1</th>\n",
       "      <th>WT2</th>\n",
       "      <th>WT3</th>\n",
       "      <th>Treat1</th>\n",
       "      <th>Treat2</th>\n",
       "      <th>Treat3</th>\n",
       "      <th>Treat4</th>\n",
       "      <th>Treat5</th>\n",
       "      <th>Treat6</th>\n",
       "    </tr>\n",
       "  </thead>\n",
       "  <tbody>\n",
       "    <tr>\n",
       "      <th>0</th>\n",
       "      <td>ENSMUST00000177564.1</td>\n",
       "      <td>0.0</td>\n",
       "      <td>0.0</td>\n",
       "      <td>0.0</td>\n",
       "      <td>0.0</td>\n",
       "      <td>0.0</td>\n",
       "      <td>0.0</td>\n",
       "      <td>0.0</td>\n",
       "      <td>0.0</td>\n",
       "      <td>0.0</td>\n",
       "    </tr>\n",
       "    <tr>\n",
       "      <th>1</th>\n",
       "      <td>ENSMUST00000196221.1</td>\n",
       "      <td>0.0</td>\n",
       "      <td>0.0</td>\n",
       "      <td>0.0</td>\n",
       "      <td>0.0</td>\n",
       "      <td>0.0</td>\n",
       "      <td>0.0</td>\n",
       "      <td>0.0</td>\n",
       "      <td>0.0</td>\n",
       "      <td>0.0</td>\n",
       "    </tr>\n",
       "    <tr>\n",
       "      <th>2</th>\n",
       "      <td>ENSMUST00000179664.1</td>\n",
       "      <td>0.0</td>\n",
       "      <td>0.0</td>\n",
       "      <td>0.0</td>\n",
       "      <td>0.0</td>\n",
       "      <td>0.0</td>\n",
       "      <td>0.0</td>\n",
       "      <td>0.0</td>\n",
       "      <td>0.0</td>\n",
       "      <td>0.0</td>\n",
       "    </tr>\n",
       "    <tr>\n",
       "      <th>3</th>\n",
       "      <td>ENSMUST00000178537.1</td>\n",
       "      <td>0.0</td>\n",
       "      <td>0.0</td>\n",
       "      <td>0.0</td>\n",
       "      <td>0.0</td>\n",
       "      <td>0.0</td>\n",
       "      <td>0.0</td>\n",
       "      <td>0.0</td>\n",
       "      <td>0.0</td>\n",
       "      <td>0.0</td>\n",
       "    </tr>\n",
       "    <tr>\n",
       "      <th>4</th>\n",
       "      <td>ENSMUST00000178862.1</td>\n",
       "      <td>0.0</td>\n",
       "      <td>0.0</td>\n",
       "      <td>0.0</td>\n",
       "      <td>0.0</td>\n",
       "      <td>0.0</td>\n",
       "      <td>0.0</td>\n",
       "      <td>0.0</td>\n",
       "      <td>0.0</td>\n",
       "      <td>0.0</td>\n",
       "    </tr>\n",
       "    <tr>\n",
       "      <th>5</th>\n",
       "      <td>ENSMUST00000179520.1</td>\n",
       "      <td>0.0</td>\n",
       "      <td>0.0</td>\n",
       "      <td>0.0</td>\n",
       "      <td>0.0</td>\n",
       "      <td>0.0</td>\n",
       "      <td>0.0</td>\n",
       "      <td>0.0</td>\n",
       "      <td>0.0</td>\n",
       "      <td>0.0</td>\n",
       "    </tr>\n",
       "    <tr>\n",
       "      <th>6</th>\n",
       "      <td>ENSMUST00000179883.1</td>\n",
       "      <td>0.0</td>\n",
       "      <td>0.0</td>\n",
       "      <td>0.0</td>\n",
       "      <td>0.0</td>\n",
       "      <td>0.0</td>\n",
       "      <td>0.0</td>\n",
       "      <td>0.0</td>\n",
       "      <td>0.0</td>\n",
       "      <td>0.0</td>\n",
       "    </tr>\n",
       "    <tr>\n",
       "      <th>7</th>\n",
       "      <td>ENSMUST00000195858.1</td>\n",
       "      <td>0.0</td>\n",
       "      <td>0.0</td>\n",
       "      <td>0.0</td>\n",
       "      <td>0.0</td>\n",
       "      <td>0.0</td>\n",
       "      <td>0.0</td>\n",
       "      <td>0.0</td>\n",
       "      <td>0.0</td>\n",
       "      <td>0.0</td>\n",
       "    </tr>\n",
       "    <tr>\n",
       "      <th>8</th>\n",
       "      <td>ENSMUST00000179932.1</td>\n",
       "      <td>0.0</td>\n",
       "      <td>0.0</td>\n",
       "      <td>0.0</td>\n",
       "      <td>0.0</td>\n",
       "      <td>0.0</td>\n",
       "      <td>0.0</td>\n",
       "      <td>0.0</td>\n",
       "      <td>0.0</td>\n",
       "      <td>0.0</td>\n",
       "    </tr>\n",
       "    <tr>\n",
       "      <th>9</th>\n",
       "      <td>ENSMUST00000180001.1</td>\n",
       "      <td>0.0</td>\n",
       "      <td>0.0</td>\n",
       "      <td>0.0</td>\n",
       "      <td>0.0</td>\n",
       "      <td>0.0</td>\n",
       "      <td>0.0</td>\n",
       "      <td>0.0</td>\n",
       "      <td>0.0</td>\n",
       "      <td>0.0</td>\n",
       "    </tr>\n",
       "  </tbody>\n",
       "</table>\n",
       "</div>"
      ],
      "text/plain": [
       "              target_id  WT1  WT2  WT3  Treat1  Treat2  Treat3  Treat4  \\\n",
       "0  ENSMUST00000177564.1  0.0  0.0  0.0     0.0     0.0     0.0     0.0   \n",
       "1  ENSMUST00000196221.1  0.0  0.0  0.0     0.0     0.0     0.0     0.0   \n",
       "2  ENSMUST00000179664.1  0.0  0.0  0.0     0.0     0.0     0.0     0.0   \n",
       "3  ENSMUST00000178537.1  0.0  0.0  0.0     0.0     0.0     0.0     0.0   \n",
       "4  ENSMUST00000178862.1  0.0  0.0  0.0     0.0     0.0     0.0     0.0   \n",
       "5  ENSMUST00000179520.1  0.0  0.0  0.0     0.0     0.0     0.0     0.0   \n",
       "6  ENSMUST00000179883.1  0.0  0.0  0.0     0.0     0.0     0.0     0.0   \n",
       "7  ENSMUST00000195858.1  0.0  0.0  0.0     0.0     0.0     0.0     0.0   \n",
       "8  ENSMUST00000179932.1  0.0  0.0  0.0     0.0     0.0     0.0     0.0   \n",
       "9  ENSMUST00000180001.1  0.0  0.0  0.0     0.0     0.0     0.0     0.0   \n",
       "\n",
       "   Treat5  Treat6  \n",
       "0     0.0     0.0  \n",
       "1     0.0     0.0  \n",
       "2     0.0     0.0  \n",
       "3     0.0     0.0  \n",
       "4     0.0     0.0  \n",
       "5     0.0     0.0  \n",
       "6     0.0     0.0  \n",
       "7     0.0     0.0  \n",
       "8     0.0     0.0  \n",
       "9     0.0     0.0  "
      ]
     },
     "execution_count": 3,
     "metadata": {},
     "output_type": "execute_result"
    }
   ],
   "source": [
    "df.head(10) "
   ]
  },
  {
   "cell_type": "code",
   "execution_count": 4,
   "metadata": {},
   "outputs": [
    {
     "data": {
      "text/plain": [
       "(109282, 10)"
      ]
     },
     "execution_count": 4,
     "metadata": {},
     "output_type": "execute_result"
    }
   ],
   "source": [
    "df.shape "
   ]
  },
  {
   "cell_type": "markdown",
   "metadata": {},
   "source": [
    "* 총 11만개에 가까운 mRNA 발현값을 관찰할 수 있었다. \n",
    "* **각 mRNA가 각 sample에 따라 어떤 발현을 보이는지 한눈에 볼 수 있도록 시각화를 해보자 **"
   ]
  },
  {
   "cell_type": "code",
   "execution_count": 5,
   "metadata": {},
   "outputs": [
    {
     "data": {
      "text/plain": [
       "<matplotlib.figure.Figure at 0x7f201e5e6a90>"
      ]
     },
     "metadata": {},
     "output_type": "display_data"
    },
    {
     "data": {
      "image/png": "[encoded data removed]",
      "text/plain": [
       "<matplotlib.figure.Figure at 0x7f2020d29590>"
      ]
     },
     "metadata": {},
     "output_type": "display_data"
    }
   ],
   "source": [
    "matrix = df.values[:,1:].astype(float)\n",
    "plt.figure(figsize=(100,100))\n",
    "plt.matshow(matrix,aspect='auto')\n",
    "plt.show()"
   ]
  },
  {
   "cell_type": "markdown",
   "metadata": {},
   "source": [
    "* 표에나오는 모든 유전자들의 발현값을 보고싶어서 matshow를 했는데 온통 파란색만 나온다. \n",
    "* 그 이유는 각 유전자들의 maximum 발현값이 서로다르기 때문이고 maximum 발현값이 지나치게 높은 유전자 때문에 색깔이 적절히 할당이 되지 않기 때문이다. \n",
    "* 따라서 각 유전자의 발현값을 해당 유전자의 발현값 분포에 맞추어 보정을 해줘야함\n",
    "* 각 유전자의 발현값을 [z-score](https://ko.wikipedia.org/wiki/%ED%91%9C%EC%A4%80_%EC%A0%90%EC%88%98) 로 변형시켜보자\n",
    "![](https://wikimedia.org/api/rest_v1/media/math/render/svg/e61469e99c0c981d3f5813693366f17f9710dead)"
   ]
  },
  {
   "cell_type": "code",
   "execution_count": 6,
   "metadata": {},
   "outputs": [
    {
     "data": {
      "text/plain": [
       "array([[ 0.,  0.,  0., ...,  0.,  0.,  0.],\n",
       "       [ 0.,  0.,  0., ...,  0.,  0.,  0.],\n",
       "       [ 0.,  0.,  0., ...,  0.,  0.,  0.],\n",
       "       ..., \n",
       "       [ 0.,  0.,  0., ...,  0.,  0.,  0.],\n",
       "       [ 0.,  0.,  0., ...,  0.,  0.,  0.],\n",
       "       [ 0.,  0.,  0., ...,  0.,  0.,  0.]])"
      ]
     },
     "execution_count": 6,
     "metadata": {},
     "output_type": "execute_result"
    }
   ],
   "source": [
    "matrix"
   ]
  },
  {
   "cell_type": "code",
   "execution_count": 7,
   "metadata": {
    "collapsed": true
   },
   "outputs": [],
   "source": [
    "row_mean = np.mean(matrix,axis=1)\n",
    "row_std  = np.std(matrix,axis=1)"
   ]
  },
  {
   "cell_type": "code",
   "execution_count": 8,
   "metadata": {},
   "outputs": [
    {
     "name": "stderr",
     "output_type": "stream",
     "text": [
      "/home/k821209/miniconda2/lib/python2.7/site-packages/ipykernel/__main__.py:1: RuntimeWarning: invalid value encountered in divide\n",
      "  if __name__ == '__main__':\n"
     ]
    },
    {
     "data": {
      "text/plain": [
       "<matplotlib.figure.Figure at 0x7f20480b6a50>"
      ]
     },
     "metadata": {},
     "output_type": "display_data"
    },
    {
     "data": {
      "image/png": "[encoded data removed]",
      "text/plain": [
       "<matplotlib.figure.Figure at 0x7f2020d37210>"
      ]
     },
     "metadata": {},
     "output_type": "display_data"
    }
   ],
   "source": [
    "modified_matrix = ((matrix.T - row_mean)/row_std).T\n",
    "plt.figure(figsize=(100,100))\n",
    "plt.matshow(modified_matrix,aspect='auto')\n",
    "plt.show()"
   ]
  },
  {
   "cell_type": "code",
   "execution_count": 9,
   "metadata": {},
   "outputs": [
    {
     "name": "stderr",
     "output_type": "stream",
     "text": [
      "/home/k821209/miniconda2/lib/python2.7/site-packages/ipykernel/__main__.py:1: RuntimeWarning: invalid value encountered in divide\n",
      "  if __name__ == '__main__':\n"
     ]
    },
    {
     "data": {
      "text/plain": [
       "<matplotlib.figure.Figure at 0x7f201ecc3950>"
      ]
     },
     "metadata": {},
     "output_type": "display_data"
    },
    {
     "data": {
      "image/png": "[encoded data removed]",
      "text/plain": [
       "<matplotlib.figure.Figure at 0x7f201ecc3890>"
      ]
     },
     "metadata": {},
     "output_type": "display_data"
    }
   ],
   "source": [
    "modified_matrix = ((matrix.T - row_mean)/row_std).T\n",
    "m = ~np.isnan(modified_matrix[:,0])\n",
    "modified_matrix_nonan = modified_matrix[m]\n",
    "plt.figure(figsize=(100,100))\n",
    "plt.matshow(modified_matrix_nonan,aspect='auto')\n",
    "plt.show()"
   ]
  },
  {
   "cell_type": "markdown",
   "metadata": {},
   "source": [
    "* 총 몇개의 유전자 발현 값을 그릴 수 있었는가?"
   ]
  },
  {
   "cell_type": "code",
   "execution_count": 10,
   "metadata": {},
   "outputs": [
    {
     "data": {
      "text/plain": [
       "(81845, 9)"
      ]
     },
     "execution_count": 10,
     "metadata": {},
     "output_type": "execute_result"
    }
   ],
   "source": [
    "modified_matrix_nonan.shape"
   ]
  },
  {
   "cell_type": "markdown",
   "metadata": {},
   "source": [
    "* 총 53553 개의 유전자 발현 값을 그릴 수 있었다.\n",
    "\n",
    "---"
   ]
  },
  {
   "cell_type": "markdown",
   "metadata": {},
   "source": [
    "* 각각의 수치는 해당 유전자의 발현 값을 나타낸다. transcript expression \n",
    "* WT은 일반 쥐의 세포 \n",
    "* Treat은 형질전환을 통해 특정 유전자의 발현을 억제한 세포이다. \n",
    "* 정상세포의 유전자 발현, 형질전환된 세포의 유전자 발현값을 찾아보자. \n",
    "* 정상세포의 경우는 3번의 관찰이 있고 형질전환된 세포의 경우 총 6번의 관찰이 있다. \n",
    "* **정상세포 각 유전자의 평균 발현 값, 형질전환된 세포 각 유전자의 평균 발현 값을 계산해보자** "
   ]
  },
  {
   "cell_type": "code",
   "execution_count": 11,
   "metadata": {
    "collapsed": true
   },
   "outputs": [],
   "source": [
    "df['WT_mean'] = df.apply(lambda x : np.mean([x['WT1'],x['WT2'],x['WT3']]),axis = 1)"
   ]
  },
  {
   "cell_type": "code",
   "execution_count": 12,
   "metadata": {
    "collapsed": true
   },
   "outputs": [],
   "source": [
    "df['TT_mean'] = df.apply(lambda x : np.mean([x['Treat1'],x['Treat2'],x['Treat3'],x['Treat4'],x['Treat5'],x['Treat6']]),axis = 1)"
   ]
  },
  {
   "cell_type": "code",
   "execution_count": 13,
   "metadata": {},
   "outputs": [
    {
     "data": {
      "text/html": [
       "<div>\n",
       "<style>\n",
       "    .dataframe thead tr:only-child th {\n",
       "        text-align: right;\n",
       "    }\n",
       "\n",
       "    .dataframe thead th {\n",
       "        text-align: left;\n",
       "    }\n",
       "\n",
       "    .dataframe tbody tr th {\n",
       "        vertical-align: top;\n",
       "    }\n",
       "</style>\n",
       "<table border=\"1\" class=\"dataframe\">\n",
       "  <thead>\n",
       "    <tr style=\"text-align: right;\">\n",
       "      <th></th>\n",
       "      <th>target_id</th>\n",
       "      <th>WT1</th>\n",
       "      <th>WT2</th>\n",
       "      <th>WT3</th>\n",
       "      <th>Treat1</th>\n",
       "      <th>Treat2</th>\n",
       "      <th>Treat3</th>\n",
       "      <th>Treat4</th>\n",
       "      <th>Treat5</th>\n",
       "      <th>Treat6</th>\n",
       "      <th>WT_mean</th>\n",
       "      <th>TT_mean</th>\n",
       "    </tr>\n",
       "  </thead>\n",
       "  <tbody>\n",
       "    <tr>\n",
       "      <th>0</th>\n",
       "      <td>ENSMUST00000177564.1</td>\n",
       "      <td>0.0</td>\n",
       "      <td>0.0</td>\n",
       "      <td>0.0</td>\n",
       "      <td>0.0</td>\n",
       "      <td>0.0</td>\n",
       "      <td>0.0</td>\n",
       "      <td>0.0</td>\n",
       "      <td>0.0</td>\n",
       "      <td>0.0</td>\n",
       "      <td>0.0</td>\n",
       "      <td>0.0</td>\n",
       "    </tr>\n",
       "    <tr>\n",
       "      <th>1</th>\n",
       "      <td>ENSMUST00000196221.1</td>\n",
       "      <td>0.0</td>\n",
       "      <td>0.0</td>\n",
       "      <td>0.0</td>\n",
       "      <td>0.0</td>\n",
       "      <td>0.0</td>\n",
       "      <td>0.0</td>\n",
       "      <td>0.0</td>\n",
       "      <td>0.0</td>\n",
       "      <td>0.0</td>\n",
       "      <td>0.0</td>\n",
       "      <td>0.0</td>\n",
       "    </tr>\n",
       "    <tr>\n",
       "      <th>2</th>\n",
       "      <td>ENSMUST00000179664.1</td>\n",
       "      <td>0.0</td>\n",
       "      <td>0.0</td>\n",
       "      <td>0.0</td>\n",
       "      <td>0.0</td>\n",
       "      <td>0.0</td>\n",
       "      <td>0.0</td>\n",
       "      <td>0.0</td>\n",
       "      <td>0.0</td>\n",
       "      <td>0.0</td>\n",
       "      <td>0.0</td>\n",
       "      <td>0.0</td>\n",
       "    </tr>\n",
       "    <tr>\n",
       "      <th>3</th>\n",
       "      <td>ENSMUST00000178537.1</td>\n",
       "      <td>0.0</td>\n",
       "      <td>0.0</td>\n",
       "      <td>0.0</td>\n",
       "      <td>0.0</td>\n",
       "      <td>0.0</td>\n",
       "      <td>0.0</td>\n",
       "      <td>0.0</td>\n",
       "      <td>0.0</td>\n",
       "      <td>0.0</td>\n",
       "      <td>0.0</td>\n",
       "      <td>0.0</td>\n",
       "    </tr>\n",
       "    <tr>\n",
       "      <th>4</th>\n",
       "      <td>ENSMUST00000178862.1</td>\n",
       "      <td>0.0</td>\n",
       "      <td>0.0</td>\n",
       "      <td>0.0</td>\n",
       "      <td>0.0</td>\n",
       "      <td>0.0</td>\n",
       "      <td>0.0</td>\n",
       "      <td>0.0</td>\n",
       "      <td>0.0</td>\n",
       "      <td>0.0</td>\n",
       "      <td>0.0</td>\n",
       "      <td>0.0</td>\n",
       "    </tr>\n",
       "  </tbody>\n",
       "</table>\n",
       "</div>"
      ],
      "text/plain": [
       "              target_id  WT1  WT2  WT3  Treat1  Treat2  Treat3  Treat4  \\\n",
       "0  ENSMUST00000177564.1  0.0  0.0  0.0     0.0     0.0     0.0     0.0   \n",
       "1  ENSMUST00000196221.1  0.0  0.0  0.0     0.0     0.0     0.0     0.0   \n",
       "2  ENSMUST00000179664.1  0.0  0.0  0.0     0.0     0.0     0.0     0.0   \n",
       "3  ENSMUST00000178537.1  0.0  0.0  0.0     0.0     0.0     0.0     0.0   \n",
       "4  ENSMUST00000178862.1  0.0  0.0  0.0     0.0     0.0     0.0     0.0   \n",
       "\n",
       "   Treat5  Treat6  WT_mean  TT_mean  \n",
       "0     0.0     0.0      0.0      0.0  \n",
       "1     0.0     0.0      0.0      0.0  \n",
       "2     0.0     0.0      0.0      0.0  \n",
       "3     0.0     0.0      0.0      0.0  \n",
       "4     0.0     0.0      0.0      0.0  "
      ]
     },
     "execution_count": 13,
     "metadata": {},
     "output_type": "execute_result"
    }
   ],
   "source": [
    "df.head()"
   ]
  },
  {
   "cell_type": "code",
   "execution_count": 19,
   "metadata": {},
   "outputs": [
    {
     "name": "stderr",
     "output_type": "stream",
     "text": [
      "/home/k821209/miniconda2/lib/python2.7/site-packages/ipykernel/__main__.py:2: RuntimeWarning: divide by zero encountered in divide\n",
      "  from ipykernel import kernelapp as app\n",
      "/home/k821209/miniconda2/lib/python2.7/site-packages/ipykernel/__main__.py:2: RuntimeWarning: invalid value encountered in divide\n",
      "  from ipykernel import kernelapp as app\n"
     ]
    }
   ],
   "source": [
    "# WT의 평균 발현값과 Treat의 평균 발현값의 차이를 구하기 위해 나누어 보자 \n",
    "fc = df.WT_mean.values / df.TT_mean.values"
   ]
  },
  {
   "cell_type": "code",
   "execution_count": 168,
   "metadata": {
    "collapsed": true
   },
   "outputs": [],
   "source": [
    "# 나누어진 값들중 분모가 0이라서 nan이 된 값들을 제거해보자. \n",
    "mrnas = df.target_id\n",
    "m     = ~np.isnan(fc)\n",
    "m1    = ~np.isinf(fc)\n",
    "m2    = ~(fc == 0)\n",
    "fc_nonan = fc[m&m1&m2]\n",
    "mrnas_nonan = mrnas[m&m1&m2]"
   ]
  },
  {
   "cell_type": "code",
   "execution_count": 169,
   "metadata": {},
   "outputs": [
    {
     "data": {
      "text/plain": [
       "(68348,)"
      ]
     },
     "execution_count": 169,
     "metadata": {},
     "output_type": "execute_result"
    }
   ],
   "source": [
    "fc_nonan.shape"
   ]
  },
  {
   "cell_type": "code",
   "execution_count": 170,
   "metadata": {
    "collapsed": true
   },
   "outputs": [],
   "source": [
    "# 제거된 목록에서 WT에서 Treat보다 10배 이상 발현하는 유전자들을 찾자. \n",
    "m = (fc_nonan > 10)\n",
    "fc_nonan_wt_high    = fc_nonan[m]\n",
    "mrnas_nonan_wt_high = mrnas_nonan[m]"
   ]
  },
  {
   "cell_type": "code",
   "execution_count": 171,
   "metadata": {},
   "outputs": [
    {
     "data": {
      "text/plain": [
       "1341"
      ]
     },
     "execution_count": 171,
     "metadata": {},
     "output_type": "execute_result"
    }
   ],
   "source": [
    "len(mrnas_nonan_wt_high)"
   ]
  },
  {
   "cell_type": "markdown",
   "metadata": {},
   "source": [
    "* 총 1341개의 유전자들이 평균적으로 WT에서 Treat보다 10배 이상 발현하고 있다.  \n",
    "\n",
    " "
   ]
  },
  {
   "cell_type": "code",
   "execution_count": 172,
   "metadata": {},
   "outputs": [],
   "source": [
    "m = np.array([True if x in set(mrnas_nonan_wt_high) else False for x in df.target_id])"
   ]
  },
  {
   "cell_type": "code",
   "execution_count": 173,
   "metadata": {
    "collapsed": true
   },
   "outputs": [],
   "source": [
    "highfc_mat = modified_matrix[m]"
   ]
  },
  {
   "cell_type": "code",
   "execution_count": 174,
   "metadata": {},
   "outputs": [
    {
     "data": {
      "text/plain": [
       "<matplotlib.figure.Figure at 0x7f2018d52990>"
      ]
     },
     "metadata": {},
     "output_type": "display_data"
    },
    {
     "data": {
      "image/png": "[encoded data removed]",
      "text/plain": [
       "<matplotlib.figure.Figure at 0x7f2018d52210>"
      ]
     },
     "metadata": {},
     "output_type": "display_data"
    }
   ],
   "source": [
    "plt.figure(figsize=(100,100))\n",
    "plt.matshow(highfc_mat,aspect='auto')\n",
    "plt.show()"
   ]
  },
  {
   "cell_type": "markdown",
   "metadata": {},
   "source": [
    "* 실습 : modified_matrix 값에서 WT 의 standard deviation, Treat의 standard deviation 이 0.5보다 작은 유전자만 가져와서 heatmap을 그려보자"
   ]
  },
  {
   "cell_type": "code",
   "execution_count": 82,
   "metadata": {},
   "outputs": [],
   "source": [
    "# 무슨 유전자들이 저렇게 발현하는지 봐야한다. \n",
    "df_annotation = pd.read_csv('./file_RNAseq/mouse_genes_GRCm38.p5_transcript_version.txt',sep='\\t')"
   ]
  },
  {
   "cell_type": "code",
   "execution_count": 83,
   "metadata": {},
   "outputs": [
    {
     "data": {
      "text/html": [
       "<div>\n",
       "<style>\n",
       "    .dataframe thead tr:only-child th {\n",
       "        text-align: right;\n",
       "    }\n",
       "\n",
       "    .dataframe thead th {\n",
       "        text-align: left;\n",
       "    }\n",
       "\n",
       "    .dataframe tbody tr th {\n",
       "        vertical-align: top;\n",
       "    }\n",
       "</style>\n",
       "<table border=\"1\" class=\"dataframe\">\n",
       "  <thead>\n",
       "    <tr style=\"text-align: right;\">\n",
       "      <th></th>\n",
       "      <th>Gene stable ID</th>\n",
       "      <th>Transcript stable ID</th>\n",
       "      <th>Gene name</th>\n",
       "      <th>Gene description</th>\n",
       "      <th>Transcript stable ID version</th>\n",
       "    </tr>\n",
       "  </thead>\n",
       "  <tbody>\n",
       "    <tr>\n",
       "      <th>0</th>\n",
       "      <td>ENSMUSG00000064372</td>\n",
       "      <td>ENSMUST00000082423</td>\n",
       "      <td>mt-Tp</td>\n",
       "      <td>mitochondrially encoded tRNA proline [Source:M...</td>\n",
       "      <td>ENSMUST00000082423.1</td>\n",
       "    </tr>\n",
       "    <tr>\n",
       "      <th>1</th>\n",
       "      <td>ENSMUSG00000064371</td>\n",
       "      <td>ENSMUST00000082422</td>\n",
       "      <td>mt-Tt</td>\n",
       "      <td>mitochondrially encoded tRNA threonine [Source...</td>\n",
       "      <td>ENSMUST00000082422.1</td>\n",
       "    </tr>\n",
       "    <tr>\n",
       "      <th>2</th>\n",
       "      <td>ENSMUSG00000064370</td>\n",
       "      <td>ENSMUST00000082421</td>\n",
       "      <td>mt-Cytb</td>\n",
       "      <td>mitochondrially encoded cytochrome b [Source:M...</td>\n",
       "      <td>ENSMUST00000082421.1</td>\n",
       "    </tr>\n",
       "    <tr>\n",
       "      <th>3</th>\n",
       "      <td>ENSMUSG00000064369</td>\n",
       "      <td>ENSMUST00000082420</td>\n",
       "      <td>mt-Te</td>\n",
       "      <td>mitochondrially encoded tRNA glutamic acid [So...</td>\n",
       "      <td>ENSMUST00000082420.1</td>\n",
       "    </tr>\n",
       "    <tr>\n",
       "      <th>4</th>\n",
       "      <td>ENSMUSG00000064368</td>\n",
       "      <td>ENSMUST00000082419</td>\n",
       "      <td>mt-Nd6</td>\n",
       "      <td>mitochondrially encoded NADH dehydrogenase 6 [...</td>\n",
       "      <td>ENSMUST00000082419.1</td>\n",
       "    </tr>\n",
       "  </tbody>\n",
       "</table>\n",
       "</div>"
      ],
      "text/plain": [
       "       Gene stable ID Transcript stable ID Gene name  \\\n",
       "0  ENSMUSG00000064372   ENSMUST00000082423     mt-Tp   \n",
       "1  ENSMUSG00000064371   ENSMUST00000082422     mt-Tt   \n",
       "2  ENSMUSG00000064370   ENSMUST00000082421   mt-Cytb   \n",
       "3  ENSMUSG00000064369   ENSMUST00000082420     mt-Te   \n",
       "4  ENSMUSG00000064368   ENSMUST00000082419    mt-Nd6   \n",
       "\n",
       "                                    Gene description  \\\n",
       "0  mitochondrially encoded tRNA proline [Source:M...   \n",
       "1  mitochondrially encoded tRNA threonine [Source...   \n",
       "2  mitochondrially encoded cytochrome b [Source:M...   \n",
       "3  mitochondrially encoded tRNA glutamic acid [So...   \n",
       "4  mitochondrially encoded NADH dehydrogenase 6 [...   \n",
       "\n",
       "  Transcript stable ID version  \n",
       "0         ENSMUST00000082423.1  \n",
       "1         ENSMUST00000082422.1  \n",
       "2         ENSMUST00000082421.1  \n",
       "3         ENSMUST00000082420.1  \n",
       "4         ENSMUST00000082419.1  "
      ]
     },
     "execution_count": 83,
     "metadata": {},
     "output_type": "execute_result"
    }
   ],
   "source": [
    "df_annotation.head()"
   ]
  },
  {
   "cell_type": "code",
   "execution_count": 34,
   "metadata": {},
   "outputs": [
    {
     "data": {
      "text/plain": [
       "(1341,)"
      ]
     },
     "execution_count": 34,
     "metadata": {},
     "output_type": "execute_result"
    }
   ],
   "source": [
    "mrnas_nonan_wt_high.shape"
   ]
  },
  {
   "cell_type": "code",
   "execution_count": 84,
   "metadata": {},
   "outputs": [],
   "source": [
    "df_annotation_ix = df_annotation.set_index('Transcript stable ID version')"
   ]
  },
  {
   "cell_type": "code",
   "execution_count": 88,
   "metadata": {},
   "outputs": [],
   "source": [
    "df_annot_sub = df_annotation_ix.loc[mrnas_nonan_wt_high]\n",
    "#.dropna().to_excel('DEG_downregulation.xls')"
   ]
  },
  {
   "cell_type": "code",
   "execution_count": 91,
   "metadata": {},
   "outputs": [
    {
     "data": {
      "text/html": [
       "<div>\n",
       "<style>\n",
       "    .dataframe thead tr:only-child th {\n",
       "        text-align: right;\n",
       "    }\n",
       "\n",
       "    .dataframe thead th {\n",
       "        text-align: left;\n",
       "    }\n",
       "\n",
       "    .dataframe tbody tr th {\n",
       "        vertical-align: top;\n",
       "    }\n",
       "</style>\n",
       "<table border=\"1\" class=\"dataframe\">\n",
       "  <thead>\n",
       "    <tr style=\"text-align: right;\">\n",
       "      <th></th>\n",
       "      <th>Gene stable ID</th>\n",
       "      <th>Transcript stable ID</th>\n",
       "      <th>Gene name</th>\n",
       "      <th>Gene description</th>\n",
       "    </tr>\n",
       "    <tr>\n",
       "      <th>Transcript stable ID version</th>\n",
       "      <th></th>\n",
       "      <th></th>\n",
       "      <th></th>\n",
       "      <th></th>\n",
       "    </tr>\n",
       "  </thead>\n",
       "  <tbody>\n",
       "    <tr>\n",
       "      <th>ENSMUST00000166442.2</th>\n",
       "      <td>ENSMUSG00000079491</td>\n",
       "      <td>ENSMUST00000166442</td>\n",
       "      <td>H2-T10</td>\n",
       "      <td>histocompatibility 2, T region locus 10 [Sourc...</td>\n",
       "    </tr>\n",
       "    <tr>\n",
       "      <th>ENSMUST00000188251.6</th>\n",
       "      <td>ENSMUSG00000023341</td>\n",
       "      <td>ENSMUST00000188251</td>\n",
       "      <td>Mx2</td>\n",
       "      <td>MX dynamin-like GTPase 2 [Source:MGI Symbol;Ac...</td>\n",
       "    </tr>\n",
       "    <tr>\n",
       "      <th>ENSMUST00000190097.1</th>\n",
       "      <td>ENSMUSG00000023341</td>\n",
       "      <td>ENSMUST00000190097</td>\n",
       "      <td>Mx2</td>\n",
       "      <td>MX dynamin-like GTPase 2 [Source:MGI Symbol;Ac...</td>\n",
       "    </tr>\n",
       "    <tr>\n",
       "      <th>ENSMUST00000122808.1</th>\n",
       "      <td>ENSMUSG00000060183</td>\n",
       "      <td>ENSMUST00000122808</td>\n",
       "      <td>Cxcl11</td>\n",
       "      <td>chemokine (C-X-C motif) ligand 11 [Source:MGI ...</td>\n",
       "    </tr>\n",
       "    <tr>\n",
       "      <th>ENSMUST00000077820.5</th>\n",
       "      <td>ENSMUSG00000060183</td>\n",
       "      <td>ENSMUST00000077820</td>\n",
       "      <td>Cxcl11</td>\n",
       "      <td>chemokine (C-X-C motif) ligand 11 [Source:MGI ...</td>\n",
       "    </tr>\n",
       "  </tbody>\n",
       "</table>\n",
       "</div>"
      ],
      "text/plain": [
       "                                  Gene stable ID Transcript stable ID  \\\n",
       "Transcript stable ID version                                            \n",
       "ENSMUST00000166442.2          ENSMUSG00000079491   ENSMUST00000166442   \n",
       "ENSMUST00000188251.6          ENSMUSG00000023341   ENSMUST00000188251   \n",
       "ENSMUST00000190097.1          ENSMUSG00000023341   ENSMUST00000190097   \n",
       "ENSMUST00000122808.1          ENSMUSG00000060183   ENSMUST00000122808   \n",
       "ENSMUST00000077820.5          ENSMUSG00000060183   ENSMUST00000077820   \n",
       "\n",
       "                             Gene name  \\\n",
       "Transcript stable ID version             \n",
       "ENSMUST00000166442.2            H2-T10   \n",
       "ENSMUST00000188251.6               Mx2   \n",
       "ENSMUST00000190097.1               Mx2   \n",
       "ENSMUST00000122808.1            Cxcl11   \n",
       "ENSMUST00000077820.5            Cxcl11   \n",
       "\n",
       "                                                               Gene description  \n",
       "Transcript stable ID version                                                     \n",
       "ENSMUST00000166442.2          histocompatibility 2, T region locus 10 [Sourc...  \n",
       "ENSMUST00000188251.6          MX dynamin-like GTPase 2 [Source:MGI Symbol;Ac...  \n",
       "ENSMUST00000190097.1          MX dynamin-like GTPase 2 [Source:MGI Symbol;Ac...  \n",
       "ENSMUST00000122808.1          chemokine (C-X-C motif) ligand 11 [Source:MGI ...  \n",
       "ENSMUST00000077820.5          chemokine (C-X-C motif) ligand 11 [Source:MGI ...  "
      ]
     },
     "execution_count": 91,
     "metadata": {},
     "output_type": "execute_result"
    }
   ],
   "source": [
    "df_annot_sub.head()"
   ]
  },
  {
   "cell_type": "code",
   "execution_count": 96,
   "metadata": {},
   "outputs": [
    {
     "data": {
      "text/html": [
       "<div>\n",
       "<style>\n",
       "    .dataframe thead tr:only-child th {\n",
       "        text-align: right;\n",
       "    }\n",
       "\n",
       "    .dataframe thead th {\n",
       "        text-align: left;\n",
       "    }\n",
       "\n",
       "    .dataframe tbody tr th {\n",
       "        vertical-align: top;\n",
       "    }\n",
       "</style>\n",
       "<table border=\"1\" class=\"dataframe\">\n",
       "  <thead>\n",
       "    <tr style=\"text-align: right;\">\n",
       "      <th></th>\n",
       "      <th>Gene stable ID</th>\n",
       "      <th>Transcript stable ID</th>\n",
       "      <th>Gene name</th>\n",
       "      <th>Gene description</th>\n",
       "    </tr>\n",
       "    <tr>\n",
       "      <th>Transcript stable ID version</th>\n",
       "      <th></th>\n",
       "      <th></th>\n",
       "      <th></th>\n",
       "      <th></th>\n",
       "    </tr>\n",
       "  </thead>\n",
       "  <tbody>\n",
       "    <tr>\n",
       "      <th>ENSMUST00000103099.7</th>\n",
       "      <td>ENSMUSG00000017119</td>\n",
       "      <td>ENSMUST00000103099</td>\n",
       "      <td>Nbr1</td>\n",
       "      <td>neighbor of Brca1 gene 1 [Source:MGI Symbol;Ac...</td>\n",
       "    </tr>\n",
       "  </tbody>\n",
       "</table>\n",
       "</div>"
      ],
      "text/plain": [
       "                                  Gene stable ID Transcript stable ID  \\\n",
       "Transcript stable ID version                                            \n",
       "ENSMUST00000103099.7          ENSMUSG00000017119   ENSMUST00000103099   \n",
       "\n",
       "                             Gene name  \\\n",
       "Transcript stable ID version             \n",
       "ENSMUST00000103099.7              Nbr1   \n",
       "\n",
       "                                                               Gene description  \n",
       "Transcript stable ID version                                                     \n",
       "ENSMUST00000103099.7          neighbor of Brca1 gene 1 [Source:MGI Symbol;Ac...  "
      ]
     },
     "execution_count": 96,
     "metadata": {},
     "output_type": "execute_result"
    }
   ],
   "source": [
    "m = df_annotation_ix.index == 'ENSMUST00000103099.7'\n",
    "df_annotation_ix[m]"
   ]
  },
  {
   "cell_type": "code",
   "execution_count": 95,
   "metadata": {},
   "outputs": [
    {
     "data": {
      "text/html": [
       "<div>\n",
       "<style>\n",
       "    .dataframe thead tr:only-child th {\n",
       "        text-align: right;\n",
       "    }\n",
       "\n",
       "    .dataframe thead th {\n",
       "        text-align: left;\n",
       "    }\n",
       "\n",
       "    .dataframe tbody tr th {\n",
       "        vertical-align: top;\n",
       "    }\n",
       "</style>\n",
       "<table border=\"1\" class=\"dataframe\">\n",
       "  <thead>\n",
       "    <tr style=\"text-align: right;\">\n",
       "      <th></th>\n",
       "      <th>target_id</th>\n",
       "      <th>WT1</th>\n",
       "      <th>WT2</th>\n",
       "      <th>WT3</th>\n",
       "      <th>Treat1</th>\n",
       "      <th>Treat2</th>\n",
       "      <th>Treat3</th>\n",
       "      <th>Treat4</th>\n",
       "      <th>Treat5</th>\n",
       "      <th>Treat6</th>\n",
       "      <th>WT_mean</th>\n",
       "      <th>TT_mean</th>\n",
       "    </tr>\n",
       "  </thead>\n",
       "  <tbody>\n",
       "    <tr>\n",
       "      <th>53126</th>\n",
       "      <td>ENSMUST00000103099.7</td>\n",
       "      <td>5.68165</td>\n",
       "      <td>1.63684</td>\n",
       "      <td>4.07306</td>\n",
       "      <td>0.687756</td>\n",
       "      <td>0.0</td>\n",
       "      <td>0.26085</td>\n",
       "      <td>1.06151</td>\n",
       "      <td>0.124626</td>\n",
       "      <td>0.339672</td>\n",
       "      <td>3.797183</td>\n",
       "      <td>0.412402</td>\n",
       "    </tr>\n",
       "  </tbody>\n",
       "</table>\n",
       "</div>"
      ],
      "text/plain": [
       "                  target_id      WT1      WT2      WT3    Treat1  Treat2  \\\n",
       "53126  ENSMUST00000103099.7  5.68165  1.63684  4.07306  0.687756     0.0   \n",
       "\n",
       "        Treat3   Treat4    Treat5    Treat6   WT_mean   TT_mean  \n",
       "53126  0.26085  1.06151  0.124626  0.339672  3.797183  0.412402  "
      ]
     },
     "execution_count": 95,
     "metadata": {},
     "output_type": "execute_result"
    }
   ],
   "source": [
    "m = df['target_id'] == 'ENSMUST00000103099.7'\n",
    "df[m]"
   ]
  },
  {
   "cell_type": "code",
   "execution_count": null,
   "metadata": {
    "collapsed": true
   },
   "outputs": [],
   "source": []
  }
 ],
 "metadata": {
  "kernelspec": {
   "display_name": "Python [default]",
   "language": "python",
   "name": "python2"
  },
  "language_info": {
   "codemirror_mode": {
    "name": "ipython",
    "version": 2
   },
   "file_extension": ".py",
   "mimetype": "text/x-python",
   "name": "python",
   "nbconvert_exporter": "python",
   "pygments_lexer": "ipython2",
   "version": "2.7.13"
  }
 },
 "nbformat": 4,
 "nbformat_minor": 2
}
